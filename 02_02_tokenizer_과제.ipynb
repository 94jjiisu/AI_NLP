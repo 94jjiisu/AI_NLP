{
  "nbformat": 4,
  "nbformat_minor": 0,
  "metadata": {
    "colab": {
      "name": "02-02-tokenizer-과제.ipynb",
      "provenance": [],
      "collapsed_sections": [
        "6dfJPT-2XMTB",
        "JHkHg6XAXoyK",
        "sEbpKyPxz6qs",
        "b7GZHAJc8R1W",
        "_8ajMz_ZCCxs",
        "zeBCtb61bG8Y"
      ]
    },
    "kernelspec": {
      "name": "python3",
      "display_name": "Python 3"
    }
  },
  "cells": [
    {
      "cell_type": "markdown",
      "metadata": {
        "id": "6dfJPT-2XMTB"
      },
      "source": [
        "# Install"
      ]
    },
    {
      "cell_type": "code",
      "metadata": {
        "colab": {
          "base_uri": "https://localhost:8080/"
        },
        "id": "a193aGJWVaqb",
        "outputId": "4ea77829-edb3-42f7-e862-ae5528e05f85"
      },
      "source": [
        "!pip install sentencepiece"
      ],
      "execution_count": 1,
      "outputs": [
        {
          "output_type": "stream",
          "text": [
            "Collecting sentencepiece\n",
            "\u001b[?25l  Downloading https://files.pythonhosted.org/packages/14/67/e42bd1181472c95c8cda79305df848264f2a7f62740995a46945d9797b67/sentencepiece-0.1.95-cp36-cp36m-manylinux2014_x86_64.whl (1.2MB)\n",
            "\u001b[K     |████████████████████████████████| 1.2MB 5.5MB/s \n",
            "\u001b[?25hInstalling collected packages: sentencepiece\n",
            "Successfully installed sentencepiece-0.1.95\n"
          ],
          "name": "stdout"
        }
      ]
    },
    {
      "cell_type": "markdown",
      "metadata": {
        "id": "JHkHg6XAXoyK"
      },
      "source": [
        "# Evn"
      ]
    },
    {
      "cell_type": "code",
      "metadata": {
        "id": "WkYXFwcBXJDG"
      },
      "source": [
        "import os\n",
        "import random\n",
        "import shutil\n",
        "import json\n",
        "import zipfile\n",
        "import math\n",
        "import copy\n",
        "import collections\n",
        "import re\n",
        "\n",
        "import matplotlib.pyplot as plt\n",
        "import pandas as pd\n",
        "import numpy as np\n",
        "import sentencepiece as spm\n",
        "import tensorflow as tf\n",
        "import tensorflow.keras.backend as K\n",
        "\n",
        "from tqdm.notebook import tqdm"
      ],
      "execution_count": 2,
      "outputs": []
    },
    {
      "cell_type": "code",
      "metadata": {
        "id": "nvjyruUlXtlR"
      },
      "source": [
        "# random seed initialize\n",
        "random_seed = 1234\n",
        "random.seed(random_seed)\n",
        "np.random.seed(random_seed)\n",
        "tf.random.set_seed(random_seed)"
      ],
      "execution_count": 3,
      "outputs": []
    },
    {
      "cell_type": "code",
      "metadata": {
        "colab": {
          "base_uri": "https://localhost:8080/"
        },
        "id": "BC3fXkhdYcYt",
        "outputId": "074214e6-6c40-42ae-939c-eec6cadc52cc"
      },
      "source": [
        "!nvidia-smi"
      ],
      "execution_count": 4,
      "outputs": [
        {
          "output_type": "stream",
          "text": [
            "NVIDIA-SMI has failed because it couldn't communicate with the NVIDIA driver. Make sure that the latest NVIDIA driver is installed and running.\n",
            "\n"
          ],
          "name": "stdout"
        }
      ]
    },
    {
      "cell_type": "code",
      "metadata": {
        "colab": {
          "base_uri": "https://localhost:8080/"
        },
        "id": "xVRdxYReYeQj",
        "outputId": "66ae8dc5-e129-434c-9c9c-57be8fbc72e5"
      },
      "source": [
        "# google drive mount\n",
        "from google.colab import drive\n",
        "drive.mount('/content/drive')"
      ],
      "execution_count": 5,
      "outputs": [
        {
          "output_type": "stream",
          "text": [
            "Mounted at /content/drive\n"
          ],
          "name": "stdout"
        }
      ]
    },
    {
      "cell_type": "code",
      "metadata": {
        "colab": {
          "base_uri": "https://localhost:8080/"
        },
        "id": "byCIiLJBbFHh",
        "outputId": "4bed7eb8-d25c-4b38-c703-f97108b43931"
      },
      "source": [
        "# data dir # 강사님 경로와 동일하게 경로를 지정하였음.\n",
        "data_dir = '/content/drive/MyDrive/Data/nlp'\n",
        "os.listdir(data_dir)"
      ],
      "execution_count": 6,
      "outputs": [
        {
          "output_type": "execute_result",
          "data": {
            "text/plain": [
              "['ko_32000.model', 'ko_32000.vocab', 'kowiki']"
            ]
          },
          "metadata": {
            "tags": []
          },
          "execution_count": 6
        }
      ]
    },
    {
      "cell_type": "code",
      "metadata": {
        "id": "2H0BLydCb7lg",
        "colab": {
          "base_uri": "https://localhost:8080/"
        },
        "outputId": "5505ad3b-b119-4833-b7df-00fe3b9b7938"
      },
      "source": [
        "# kowiki dir\n",
        "kowiki_dir = os.path.join(data_dir, 'kowiki')\n",
        "if not os.path.exists(kowiki_dir):\n",
        "    os.makedirs(kowiki_dir)\n",
        "os.listdir(kowiki_dir)"
      ],
      "execution_count": 7,
      "outputs": [
        {
          "output_type": "execute_result",
          "data": {
            "text/plain": [
              "['kowiki.txt.zip', 'my_corpus.txt']"
            ]
          },
          "metadata": {
            "tags": []
          },
          "execution_count": 7
        }
      ]
    },
    {
      "cell_type": "markdown",
      "metadata": {
        "id": "sEbpKyPxz6qs"
      },
      "source": [
        "# Corpus"
      ]
    },
    {
      "cell_type": "code",
      "metadata": {
        "id": "j3xx7dJYz9jt"
      },
      "source": [
        "text = \"\"\"위키백과의 최상위 도메인이 .com이던 시절 ko.wikipedia.com에 구판 미디어위키가 깔렸으나 한글 처리에 문제가 있어 글을 올릴 수도 없는 이름뿐인 곳이었다. 2002년 10월에 새로운 위키 소프트웨어를 쓰면서 한글 처리 문제가 풀리기 시작했지만, 가장 많은 사람이 쓰는 인터넷 익스플로러에서는 인코딩 문제가 여전했다. 이런 이유로 초기에는 도움말을 옮기거나 쓰는 일에 어려움을 겪었다. 이런 어려움이 있었는데도 위키백과 통계로는, 2002년 10월에서 2003년 7월까지 열 달 사이에 글이 13개에서 159개로 늘었고 2003년 7월과 8월 사이에는 한 달 만에 159개에서 348개로 늘어났다. 2003년 9월부터는 인터넷 익스플로러의 인코딩 문제가 사라졌으며, 대한민국 언론에서도 몇 차례 위키백과를 소개하면서 참여자가 점증하리라고 예측했다. 참고로 한국어 위키백과의 최초 문서는 2002년 10월 12일에 등재된 지미 카터 문서이다.\n",
        "2005년 6월 5일 양자장론 문서 등재를 기점으로 총 등재 문서 수가 1만 개를 돌파하였고 이어 동해 11월에 제1회 정보트러스트 어워드 인터넷 문화 일반 분야에 선정되었다. 2007년 8월 9일에는 한겨레21에서 한국어 위키백과와 위키백과 오프라인 첫 모임을 취재한 기사를 표지 이야기로 다루었다.\n",
        "2008년 광우병 촛불 시위 때 생긴 신조어인 명박산성이 한국어 위키백과에 등재되고 이 문서의 존치 여부를 두고 갑론을박의 과정이 화제가 되고 각종 매체에도 보도가 되었다. 시위대의 난입과 충돌을 방지하기 위해 거리에 설치되었던 컨테이너 박스를 이명박 정부의 불통으로 풍자를 하기 위해 사용된 이 신조어는 중립성을 지켰는지와 백과사전에 올라올 만한 문서인지가 쟁점이 되었는데 일시적으로 사용된 신조어일 뿐이라는 주장과 이미 여러 매체에서 사용되어 지속성이 보장되었다는 주장 등 논쟁이 벌어졌고 다음 아고라 등지에서 이 항목을 존치하는 방안을 지지하는 의견을 남기기 위해 여러 사람이 새로 가입하는 등 혼란이 빚어졌다. 11월 4일에는 다음커뮤니케이션에서 글로벌 세계 대백과사전을 기증받았으며, 2009년 3월에는 서울특별시로부터 콘텐츠를 기증받았다. 2009년 6월 4일에는 액세스권 등재를 기점으로 10만 개 문서 수를 돌파했다.\n",
        "2011년 4월 16일에는 대한민국에서의 위키미디어 프로젝트를 지원하는 모임을 결성할 것을 추진하는 논의가 이뤄졌고 이후 창립준비위원회 결성을 거쳐 2014년 10월 19일 창립총회를 개최하였으며, 최종적으로 2015년 11월 4일 사단법인 한국 위키미디어 협회가 결성되어 활동 중에 있다. 2019년 미국 위키미디어재단으로부터 한국 지역 지부(챕터)로 승인을 받았다.\n",
        "2012년 5월 19일에는 보비 탬블링 등재를 기점으로 총 20만 개 문서가 등재되었고 2015년 1월 5일, Rojo -Tierra- 문서 등재를 기점으로 총 30만 개 문서가 등재되었다. 2017년 10월 21일에는 충청남도 동물위생시험소 문서 등재로 40만 개의 문서까지 등재되었다.\"\"\""
      ],
      "execution_count": 8,
      "outputs": []
    },
    {
      "cell_type": "markdown",
      "metadata": {
        "id": "b7GZHAJc8R1W"
      },
      "source": [
        "# Google sentencepiece를 이용해 vocab 생성\n",
        "- https://github.com/google/sentencepiece"
      ]
    },
    {
      "cell_type": "markdown",
      "metadata": {
        "id": "_8ajMz_ZCCxs"
      },
      "source": [
        "## sentencepe 학습"
      ]
    },
    {
      "cell_type": "code",
      "metadata": {
        "id": "jQKAKbPN6miL",
        "colab": {
          "base_uri": "https://localhost:8080/"
        },
        "outputId": "c04fcf33-3780-435c-a196-1bceb5681411"
      },
      "source": [
        "os.listdir(kowiki_dir)"
      ],
      "execution_count": 9,
      "outputs": [
        {
          "output_type": "execute_result",
          "data": {
            "text/plain": [
              "['kowiki.txt.zip', 'my_corpus.txt']"
            ]
          },
          "metadata": {
            "tags": []
          },
          "execution_count": 9
        }
      ]
    },
    {
      "cell_type": "code",
      "metadata": {
        "id": "d99Y3Fkdvftw",
        "colab": {
          "base_uri": "https://localhost:8080/"
        },
        "outputId": "a8a07cdf-c003-4872-d6c8-cdb5231cb4fa"
      },
      "source": [
        "shutil.copy(os.path.join(kowiki_dir, 'my_corpus.txt'), './')\n",
        "os.listdir('./')"
      ],
      "execution_count": 10,
      "outputs": [
        {
          "output_type": "execute_result",
          "data": {
            "text/plain": [
              "['.config', 'drive', 'my_corpus.txt', 'sample_data']"
            ]
          },
          "metadata": {
            "tags": []
          },
          "execution_count": 10
        }
      ]
    },
    {
      "cell_type": "code",
      "metadata": {
        "id": "IwDPlGeeCF70"
      },
      "source": [
        "def train_sentencepiece(corpus, prefix, vocab_size=32000):\n",
        "    \"\"\"\n",
        "    sentencepiece를 이용해 vocab 학습\n",
        "    :param corpus: 학습할 말뭉치\n",
        "    :param prefix: 저장할 vocab 이름\n",
        "    :param vocab_size: vocab 개수\n",
        "    \"\"\"\n",
        "    spm.SentencePieceTrainer.train(\n",
        "        f\"--input={corpus} --model_prefix={prefix} --vocab_size={vocab_size + 7}\" +  # 7은 특수문자 개수\n",
        "        \" --model_type=unigram\" +\n",
        "        \" --max_sentence_length=999999\" +  # 문장 최대 길이\n",
        "        \" --pad_id=0 --pad_piece=[PAD]\" +  # pad token 및 id 지정\n",
        "        \" --unk_id=1 --unk_piece=[UNK]\" +  # unknown token 및 id 지정\n",
        "        \" --bos_id=2 --bos_piece=[BOS]\" +  # begin of sequence token 및 id 지정\n",
        "        \" --eos_id=3 --eos_piece=[EOS]\" +  # end of sequence token 및 id 지정\n",
        "        \" --user_defined_symbols=[SEP],[CLS],[MASK]\")  # 기타 추가 토큰 SEP: 4, CLS: 5, MASK: 6"
      ],
      "execution_count": 11,
      "outputs": []
    },
    {
      "cell_type": "code",
      "metadata": {
        "id": "CE-yJ_cSCYz0"
      },
      "source": [
        "# vocab 생성\n",
        "train_sentencepiece(f\"my_corpus.txt\", f\"my_vocab\", vocab_size=712)"
      ],
      "execution_count": 12,
      "outputs": []
    },
    {
      "cell_type": "code",
      "metadata": {
        "id": "85eoYIgZNtYa",
        "colab": {
          "base_uri": "https://localhost:8080/"
        },
        "outputId": "81f654d2-ec86-4ce1-c8d3-158e6b33a93e"
      },
      "source": [
        "os.listdir(\".\")"
      ],
      "execution_count": 13,
      "outputs": [
        {
          "output_type": "execute_result",
          "data": {
            "text/plain": [
              "['.config',\n",
              " 'my_vocab.vocab',\n",
              " 'drive',\n",
              " 'my_corpus.txt',\n",
              " 'my_vocab.model',\n",
              " 'sample_data']"
            ]
          },
          "metadata": {
            "tags": []
          },
          "execution_count": 13
        }
      ]
    },
    {
      "cell_type": "markdown",
      "metadata": {
        "id": "zeBCtb61bG8Y"
      },
      "source": [
        "## sentencepe 확인"
      ]
    },
    {
      "cell_type": "code",
      "metadata": {
        "id": "ySjtyzUGbLwg",
        "colab": {
          "base_uri": "https://localhost:8080/"
        },
        "outputId": "b1bf76a0-e1bb-4cfe-f5c8-3035753f285f"
      },
      "source": [
        "# load vocab\n",
        "vocab = spm.SentencePieceProcessor()\n",
        "vocab.load(f\"my_vocab.model\")"
      ],
      "execution_count": 14,
      "outputs": [
        {
          "output_type": "execute_result",
          "data": {
            "text/plain": [
              "True"
            ]
          },
          "metadata": {
            "tags": []
          },
          "execution_count": 14
        }
      ]
    },
    {
      "cell_type": "code",
      "metadata": {
        "id": "nJrlfRqObeEI",
        "colab": {
          "base_uri": "https://localhost:8080/"
        },
        "outputId": "233752e1-6f5a-49e7-9e27-1a753a0ae7ee"
      },
      "source": [
        "# vocab 출력\n",
        "print(f\"len: {len(vocab)}\")\n",
        "for id in range(16):\n",
        "    print(f\"{id:2d}: {vocab.id_to_piece(id)}\")"
      ],
      "execution_count": 15,
      "outputs": [
        {
          "output_type": "stream",
          "text": [
            "len: 719\n",
            " 0: [PAD]\n",
            " 1: [UNK]\n",
            " 2: [BOS]\n",
            " 3: [EOS]\n",
            " 4: [SEP]\n",
            " 5: [CLS]\n",
            " 6: [MASK]\n",
            " 7: ▁\n",
            " 8: .\n",
            " 9: 이\n",
            "10: 을\n",
            "11: 는\n",
            "12: 다\n",
            "13: 은\n",
            "14: ,\n",
            "15: 가\n"
          ],
          "name": "stdout"
        }
      ]
    },
    {
      "cell_type": "code",
      "metadata": {
        "id": "JWlGnwd9bh67",
        "colab": {
          "base_uri": "https://localhost:8080/"
        },
        "outputId": "cfca19ba-77cc-4f61-fdde-7153fdc04811"
      },
      "source": [
        "# text를 tokenize 함\n",
        "# sentence to pieces\n",
        "pieces = vocab.encode_as_pieces(text)\n",
        "print(pieces[0:100])"
      ],
      "execution_count": 16,
      "outputs": [
        {
          "output_type": "stream",
          "text": [
            "['▁위', '키', '백', '과', '의', '▁최', '상', '위', '▁', '도', '메', '인', '이', '▁', '.', 'c', 'o', 'm', '이', '던', '▁', '시', '절', '▁', 'k', 'o', '.', 'wi', 'k', 'ip', 'e', 'di', 'a', '.', 'c', 'o', 'm', '에', '▁구', '판', '▁', '미', '디', '어', '위', '키', '가', '▁', '깔', '렸', '으', '나', '▁', '한', '글', '▁', '처', '리', '에', '▁', '문', '제', '가', '▁있', '어', '▁', '글', '을', '▁', '올', '릴', '▁수', '도', '▁', '없', '는', '▁이', '름', '뿐', '인', '▁', '곳', '이', '었', '다', '.', '▁2', '00', '2', '년', '▁10', '월', '에', '▁', '새', '로', '운', '▁위', '키', '▁']\n"
          ],
          "name": "stdout"
        }
      ]
    },
    {
      "cell_type": "code",
      "metadata": {
        "id": "D1lUjSWh_MRX",
        "colab": {
          "base_uri": "https://localhost:8080/"
        },
        "outputId": "30bf79de-1e6f-4db8-b5e7-f13649a8d034"
      },
      "source": [
        "vocab.encode_as_pieces(\"나는 오늘 수원에 놀러 갔다.\")"
      ],
      "execution_count": 17,
      "outputs": [
        {
          "output_type": "execute_result",
          "data": {
            "text/plain": [
              "['▁나', '는', '▁오', '늘', '▁수', '원', '에', '▁', '놀', '러', '▁', '갔', '다', '.']"
            ]
          },
          "metadata": {
            "tags": []
          },
          "execution_count": 17
        }
      ]
    },
    {
      "cell_type": "code",
      "metadata": {
        "id": "0aaBGd8R_Ue3",
        "colab": {
          "base_uri": "https://localhost:8080/"
        },
        "outputId": "c1ac75d4-c359-473e-bbb7-9ebba47c43e1"
      },
      "source": [
        "vocab.encode_as_pieces(\"나는 오늘 배가많이고파서밥을많이먹은후 놀러 갔다.\")"
      ],
      "execution_count": 18,
      "outputs": [
        {
          "output_type": "execute_result",
          "data": {
            "text/plain": [
              "['▁나',\n",
              " '는',\n",
              " '▁오',\n",
              " '늘',\n",
              " '▁',\n",
              " '배',\n",
              " '가',\n",
              " '많',\n",
              " '이',\n",
              " '고',\n",
              " '파',\n",
              " '서',\n",
              " '밥',\n",
              " '을',\n",
              " '많',\n",
              " '이',\n",
              " '먹',\n",
              " '은',\n",
              " '후',\n",
              " '▁',\n",
              " '놀',\n",
              " '러',\n",
              " '▁',\n",
              " '갔',\n",
              " '다',\n",
              " '.']"
            ]
          },
          "metadata": {
            "tags": []
          },
          "execution_count": 18
        }
      ]
    },
    {
      "cell_type": "code",
      "metadata": {
        "id": "n2PsfHS7bt6j",
        "colab": {
          "base_uri": "https://localhost:8080/",
          "height": 215
        },
        "outputId": "610fae0c-977b-4870-99db-40f7b68d42b9"
      },
      "source": [
        "# tokenize된 값을 string 으로 복원\n",
        "# pieces to sentence\n",
        "vocab.decode_pieces(pieces)"
      ],
      "execution_count": 19,
      "outputs": [
        {
          "output_type": "execute_result",
          "data": {
            "application/vnd.google.colaboratory.intrinsic+json": {
              "type": "string"
            },
            "text/plain": [
              "'위키백과의 최상위 도메인이 .com이던 시절 ko.wikipedia.com에 구판 미디어위키가 깔렸으나 한글 처리에 문제가 있어 글을 올릴 수도 없는 이름뿐인 곳이었다. 2002년 10월에 새로운 위키 소프트웨어를 쓰면서 한글 처리 문제가 풀리기 시작했지만, 가장 많은 사람이 쓰는 인터넷 익스플로러에서는 인코딩 문제가 여전했다. 이런 이유로 초기에는 도움말을 옮기거나 쓰는 일에 어려움을 겪었다. 이런 어려움이 있었는데도 위키백과 통계로는, 2002년 10월에서 2003년 7월까지 열 달 사이에 글이 13개에서 159개로 늘었고 2003년 7월과 8월 사이에는 한 달 만에 159개에서 348개로 늘어났다. 2003년 9월부터는 인터넷 익스플로러의 인코딩 문제가 사라졌으며, 대한민국 언론에서도 몇 차례 위키백과를 소개하면서 참여자가 점증하리라고 예측했다. 참고로 한국어 위키백과의 최초 문서는 2002년 10월 12일에 등재된 지미 카터 문서이다. 2005년 6월 5일 양자장론 문서 등재를 기점으로 총 등재 문서 수가 1만 개를 돌파하였고 이어 동해 11월에 제1회 정보트러스트 어워드 인터넷 문화 일반 분야에 선정되었다. 2007년 8월 9일에는 한겨레21에서 한국어 위키백과와 위키백과 오프라인 첫 모임을 취재한 기사를 표지 이야기로 다루었다. 2008년 광우병 촛불 시위 때 생긴 신조어인 명박산성이 한국어 위키백과에 등재되고 이 문서의 존치 여부를 두고 갑론을박의 과정이 화제가 되고 각종 매체에도 보도가 되었다. 시위대의 난입과 충돌을 방지하기 위해 거리에 설치되었던 컨테이너 박스를 이명박 정부의 불통으로 풍자를 하기 위해 사용된 이 신조어는 중립성을 지켰는지와 백과사전에 올라올 만한 문서인지가 쟁점이 되었는데 일시적으로 사용된 신조어일 뿐이라는 주장과 이미 여러 매체에서 사용되어 지속성이 보장되었다는 주장 등 논쟁이 벌어졌고 다음 아고라 등지에서 이 항목을 존치하는 방안을 지지하는 의견을 남기기 위해 여러 사람이 새로 가입하는 등 혼란이 빚어졌다. 11월 4일에는 다음커뮤니케이션에서 글로벌 세계 대백과사전을 기증받았으며, 2009년 3월에는 서울특별시로부터 콘텐츠를 기증받았다. 2009년 6월 4일에는 액세스권 등재를 기점으로 10만 개 문서 수를 돌파했다. 2011년 4월 16일에는 대한민국에서의 위키미디어 프로젝트를 지원하는 모임을 결성할 것을 추진하는 논의가 이뤄졌고 이후 창립준비위원회 결성을 거쳐 2014년 10월 19일 창립총회를 개최하였으며, 최종적으로 2015년 11월 4일 사단법인 한국 위키미디어 협회가 결성되어 활동 중에 있다. 2019년 미국 위키미디어재단으로부터 한국 지역 지부(챕터)로 승인을 받았다. 2012년 5월 19일에는 보비 탬블링 등재를 기점으로 총 20만 개 문서가 등재되었고 2015년 1월 5일, Rojo -Tierra- 문서 등재를 기점으로 총 30만 개 문서가 등재되었다. 2017년 10월 21일에는 충청남도 동물위생시험소 문서 등재로 40만 개의 문서까지 등재되었다.'"
            ]
          },
          "metadata": {
            "tags": []
          },
          "execution_count": 19
        }
      ]
    },
    {
      "cell_type": "code",
      "metadata": {
        "id": "U2NoPR4Tb5GB",
        "colab": {
          "base_uri": "https://localhost:8080/"
        },
        "outputId": "243a11f6-5924-4778-f1b8-adef1e6852c4"
      },
      "source": [
        "# tokenize된 값을 id로 변경\n",
        "# piece to id\n",
        "piece_ids = []\n",
        "for piece in pieces:\n",
        "    piece_ids.append(vocab.piece_to_id(piece))\n",
        "piece_ids[0:100]"
      ],
      "execution_count": 20,
      "outputs": [
        {
          "output_type": "execute_result",
          "data": {
            "text/plain": [
              "[335,\n",
              " 398,\n",
              " 582,\n",
              " 31,\n",
              " 18,\n",
              " 84,\n",
              " 167,\n",
              " 340,\n",
              " 7,\n",
              " 24,\n",
              " 462,\n",
              " 33,\n",
              " 9,\n",
              " 7,\n",
              " 8,\n",
              " 593,\n",
              " 317,\n",
              " 1,\n",
              " 9,\n",
              " 137,\n",
              " 7,\n",
              " 67,\n",
              " 678,\n",
              " 7,\n",
              " 433,\n",
              " 317,\n",
              " 8,\n",
              " 1,\n",
              " 433,\n",
              " 1,\n",
              " 715,\n",
              " 1,\n",
              " 714,\n",
              " 8,\n",
              " 593,\n",
              " 317,\n",
              " 1,\n",
              " 17,\n",
              " 330,\n",
              " 547,\n",
              " 7,\n",
              " 405,\n",
              " 306,\n",
              " 120,\n",
              " 340,\n",
              " 398,\n",
              " 15,\n",
              " 7,\n",
              " 500,\n",
              " 1,\n",
              " 718,\n",
              " 55,\n",
              " 7,\n",
              " 35,\n",
              " 524,\n",
              " 7,\n",
              " 507,\n",
              " 79,\n",
              " 17,\n",
              " 7,\n",
              " 360,\n",
              " 94,\n",
              " 15,\n",
              " 58,\n",
              " 120,\n",
              " 7,\n",
              " 524,\n",
              " 10,\n",
              " 7,\n",
              " 224,\n",
              " 1,\n",
              " 59,\n",
              " 24,\n",
              " 7,\n",
              " 284,\n",
              " 11,\n",
              " 30,\n",
              " 649,\n",
              " 1,\n",
              " 33,\n",
              " 7,\n",
              " 501,\n",
              " 9,\n",
              " 410,\n",
              " 12,\n",
              " 8,\n",
              " 57,\n",
              " 259,\n",
              " 46,\n",
              " 53,\n",
              " 272,\n",
              " 122,\n",
              " 17,\n",
              " 7,\n",
              " 431,\n",
              " 36,\n",
              " 228,\n",
              " 335,\n",
              " 398,\n",
              " 7]"
            ]
          },
          "metadata": {
            "tags": []
          },
          "execution_count": 20
        }
      ]
    },
    {
      "cell_type": "code",
      "metadata": {
        "id": "A6PGUrK9cHxZ",
        "colab": {
          "base_uri": "https://localhost:8080/"
        },
        "outputId": "8d84c073-a8a0-4370-ebd2-7d3123589bc0"
      },
      "source": [
        "# text를 id로 tokenize 함\n",
        "# sentence to ids\n",
        "ids = vocab.encode_as_ids(text)\n",
        "print(ids)"
      ],
      "execution_count": 21,
      "outputs": [
        {
          "output_type": "stream",
          "text": [
            "[335, 398, 582, 31, 18, 84, 167, 340, 7, 24, 462, 33, 9, 7, 8, 593, 317, 1, 9, 137, 7, 67, 678, 7, 433, 317, 8, 1, 433, 1, 715, 1, 714, 8, 593, 317, 1, 17, 330, 547, 7, 405, 306, 120, 340, 398, 15, 7, 500, 1, 718, 55, 7, 35, 524, 7, 507, 79, 17, 7, 360, 94, 15, 58, 120, 7, 524, 10, 7, 224, 1, 59, 24, 7, 284, 11, 30, 649, 1, 33, 7, 501, 9, 410, 12, 8, 57, 259, 46, 53, 272, 122, 17, 7, 431, 36, 228, 335, 398, 7, 155, 1, 222, 1, 120, 22, 7, 1, 253, 7, 35, 524, 7, 507, 79, 7, 360, 94, 15, 7, 1, 79, 38, 320, 218, 207, 14, 7, 15, 50, 7, 1, 13, 150, 581, 9, 7, 1, 11, 7, 33, 158, 1, 7, 394, 63, 518, 36, 285, 42, 11, 7, 33, 556, 1, 7, 360, 94, 15, 7, 133, 90, 26, 8, 30, 640, 30, 315, 36, 7, 188, 38, 17, 11, 7, 24, 393, 475, 10, 7, 1, 38, 342, 55, 7, 1, 11, 123, 17, 7, 120, 80, 393, 10, 7, 1, 410, 12, 8, 30, 640, 7, 120, 80, 393, 9, 58, 410, 11, 157, 24, 335, 398, 582, 31, 273, 95, 36, 11, 14, 57, 259, 46, 53, 272, 122, 42, 57, 259, 142, 53, 7, 277, 122, 111, 23, 7, 473, 7, 414, 150, 9, 17, 7, 524, 9, 43, 142, 132, 42, 43, 117, 351, 132, 36, 7, 532, 410, 16, 57, 259, 142, 53, 7, 277, 122, 31, 7, 118, 122, 150, 9, 17, 11, 7, 35, 7, 414, 7, 60, 17, 43, 117, 351, 132, 42, 49, 269, 118, 132, 36, 7, 532, 120, 1, 12, 8, 57, 259, 142, 53, 7, 351, 122, 65, 158, 11, 7, 33, 158, 1, 7, 394, 63, 518, 36, 285, 18, 7, 33, 556, 1, 7, 360, 94, 15, 150, 91, 163, 718, 98, 14, 89, 35, 548, 93, 7, 362, 644, 42, 24, 7, 1, 7, 51, 440, 335, 398, 582, 31, 22, 7, 155, 132, 74, 253, 7, 488, 133, 143, 15, 7, 187, 286, 74, 79, 91, 16, 7, 528, 527, 26, 8, 7, 488, 16, 36, 254, 120, 335, 398, 582, 31, 18, 84, 188, 7, 360, 181, 11, 57, 259, 46, 53, 272, 122, 43, 46, 88, 17, 37, 141, 180, 7, 23, 405, 7, 397, 158, 7, 360, 181, 9, 12, 8, 57, 259, 117, 53, 7, 64, 122, 25, 88, 7, 283, 143, 50, 644, 7, 360, 181, 37, 141, 22, 257, 187, 19, 7, 402, 37, 141, 7, 360, 181, 59, 15, 43, 60, 7, 132, 22, 7, 513, 566, 74, 391, 16, 144, 7, 126, 27, 7, 331, 122, 17, 7, 94, 350, 297, 7, 106, 61, 222, 285, 63, 222, 7, 120, 308, 186, 7, 33, 158, 1, 7, 360, 109, 123, 78, 7, 221, 220, 17, 170, 106, 267, 410, 12, 8, 57, 259, 277, 53, 7, 118, 122, 7, 351, 88, 17, 11, 7, 35, 579, 642, 46, 350, 42, 254, 120, 335, 398, 582, 31, 41, 335, 398, 582, 31, 274, 1, 91, 33, 7, 685, 209, 472, 10, 7, 1, 141, 35, 257, 39, 22, 7, 559, 23, 30, 220, 38, 36, 7, 12, 531, 410, 12, 8, 57, 259, 118, 53, 7, 1, 154, 443, 7, 1, 401, 7, 67, 340, 7, 544, 7, 288, 1, 151, 81, 120, 33, 7, 140, 463, 225, 68, 9, 254, 120, 335, 398, 582, 31, 17, 37, 141, 267, 16, 30, 7, 360, 181, 18, 7, 679, 156, 7, 133, 65, 22, 7, 127, 16, 7, 1, 644, 10, 463, 18, 324, 9, 7, 109, 94, 15, 337, 16, 7, 597, 448, 7, 125, 184, 17, 24, 7, 61, 24, 15, 337, 410, 12, 8, 7, 67, 340, 66, 18, 7, 417, 356, 31, 7, 506, 513, 10, 7, 565, 23, 326, 335, 27, 7, 342, 79, 17, 210, 156, 267, 410, 137, 7, 1, 483, 9, 381, 7, 463, 63, 22, 30, 140, 463, 130, 18, 7, 401, 213, 19, 7, 1, 143, 22, 7, 326, 335, 27, 348, 180, 30, 151, 81, 120, 11, 175, 1, 68, 10, 7, 23, 1, 11, 23, 41, 7, 582, 31, 39, 90, 17, 7, 224, 91, 224, 7, 60, 35, 7, 360, 181, 33, 23, 15, 7, 422, 187, 9, 337, 410, 11, 157, 123, 67, 77, 19, 348, 180, 151, 81, 120, 88, 7, 1, 73, 11, 101, 50, 31, 30, 405, 7, 133, 285, 7, 125, 184, 42, 348, 267, 120, 7, 23, 128, 68, 9, 7, 61, 50, 267, 410, 12, 11, 101, 50, 37, 7, 499, 422, 9, 7, 386, 120, 163, 16, 7, 12, 409, 258, 16, 91, 37, 23, 42, 30, 7, 701, 241, 10, 7, 679, 156, 54, 7, 565, 108, 10, 7, 23, 23, 54, 7, 18, 436, 10, 7, 294, 38, 38, 335, 27, 7, 133, 285, 150, 581, 9, 7, 431, 36, 7, 15, 356, 54, 37, 7, 1, 636, 9, 7, 495, 120, 163, 12, 8, 7, 331, 122, 75, 88, 17, 11, 7, 12, 409, 688, 1, 298, 520, 9, 467, 42, 7, 524, 36, 386, 248, 89, 582, 31, 39, 90, 10, 257, 286, 230, 508, 718, 98, 14, 57, 259, 351, 53, 49, 122, 17, 11, 7, 181, 1, 569, 387, 67, 36, 65, 158, 7, 1, 469, 22, 257, 286, 230, 508, 12, 8, 57, 259, 351, 53, 7, 64, 122, 75, 88, 17, 11, 7, 1, 124, 63, 364, 37, 141, 22, 257, 187, 19, 272, 60, 7, 132, 7, 360, 181, 59, 22, 7, 513, 566, 26, 8, 215, 331, 53, 75, 122, 43, 64, 88, 17, 11, 89, 35, 548, 93, 42, 18, 335, 398, 405, 306, 120, 7, 1, 36, 1, 222, 22, 7, 23, 263, 54, 209, 472, 10, 7, 426, 68, 44, 29, 10, 7, 487, 135, 54, 7, 499, 18, 15, 30, 1, 163, 16, 30, 138, 7, 584, 1, 563, 147, 340, 263, 297, 7, 426, 68, 10, 7, 342, 367, 7, 279, 269, 53, 272, 122, 7, 99, 88, 7, 584, 1, 402, 297, 22, 7, 132, 477, 74, 391, 718, 98, 14, 84, 448, 77, 19, 7, 279, 117, 53, 7, 331, 122, 75, 88, 150, 112, 442, 33, 254, 335, 398, 405, 306, 120, 7, 421, 297, 15, 7, 426, 68, 267, 120, 7, 290, 126, 175, 17, 85, 8, 215, 99, 53, 7, 405, 93, 335, 398, 405, 306, 120, 141, 112, 19, 65, 158, 254, 7, 23, 413, 7, 23, 65, 28, 1, 158, 21, 36, 7, 510, 33, 10, 7, 230, 508, 12, 8, 7, 279, 46, 53, 25, 122, 7, 99, 88, 17, 11, 7, 61, 147, 7, 1, 661, 1, 37, 141, 22, 257, 187, 19, 7, 402, 215, 60, 7, 132, 7, 360, 181, 15, 37, 141, 267, 410, 16, 7, 279, 117, 53, 43, 122, 25, 88, 14, 7, 432, 317, 594, 317, 7, 352, 562, 1, 715, 595, 595, 714, 352, 7, 360, 181, 37, 141, 22, 257, 187, 19, 7, 402, 49, 177, 60, 7, 132, 7, 360, 181, 15, 37, 141, 267, 410, 12, 8, 7, 279, 277, 53, 272, 122, 57, 350, 88, 17, 11, 7, 506, 538, 294, 24, 7, 126, 420, 340, 288, 67, 703, 155, 7, 360, 181, 37, 141, 36, 75, 177, 60, 7, 132, 18, 7, 360, 181, 111, 23, 37, 141, 267, 410, 12, 8]\n"
          ],
          "name": "stdout"
        }
      ]
    },
    {
      "cell_type": "code",
      "metadata": {
        "id": "xyUkoxCpcUBj",
        "colab": {
          "base_uri": "https://localhost:8080/",
          "height": 197
        },
        "outputId": "8f4cb46d-fd80-4bf8-e7cb-7a529ea247ff"
      },
      "source": [
        "# tokenize된 id 값을 string 으로 복원\n",
        "# id to sentence\n",
        "vocab.decode_ids(ids)"
      ],
      "execution_count": 22,
      "outputs": [
        {
          "output_type": "execute_result",
          "data": {
            "application/vnd.google.colaboratory.intrinsic+json": {
              "type": "string"
            },
            "text/plain": [
              "'위키백과의 최상위 도메인이 .co ⁇ 이던 시절 ko. ⁇ k ⁇ e ⁇ a.co ⁇ 에 구판 미디어위키가 깔 ⁇ 으나 한글 처리에 문제가 있어 글을 올 ⁇  수도 없는 이름 ⁇ 인 곳이었다. 2002년 10월에 새로운 위키 소 ⁇ 트 ⁇ 어를  ⁇ 면서 한글 처리 문제가  ⁇ 리기 시작했지만, 가장  ⁇ 은 사람이  ⁇ 는 인터 ⁇  익스플로러에서는 인코 ⁇  문제가 여전했다. 이런 이유로 초기에는 도움말을  ⁇ 기거나  ⁇ 는 일에 어려움을  ⁇ 었다. 이런 어려움이 있었는데도 위키백과 통계로는, 2002년 10월에서 2003년 7월까지 열 달 사이에 글이 13개에서 159개로 늘었고 2003년 7월과 8월 사이에는 한 달 만에 159개에서 348개로 늘어 ⁇ 다. 2003년 9월부터는 인터 ⁇  익스플로러의 인코 ⁇  문제가 사라졌으며, 대한민국 언론에서도  ⁇  차례 위키백과를 소개하면서 참여자가 점증하리라고 예측했다. 참고로 한국어 위키백과의 최초 문서는 2002년 10월 12일에 등재된 지미 카터 문서이다. 2005년 6월 5일 양자장론 문서 등재를 기점으로 총 등재 문서 수가 1만 개를 돌파하였고 이어 동해 11월에 제1회 정보트러스트 어워드 인터 ⁇  문화 일반 분야에 선정되었다. 2007년 8월 9일에는 한겨레21에서 한국어 위키백과와 위키백과 오 ⁇ 라인 첫 모임을  ⁇ 재한 기사를 표지 이야기로 다루었다. 2008년  ⁇ 우병  ⁇ 불 시위 때 생 ⁇  신조어인 명박산성이 한국어 위키백과에 등재되고 이 문서의 존치 여부를 두고  ⁇ 론을박의 과정이 화제가 되고 각종 매체에도 보도가 되었다. 시위대의 난입과 충돌을 방지하기 위해 거리에 설치되었던  ⁇ 테이너 박스를 이명박 정부의 불통으로  ⁇ 자를 하기 위해 사용된 이 신조어는 중 ⁇ 성을 지 ⁇ 는지와 백과사전에 올라올 만한 문서인지가 쟁점이 되었는데 일시적으로 사용된 신조어일  ⁇ 이라는 주장과 이미 여러 매체에서 사용되어 지속성이 보장되었다는 주장 등 논쟁이 벌어졌고 다음 아고라 등지에서 이 항목을 존치하는 방안을 지지하는 의견을 남기기 위해 여러 사람이 새로 가입하는 등  ⁇ 란이 빚어졌다. 11월 4일에는 다음커 ⁇ 니케이션에서 글로벌 세계 대백과사전을 기증받았으며, 2009년 3월에는 서 ⁇ 특별시로부터  ⁇ 츠를 기증받았다. 2009년 6월 4일에는  ⁇ 세스권 등재를 기점으로 10만 개 문서 수를 돌파했다. 2011년 4월 16일에는 대한민국에서의 위키미디어  ⁇ 로 ⁇ 트를 지원하는 모임을 결성할 것을 추진하는 논의가 이 ⁇ 졌고 이후 창 ⁇ 준비위원회 결성을 거쳐 2014년 10월 19일 창 ⁇ 총회를 개최하였으며, 최종적으로 2015년 11월 4일 사단법인 한국 위키미디어 협회가 결성되어 활동 중에 있다. 2019년 미국 위키미디어재단으로부터 한국 지역 지부( ⁇ 터)로 승인을 받았다. 2012년 5월 19일에는 보비  ⁇ 블 ⁇  등재를 기점으로 총 20만 개 문서가 등재되었고 2015년 1월 5일, Rojo -T ⁇ erra- 문서 등재를 기점으로 총 30만 개 문서가 등재되었다. 2017년 10월 21일에는 충청남도 동물위생시험소 문서 등재로 40만 개의 문서까지 등재되었다.'"
            ]
          },
          "metadata": {
            "tags": []
          },
          "execution_count": 22
        }
      ]
    },
    {
      "cell_type": "code",
      "metadata": {
        "id": "XaPhB9Cjcbmi",
        "colab": {
          "base_uri": "https://localhost:8080/"
        },
        "outputId": "9b2f29f6-4458-4410-8a9f-4c418ed0aa78"
      },
      "source": [
        "# id 값을 token으로 변경\n",
        "# id to piece\n",
        "id_pieces = []\n",
        "for id in ids:\n",
        "    id_pieces.append(vocab.id_to_piece(id))\n",
        "id_pieces[0:100]"
      ],
      "execution_count": 23,
      "outputs": [
        {
          "output_type": "execute_result",
          "data": {
            "text/plain": [
              "['▁위',\n",
              " '키',\n",
              " '백',\n",
              " '과',\n",
              " '의',\n",
              " '▁최',\n",
              " '상',\n",
              " '위',\n",
              " '▁',\n",
              " '도',\n",
              " '메',\n",
              " '인',\n",
              " '이',\n",
              " '▁',\n",
              " '.',\n",
              " 'c',\n",
              " 'o',\n",
              " '[UNK]',\n",
              " '이',\n",
              " '던',\n",
              " '▁',\n",
              " '시',\n",
              " '절',\n",
              " '▁',\n",
              " 'k',\n",
              " 'o',\n",
              " '.',\n",
              " '[UNK]',\n",
              " 'k',\n",
              " '[UNK]',\n",
              " 'e',\n",
              " '[UNK]',\n",
              " 'a',\n",
              " '.',\n",
              " 'c',\n",
              " 'o',\n",
              " '[UNK]',\n",
              " '에',\n",
              " '▁구',\n",
              " '판',\n",
              " '▁',\n",
              " '미',\n",
              " '디',\n",
              " '어',\n",
              " '위',\n",
              " '키',\n",
              " '가',\n",
              " '▁',\n",
              " '깔',\n",
              " '[UNK]',\n",
              " '으',\n",
              " '나',\n",
              " '▁',\n",
              " '한',\n",
              " '글',\n",
              " '▁',\n",
              " '처',\n",
              " '리',\n",
              " '에',\n",
              " '▁',\n",
              " '문',\n",
              " '제',\n",
              " '가',\n",
              " '▁있',\n",
              " '어',\n",
              " '▁',\n",
              " '글',\n",
              " '을',\n",
              " '▁',\n",
              " '올',\n",
              " '[UNK]',\n",
              " '▁수',\n",
              " '도',\n",
              " '▁',\n",
              " '없',\n",
              " '는',\n",
              " '▁이',\n",
              " '름',\n",
              " '[UNK]',\n",
              " '인',\n",
              " '▁',\n",
              " '곳',\n",
              " '이',\n",
              " '었',\n",
              " '다',\n",
              " '.',\n",
              " '▁2',\n",
              " '00',\n",
              " '2',\n",
              " '년',\n",
              " '▁10',\n",
              " '월',\n",
              " '에',\n",
              " '▁',\n",
              " '새',\n",
              " '로',\n",
              " '운',\n",
              " '▁위',\n",
              " '키',\n",
              " '▁']"
            ]
          },
          "metadata": {
            "tags": []
          },
          "execution_count": 23
        }
      ]
    },
    {
      "cell_type": "code",
      "metadata": {
        "id": "bPe2xTM1FnoI"
      },
      "source": [
        ""
      ],
      "execution_count": null,
      "outputs": []
    }
  ]
}