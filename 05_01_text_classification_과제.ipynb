{
  "nbformat": 4,
  "nbformat_minor": 0,
  "metadata": {
    "colab": {
      "name": "05-01-text-classification-과제.ipynb",
      "provenance": [],
      "collapsed_sections": [
        "6dfJPT-2XMTB",
        "JHkHg6XAXoyK",
        "XwriCkq_R1Lc",
        "3myBX8hNEH1u",
        "yOqjtjEtgG_i",
        "RZq-UvbOgG_j",
        "QbzBPXwqgG_n",
        "fFOkITDzgG_o"
      ]
    },
    "kernelspec": {
      "name": "python3",
      "display_name": "Python 3"
    },
    "accelerator": "GPU",
    "widgets": {
      "application/vnd.jupyter.widget-state+json": {
        "5985f2c70d664d4f88181303dfd62e94": {
          "model_module": "@jupyter-widgets/controls",
          "model_name": "HBoxModel",
          "state": {
            "_view_name": "HBoxView",
            "_dom_classes": [],
            "_model_name": "HBoxModel",
            "_view_module": "@jupyter-widgets/controls",
            "_model_module_version": "1.5.0",
            "_view_count": null,
            "_view_module_version": "1.5.0",
            "box_style": "",
            "layout": "IPY_MODEL_fa421ffcc4624f589f9eaed2aaa70a05",
            "_model_module": "@jupyter-widgets/controls",
            "children": [
              "IPY_MODEL_c93d4de10be34daba879fb58004b1774",
              "IPY_MODEL_f2ec12dcc8ab41ba92c566b374ff116a"
            ]
          }
        },
        "fa421ffcc4624f589f9eaed2aaa70a05": {
          "model_module": "@jupyter-widgets/base",
          "model_name": "LayoutModel",
          "state": {
            "_view_name": "LayoutView",
            "grid_template_rows": null,
            "right": null,
            "justify_content": null,
            "_view_module": "@jupyter-widgets/base",
            "overflow": null,
            "_model_module_version": "1.2.0",
            "_view_count": null,
            "flex_flow": null,
            "width": null,
            "min_width": null,
            "border": null,
            "align_items": null,
            "bottom": null,
            "_model_module": "@jupyter-widgets/base",
            "top": null,
            "grid_column": null,
            "overflow_y": null,
            "overflow_x": null,
            "grid_auto_flow": null,
            "grid_area": null,
            "grid_template_columns": null,
            "flex": null,
            "_model_name": "LayoutModel",
            "justify_items": null,
            "grid_row": null,
            "max_height": null,
            "align_content": null,
            "visibility": null,
            "align_self": null,
            "height": null,
            "min_height": null,
            "padding": null,
            "grid_auto_rows": null,
            "grid_gap": null,
            "max_width": null,
            "order": null,
            "_view_module_version": "1.2.0",
            "grid_template_areas": null,
            "object_position": null,
            "object_fit": null,
            "grid_auto_columns": null,
            "margin": null,
            "display": null,
            "left": null
          }
        },
        "c93d4de10be34daba879fb58004b1774": {
          "model_module": "@jupyter-widgets/controls",
          "model_name": "FloatProgressModel",
          "state": {
            "_view_name": "ProgressView",
            "style": "IPY_MODEL_cec0b58211664023a53f67ed709a744f",
            "_dom_classes": [],
            "description": "100%",
            "_model_name": "FloatProgressModel",
            "bar_style": "success",
            "max": 149995,
            "_view_module": "@jupyter-widgets/controls",
            "_model_module_version": "1.5.0",
            "value": 149995,
            "_view_count": null,
            "_view_module_version": "1.5.0",
            "orientation": "horizontal",
            "min": 0,
            "description_tooltip": null,
            "_model_module": "@jupyter-widgets/controls",
            "layout": "IPY_MODEL_f347bc395e1e4e4e8e2d46205240be6c"
          }
        },
        "f2ec12dcc8ab41ba92c566b374ff116a": {
          "model_module": "@jupyter-widgets/controls",
          "model_name": "HTMLModel",
          "state": {
            "_view_name": "HTMLView",
            "style": "IPY_MODEL_ea08e2668d8647f186286edf24d33f31",
            "_dom_classes": [],
            "description": "",
            "_model_name": "HTMLModel",
            "placeholder": "​",
            "_view_module": "@jupyter-widgets/controls",
            "_model_module_version": "1.5.0",
            "value": " 149995/149995 [00:42&lt;00:00, 3496.54it/s]",
            "_view_count": null,
            "_view_module_version": "1.5.0",
            "description_tooltip": null,
            "_model_module": "@jupyter-widgets/controls",
            "layout": "IPY_MODEL_f18c5ea7ff8d4a4f9c7c06a7d8970a0d"
          }
        },
        "cec0b58211664023a53f67ed709a744f": {
          "model_module": "@jupyter-widgets/controls",
          "model_name": "ProgressStyleModel",
          "state": {
            "_view_name": "StyleView",
            "_model_name": "ProgressStyleModel",
            "description_width": "initial",
            "_view_module": "@jupyter-widgets/base",
            "_model_module_version": "1.5.0",
            "_view_count": null,
            "_view_module_version": "1.2.0",
            "bar_color": null,
            "_model_module": "@jupyter-widgets/controls"
          }
        },
        "f347bc395e1e4e4e8e2d46205240be6c": {
          "model_module": "@jupyter-widgets/base",
          "model_name": "LayoutModel",
          "state": {
            "_view_name": "LayoutView",
            "grid_template_rows": null,
            "right": null,
            "justify_content": null,
            "_view_module": "@jupyter-widgets/base",
            "overflow": null,
            "_model_module_version": "1.2.0",
            "_view_count": null,
            "flex_flow": null,
            "width": null,
            "min_width": null,
            "border": null,
            "align_items": null,
            "bottom": null,
            "_model_module": "@jupyter-widgets/base",
            "top": null,
            "grid_column": null,
            "overflow_y": null,
            "overflow_x": null,
            "grid_auto_flow": null,
            "grid_area": null,
            "grid_template_columns": null,
            "flex": null,
            "_model_name": "LayoutModel",
            "justify_items": null,
            "grid_row": null,
            "max_height": null,
            "align_content": null,
            "visibility": null,
            "align_self": null,
            "height": null,
            "min_height": null,
            "padding": null,
            "grid_auto_rows": null,
            "grid_gap": null,
            "max_width": null,
            "order": null,
            "_view_module_version": "1.2.0",
            "grid_template_areas": null,
            "object_position": null,
            "object_fit": null,
            "grid_auto_columns": null,
            "margin": null,
            "display": null,
            "left": null
          }
        },
        "ea08e2668d8647f186286edf24d33f31": {
          "model_module": "@jupyter-widgets/controls",
          "model_name": "DescriptionStyleModel",
          "state": {
            "_view_name": "StyleView",
            "_model_name": "DescriptionStyleModel",
            "description_width": "",
            "_view_module": "@jupyter-widgets/base",
            "_model_module_version": "1.5.0",
            "_view_count": null,
            "_view_module_version": "1.2.0",
            "_model_module": "@jupyter-widgets/controls"
          }
        },
        "f18c5ea7ff8d4a4f9c7c06a7d8970a0d": {
          "model_module": "@jupyter-widgets/base",
          "model_name": "LayoutModel",
          "state": {
            "_view_name": "LayoutView",
            "grid_template_rows": null,
            "right": null,
            "justify_content": null,
            "_view_module": "@jupyter-widgets/base",
            "overflow": null,
            "_model_module_version": "1.2.0",
            "_view_count": null,
            "flex_flow": null,
            "width": null,
            "min_width": null,
            "border": null,
            "align_items": null,
            "bottom": null,
            "_model_module": "@jupyter-widgets/base",
            "top": null,
            "grid_column": null,
            "overflow_y": null,
            "overflow_x": null,
            "grid_auto_flow": null,
            "grid_area": null,
            "grid_template_columns": null,
            "flex": null,
            "_model_name": "LayoutModel",
            "justify_items": null,
            "grid_row": null,
            "max_height": null,
            "align_content": null,
            "visibility": null,
            "align_self": null,
            "height": null,
            "min_height": null,
            "padding": null,
            "grid_auto_rows": null,
            "grid_gap": null,
            "max_width": null,
            "order": null,
            "_view_module_version": "1.2.0",
            "grid_template_areas": null,
            "object_position": null,
            "object_fit": null,
            "grid_auto_columns": null,
            "margin": null,
            "display": null,
            "left": null
          }
        },
        "8668413f2a2d44b4864f14dcca5e3bdd": {
          "model_module": "@jupyter-widgets/controls",
          "model_name": "HBoxModel",
          "state": {
            "_view_name": "HBoxView",
            "_dom_classes": [],
            "_model_name": "HBoxModel",
            "_view_module": "@jupyter-widgets/controls",
            "_model_module_version": "1.5.0",
            "_view_count": null,
            "_view_module_version": "1.5.0",
            "box_style": "",
            "layout": "IPY_MODEL_4c191b36bdf44013afdef29822e47e21",
            "_model_module": "@jupyter-widgets/controls",
            "children": [
              "IPY_MODEL_62432a2b23a943fe83c925ea1e5c8107",
              "IPY_MODEL_1f956f55774a4ff6a707045a140346e3"
            ]
          }
        },
        "4c191b36bdf44013afdef29822e47e21": {
          "model_module": "@jupyter-widgets/base",
          "model_name": "LayoutModel",
          "state": {
            "_view_name": "LayoutView",
            "grid_template_rows": null,
            "right": null,
            "justify_content": null,
            "_view_module": "@jupyter-widgets/base",
            "overflow": null,
            "_model_module_version": "1.2.0",
            "_view_count": null,
            "flex_flow": null,
            "width": null,
            "min_width": null,
            "border": null,
            "align_items": null,
            "bottom": null,
            "_model_module": "@jupyter-widgets/base",
            "top": null,
            "grid_column": null,
            "overflow_y": null,
            "overflow_x": null,
            "grid_auto_flow": null,
            "grid_area": null,
            "grid_template_columns": null,
            "flex": null,
            "_model_name": "LayoutModel",
            "justify_items": null,
            "grid_row": null,
            "max_height": null,
            "align_content": null,
            "visibility": null,
            "align_self": null,
            "height": null,
            "min_height": null,
            "padding": null,
            "grid_auto_rows": null,
            "grid_gap": null,
            "max_width": null,
            "order": null,
            "_view_module_version": "1.2.0",
            "grid_template_areas": null,
            "object_position": null,
            "object_fit": null,
            "grid_auto_columns": null,
            "margin": null,
            "display": null,
            "left": null
          }
        },
        "62432a2b23a943fe83c925ea1e5c8107": {
          "model_module": "@jupyter-widgets/controls",
          "model_name": "FloatProgressModel",
          "state": {
            "_view_name": "ProgressView",
            "style": "IPY_MODEL_dd766f4613684b558eb5c0b9c6d2b46b",
            "_dom_classes": [],
            "description": "100%",
            "_model_name": "FloatProgressModel",
            "bar_style": "success",
            "max": 49997,
            "_view_module": "@jupyter-widgets/controls",
            "_model_module_version": "1.5.0",
            "value": 49997,
            "_view_count": null,
            "_view_module_version": "1.5.0",
            "orientation": "horizontal",
            "min": 0,
            "description_tooltip": null,
            "_model_module": "@jupyter-widgets/controls",
            "layout": "IPY_MODEL_b3cdb01478854fd5b30f4216159c1f04"
          }
        },
        "1f956f55774a4ff6a707045a140346e3": {
          "model_module": "@jupyter-widgets/controls",
          "model_name": "HTMLModel",
          "state": {
            "_view_name": "HTMLView",
            "style": "IPY_MODEL_8b172562b613416dbe27de84fb17884b",
            "_dom_classes": [],
            "description": "",
            "_model_name": "HTMLModel",
            "placeholder": "​",
            "_view_module": "@jupyter-widgets/controls",
            "_model_module_version": "1.5.0",
            "value": " 49997/49997 [00:06&lt;00:00, 7198.92it/s]",
            "_view_count": null,
            "_view_module_version": "1.5.0",
            "description_tooltip": null,
            "_model_module": "@jupyter-widgets/controls",
            "layout": "IPY_MODEL_b499d594d9344c3ebdc7b71eb02d421e"
          }
        },
        "dd766f4613684b558eb5c0b9c6d2b46b": {
          "model_module": "@jupyter-widgets/controls",
          "model_name": "ProgressStyleModel",
          "state": {
            "_view_name": "StyleView",
            "_model_name": "ProgressStyleModel",
            "description_width": "initial",
            "_view_module": "@jupyter-widgets/base",
            "_model_module_version": "1.5.0",
            "_view_count": null,
            "_view_module_version": "1.2.0",
            "bar_color": null,
            "_model_module": "@jupyter-widgets/controls"
          }
        },
        "b3cdb01478854fd5b30f4216159c1f04": {
          "model_module": "@jupyter-widgets/base",
          "model_name": "LayoutModel",
          "state": {
            "_view_name": "LayoutView",
            "grid_template_rows": null,
            "right": null,
            "justify_content": null,
            "_view_module": "@jupyter-widgets/base",
            "overflow": null,
            "_model_module_version": "1.2.0",
            "_view_count": null,
            "flex_flow": null,
            "width": null,
            "min_width": null,
            "border": null,
            "align_items": null,
            "bottom": null,
            "_model_module": "@jupyter-widgets/base",
            "top": null,
            "grid_column": null,
            "overflow_y": null,
            "overflow_x": null,
            "grid_auto_flow": null,
            "grid_area": null,
            "grid_template_columns": null,
            "flex": null,
            "_model_name": "LayoutModel",
            "justify_items": null,
            "grid_row": null,
            "max_height": null,
            "align_content": null,
            "visibility": null,
            "align_self": null,
            "height": null,
            "min_height": null,
            "padding": null,
            "grid_auto_rows": null,
            "grid_gap": null,
            "max_width": null,
            "order": null,
            "_view_module_version": "1.2.0",
            "grid_template_areas": null,
            "object_position": null,
            "object_fit": null,
            "grid_auto_columns": null,
            "margin": null,
            "display": null,
            "left": null
          }
        },
        "8b172562b613416dbe27de84fb17884b": {
          "model_module": "@jupyter-widgets/controls",
          "model_name": "DescriptionStyleModel",
          "state": {
            "_view_name": "StyleView",
            "_model_name": "DescriptionStyleModel",
            "description_width": "",
            "_view_module": "@jupyter-widgets/base",
            "_model_module_version": "1.5.0",
            "_view_count": null,
            "_view_module_version": "1.2.0",
            "_model_module": "@jupyter-widgets/controls"
          }
        },
        "b499d594d9344c3ebdc7b71eb02d421e": {
          "model_module": "@jupyter-widgets/base",
          "model_name": "LayoutModel",
          "state": {
            "_view_name": "LayoutView",
            "grid_template_rows": null,
            "right": null,
            "justify_content": null,
            "_view_module": "@jupyter-widgets/base",
            "overflow": null,
            "_model_module_version": "1.2.0",
            "_view_count": null,
            "flex_flow": null,
            "width": null,
            "min_width": null,
            "border": null,
            "align_items": null,
            "bottom": null,
            "_model_module": "@jupyter-widgets/base",
            "top": null,
            "grid_column": null,
            "overflow_y": null,
            "overflow_x": null,
            "grid_auto_flow": null,
            "grid_area": null,
            "grid_template_columns": null,
            "flex": null,
            "_model_name": "LayoutModel",
            "justify_items": null,
            "grid_row": null,
            "max_height": null,
            "align_content": null,
            "visibility": null,
            "align_self": null,
            "height": null,
            "min_height": null,
            "padding": null,
            "grid_auto_rows": null,
            "grid_gap": null,
            "max_width": null,
            "order": null,
            "_view_module_version": "1.2.0",
            "grid_template_areas": null,
            "object_position": null,
            "object_fit": null,
            "grid_auto_columns": null,
            "margin": null,
            "display": null,
            "left": null
          }
        }
      }
    }
  },
  "cells": [
    {
      "cell_type": "markdown",
      "metadata": {
        "id": "6dfJPT-2XMTB"
      },
      "source": [
        "# Install"
      ]
    },
    {
      "cell_type": "code",
      "metadata": {
        "id": "a193aGJWVaqb",
        "colab": {
          "base_uri": "https://localhost:8080/"
        },
        "outputId": "034e94bd-cec3-49d5-ccdc-ccbce1aa1e0d"
      },
      "source": [
        "!pip install sentencepiece"
      ],
      "execution_count": 1,
      "outputs": [
        {
          "output_type": "stream",
          "text": [
            "Collecting sentencepiece\n",
            "\u001b[?25l  Downloading https://files.pythonhosted.org/packages/14/67/e42bd1181472c95c8cda79305df848264f2a7f62740995a46945d9797b67/sentencepiece-0.1.95-cp36-cp36m-manylinux2014_x86_64.whl (1.2MB)\n",
            "\r\u001b[K     |▎                               | 10kB 22.6MB/s eta 0:00:01\r\u001b[K     |▌                               | 20kB 29.0MB/s eta 0:00:01\r\u001b[K     |▉                               | 30kB 23.2MB/s eta 0:00:01\r\u001b[K     |█                               | 40kB 26.9MB/s eta 0:00:01\r\u001b[K     |█▍                              | 51kB 25.3MB/s eta 0:00:01\r\u001b[K     |█▋                              | 61kB 27.6MB/s eta 0:00:01\r\u001b[K     |██                              | 71kB 18.1MB/s eta 0:00:01\r\u001b[K     |██▏                             | 81kB 19.1MB/s eta 0:00:01\r\u001b[K     |██▌                             | 92kB 17.9MB/s eta 0:00:01\r\u001b[K     |██▊                             | 102kB 17.9MB/s eta 0:00:01\r\u001b[K     |███                             | 112kB 17.9MB/s eta 0:00:01\r\u001b[K     |███▎                            | 122kB 17.9MB/s eta 0:00:01\r\u001b[K     |███▌                            | 133kB 17.9MB/s eta 0:00:01\r\u001b[K     |███▉                            | 143kB 17.9MB/s eta 0:00:01\r\u001b[K     |████                            | 153kB 17.9MB/s eta 0:00:01\r\u001b[K     |████▍                           | 163kB 17.9MB/s eta 0:00:01\r\u001b[K     |████▋                           | 174kB 17.9MB/s eta 0:00:01\r\u001b[K     |█████                           | 184kB 17.9MB/s eta 0:00:01\r\u001b[K     |█████▏                          | 194kB 17.9MB/s eta 0:00:01\r\u001b[K     |█████▌                          | 204kB 17.9MB/s eta 0:00:01\r\u001b[K     |█████▊                          | 215kB 17.9MB/s eta 0:00:01\r\u001b[K     |██████                          | 225kB 17.9MB/s eta 0:00:01\r\u001b[K     |██████▎                         | 235kB 17.9MB/s eta 0:00:01\r\u001b[K     |██████▌                         | 245kB 17.9MB/s eta 0:00:01\r\u001b[K     |██████▉                         | 256kB 17.9MB/s eta 0:00:01\r\u001b[K     |███████                         | 266kB 17.9MB/s eta 0:00:01\r\u001b[K     |███████▍                        | 276kB 17.9MB/s eta 0:00:01\r\u001b[K     |███████▋                        | 286kB 17.9MB/s eta 0:00:01\r\u001b[K     |████████                        | 296kB 17.9MB/s eta 0:00:01\r\u001b[K     |████████▏                       | 307kB 17.9MB/s eta 0:00:01\r\u001b[K     |████████▍                       | 317kB 17.9MB/s eta 0:00:01\r\u001b[K     |████████▊                       | 327kB 17.9MB/s eta 0:00:01\r\u001b[K     |█████████                       | 337kB 17.9MB/s eta 0:00:01\r\u001b[K     |█████████▎                      | 348kB 17.9MB/s eta 0:00:01\r\u001b[K     |█████████▌                      | 358kB 17.9MB/s eta 0:00:01\r\u001b[K     |█████████▉                      | 368kB 17.9MB/s eta 0:00:01\r\u001b[K     |██████████                      | 378kB 17.9MB/s eta 0:00:01\r\u001b[K     |██████████▍                     | 389kB 17.9MB/s eta 0:00:01\r\u001b[K     |██████████▋                     | 399kB 17.9MB/s eta 0:00:01\r\u001b[K     |███████████                     | 409kB 17.9MB/s eta 0:00:01\r\u001b[K     |███████████▏                    | 419kB 17.9MB/s eta 0:00:01\r\u001b[K     |███████████▍                    | 430kB 17.9MB/s eta 0:00:01\r\u001b[K     |███████████▊                    | 440kB 17.9MB/s eta 0:00:01\r\u001b[K     |████████████                    | 450kB 17.9MB/s eta 0:00:01\r\u001b[K     |████████████▎                   | 460kB 17.9MB/s eta 0:00:01\r\u001b[K     |████████████▌                   | 471kB 17.9MB/s eta 0:00:01\r\u001b[K     |████████████▉                   | 481kB 17.9MB/s eta 0:00:01\r\u001b[K     |█████████████                   | 491kB 17.9MB/s eta 0:00:01\r\u001b[K     |█████████████▍                  | 501kB 17.9MB/s eta 0:00:01\r\u001b[K     |█████████████▋                  | 512kB 17.9MB/s eta 0:00:01\r\u001b[K     |█████████████▉                  | 522kB 17.9MB/s eta 0:00:01\r\u001b[K     |██████████████▏                 | 532kB 17.9MB/s eta 0:00:01\r\u001b[K     |██████████████▍                 | 542kB 17.9MB/s eta 0:00:01\r\u001b[K     |██████████████▊                 | 552kB 17.9MB/s eta 0:00:01\r\u001b[K     |███████████████                 | 563kB 17.9MB/s eta 0:00:01\r\u001b[K     |███████████████▎                | 573kB 17.9MB/s eta 0:00:01\r\u001b[K     |███████████████▌                | 583kB 17.9MB/s eta 0:00:01\r\u001b[K     |███████████████▉                | 593kB 17.9MB/s eta 0:00:01\r\u001b[K     |████████████████                | 604kB 17.9MB/s eta 0:00:01\r\u001b[K     |████████████████▍               | 614kB 17.9MB/s eta 0:00:01\r\u001b[K     |████████████████▋               | 624kB 17.9MB/s eta 0:00:01\r\u001b[K     |████████████████▉               | 634kB 17.9MB/s eta 0:00:01\r\u001b[K     |█████████████████▏              | 645kB 17.9MB/s eta 0:00:01\r\u001b[K     |█████████████████▍              | 655kB 17.9MB/s eta 0:00:01\r\u001b[K     |█████████████████▊              | 665kB 17.9MB/s eta 0:00:01\r\u001b[K     |██████████████████              | 675kB 17.9MB/s eta 0:00:01\r\u001b[K     |██████████████████▎             | 686kB 17.9MB/s eta 0:00:01\r\u001b[K     |██████████████████▌             | 696kB 17.9MB/s eta 0:00:01\r\u001b[K     |██████████████████▉             | 706kB 17.9MB/s eta 0:00:01\r\u001b[K     |███████████████████             | 716kB 17.9MB/s eta 0:00:01\r\u001b[K     |███████████████████▎            | 727kB 17.9MB/s eta 0:00:01\r\u001b[K     |███████████████████▋            | 737kB 17.9MB/s eta 0:00:01\r\u001b[K     |███████████████████▉            | 747kB 17.9MB/s eta 0:00:01\r\u001b[K     |████████████████████▏           | 757kB 17.9MB/s eta 0:00:01\r\u001b[K     |████████████████████▍           | 768kB 17.9MB/s eta 0:00:01\r\u001b[K     |████████████████████▊           | 778kB 17.9MB/s eta 0:00:01\r\u001b[K     |█████████████████████           | 788kB 17.9MB/s eta 0:00:01\r\u001b[K     |█████████████████████▎          | 798kB 17.9MB/s eta 0:00:01\r\u001b[K     |█████████████████████▌          | 808kB 17.9MB/s eta 0:00:01\r\u001b[K     |█████████████████████▉          | 819kB 17.9MB/s eta 0:00:01\r\u001b[K     |██████████████████████          | 829kB 17.9MB/s eta 0:00:01\r\u001b[K     |██████████████████████▎         | 839kB 17.9MB/s eta 0:00:01\r\u001b[K     |██████████████████████▋         | 849kB 17.9MB/s eta 0:00:01\r\u001b[K     |██████████████████████▉         | 860kB 17.9MB/s eta 0:00:01\r\u001b[K     |███████████████████████▏        | 870kB 17.9MB/s eta 0:00:01\r\u001b[K     |███████████████████████▍        | 880kB 17.9MB/s eta 0:00:01\r\u001b[K     |███████████████████████▊        | 890kB 17.9MB/s eta 0:00:01\r\u001b[K     |████████████████████████        | 901kB 17.9MB/s eta 0:00:01\r\u001b[K     |████████████████████████▎       | 911kB 17.9MB/s eta 0:00:01\r\u001b[K     |████████████████████████▌       | 921kB 17.9MB/s eta 0:00:01\r\u001b[K     |████████████████████████▊       | 931kB 17.9MB/s eta 0:00:01\r\u001b[K     |█████████████████████████       | 942kB 17.9MB/s eta 0:00:01\r\u001b[K     |█████████████████████████▎      | 952kB 17.9MB/s eta 0:00:01\r\u001b[K     |█████████████████████████▋      | 962kB 17.9MB/s eta 0:00:01\r\u001b[K     |█████████████████████████▉      | 972kB 17.9MB/s eta 0:00:01\r\u001b[K     |██████████████████████████▏     | 983kB 17.9MB/s eta 0:00:01\r\u001b[K     |██████████████████████████▍     | 993kB 17.9MB/s eta 0:00:01\r\u001b[K     |██████████████████████████▊     | 1.0MB 17.9MB/s eta 0:00:01\r\u001b[K     |███████████████████████████     | 1.0MB 17.9MB/s eta 0:00:01\r\u001b[K     |███████████████████████████▎    | 1.0MB 17.9MB/s eta 0:00:01\r\u001b[K     |███████████████████████████▌    | 1.0MB 17.9MB/s eta 0:00:01\r\u001b[K     |███████████████████████████▊    | 1.0MB 17.9MB/s eta 0:00:01\r\u001b[K     |████████████████████████████    | 1.1MB 17.9MB/s eta 0:00:01\r\u001b[K     |████████████████████████████▎   | 1.1MB 17.9MB/s eta 0:00:01\r\u001b[K     |████████████████████████████▋   | 1.1MB 17.9MB/s eta 0:00:01\r\u001b[K     |████████████████████████████▉   | 1.1MB 17.9MB/s eta 0:00:01\r\u001b[K     |█████████████████████████████▏  | 1.1MB 17.9MB/s eta 0:00:01\r\u001b[K     |█████████████████████████████▍  | 1.1MB 17.9MB/s eta 0:00:01\r\u001b[K     |█████████████████████████████▊  | 1.1MB 17.9MB/s eta 0:00:01\r\u001b[K     |██████████████████████████████  | 1.1MB 17.9MB/s eta 0:00:01\r\u001b[K     |██████████████████████████████▏ | 1.1MB 17.9MB/s eta 0:00:01\r\u001b[K     |██████████████████████████████▌ | 1.1MB 17.9MB/s eta 0:00:01\r\u001b[K     |██████████████████████████████▊ | 1.2MB 17.9MB/s eta 0:00:01\r\u001b[K     |███████████████████████████████ | 1.2MB 17.9MB/s eta 0:00:01\r\u001b[K     |███████████████████████████████▎| 1.2MB 17.9MB/s eta 0:00:01\r\u001b[K     |███████████████████████████████▋| 1.2MB 17.9MB/s eta 0:00:01\r\u001b[K     |███████████████████████████████▉| 1.2MB 17.9MB/s eta 0:00:01\r\u001b[K     |████████████████████████████████| 1.2MB 17.9MB/s \n",
            "\u001b[?25hInstalling collected packages: sentencepiece\n",
            "Successfully installed sentencepiece-0.1.95\n"
          ],
          "name": "stdout"
        }
      ]
    },
    {
      "cell_type": "markdown",
      "metadata": {
        "id": "JHkHg6XAXoyK"
      },
      "source": [
        "# Evn"
      ]
    },
    {
      "cell_type": "code",
      "metadata": {
        "id": "WkYXFwcBXJDG"
      },
      "source": [
        "import os\n",
        "import random\n",
        "import shutil\n",
        "import json\n",
        "import zipfile\n",
        "import math\n",
        "import copy\n",
        "import collections\n",
        "import re\n",
        "\n",
        "import matplotlib.pyplot as plt\n",
        "import seaborn as sns\n",
        "from wordcloud import WordCloud\n",
        "import pandas as pd\n",
        "import numpy as np\n",
        "import sentencepiece as spm\n",
        "import tensorflow as tf\n",
        "import tensorflow.keras.backend as K\n",
        "\n",
        "from tqdm.notebook import tqdm"
      ],
      "execution_count": 2,
      "outputs": []
    },
    {
      "cell_type": "code",
      "metadata": {
        "id": "nvjyruUlXtlR"
      },
      "source": [
        "# random seed initialize\n",
        "random_seed = 1234\n",
        "random.seed(random_seed)\n",
        "np.random.seed(random_seed)\n",
        "tf.random.set_seed(random_seed)"
      ],
      "execution_count": 3,
      "outputs": []
    },
    {
      "cell_type": "code",
      "metadata": {
        "id": "BC3fXkhdYcYt",
        "colab": {
          "base_uri": "https://localhost:8080/"
        },
        "outputId": "4b0dcb2e-ee24-4b21-f6a6-7309a45b8aa0"
      },
      "source": [
        "!nvidia-smi"
      ],
      "execution_count": 4,
      "outputs": [
        {
          "output_type": "stream",
          "text": [
            "Sun Jan 31 16:50:44 2021       \n",
            "+-----------------------------------------------------------------------------+\n",
            "| NVIDIA-SMI 460.32.03    Driver Version: 418.67       CUDA Version: 10.1     |\n",
            "|-------------------------------+----------------------+----------------------+\n",
            "| GPU  Name        Persistence-M| Bus-Id        Disp.A | Volatile Uncorr. ECC |\n",
            "| Fan  Temp  Perf  Pwr:Usage/Cap|         Memory-Usage | GPU-Util  Compute M. |\n",
            "|                               |                      |               MIG M. |\n",
            "|===============================+======================+======================|\n",
            "|   0  Tesla T4            Off  | 00000000:00:04.0 Off |                    0 |\n",
            "| N/A   65C    P8    12W /  70W |      0MiB / 15079MiB |      0%      Default |\n",
            "|                               |                      |                 ERR! |\n",
            "+-------------------------------+----------------------+----------------------+\n",
            "                                                                               \n",
            "+-----------------------------------------------------------------------------+\n",
            "| Processes:                                                                  |\n",
            "|  GPU   GI   CI        PID   Type   Process name                  GPU Memory |\n",
            "|        ID   ID                                                   Usage      |\n",
            "|=============================================================================|\n",
            "|  No running processes found                                                 |\n",
            "+-----------------------------------------------------------------------------+\n"
          ],
          "name": "stdout"
        }
      ]
    },
    {
      "cell_type": "code",
      "metadata": {
        "id": "xVRdxYReYeQj",
        "colab": {
          "base_uri": "https://localhost:8080/"
        },
        "outputId": "c8b74c83-b04c-4dec-bf00-7f2ee1f92808"
      },
      "source": [
        "# google drive mount\n",
        "from google.colab import drive\n",
        "drive.mount('/content/drive')"
      ],
      "execution_count": 5,
      "outputs": [
        {
          "output_type": "stream",
          "text": [
            "Mounted at /content/drive\n"
          ],
          "name": "stdout"
        }
      ]
    },
    {
      "cell_type": "code",
      "metadata": {
        "id": "byCIiLJBbFHh",
        "colab": {
          "base_uri": "https://localhost:8080/"
        },
        "outputId": "3b8777b5-9c80-4148-dd59-379424632198"
      },
      "source": [
        "# data dir\n",
        "data_dir = '/content/drive/MyDrive/Data/nlp'\n",
        "os.listdir(data_dir)"
      ],
      "execution_count": 6,
      "outputs": [
        {
          "output_type": "execute_result",
          "data": {
            "text/plain": [
              "['ko_32000.model', 'ko_32000.vocab', 'kowiki', 'nsmc']"
            ]
          },
          "metadata": {
            "tags": []
          },
          "execution_count": 6
        }
      ]
    },
    {
      "cell_type": "code",
      "metadata": {
        "colab": {
          "base_uri": "https://localhost:8080/"
        },
        "id": "_Ru56YS3-SME",
        "outputId": "ec9c2cf3-bb03-4f97-802f-83f151f827fb"
      },
      "source": [
        "# nsmc dir\n",
        "nsmc_dir = os.path.join(data_dir, 'nsmc')\n",
        "if not os.path.exists(nsmc_dir):\n",
        "    os.makedirs(nsmc_dir)\n",
        "os.listdir(nsmc_dir)"
      ],
      "execution_count": 7,
      "outputs": [
        {
          "output_type": "execute_result",
          "data": {
            "text/plain": [
              "['ratings_test.txt', 'ratings_train.txt', 'stub.csv', 'stub.hdf5']"
            ]
          },
          "metadata": {
            "tags": []
          },
          "execution_count": 7
        }
      ]
    },
    {
      "cell_type": "markdown",
      "metadata": {
        "id": "XwriCkq_R1Lc"
      },
      "source": [
        "# Vocabulary & config"
      ]
    },
    {
      "cell_type": "code",
      "metadata": {
        "id": "2H0BLydCb7lg",
        "colab": {
          "base_uri": "https://localhost:8080/"
        },
        "outputId": "dd29694d-a6df-41e3-c222-ee318a27070a"
      },
      "source": [
        "# vocab loading\n",
        "vocab = spm.SentencePieceProcessor()\n",
        "vocab.load(os.path.join(data_dir, 'ko_32000.model'))"
      ],
      "execution_count": 8,
      "outputs": [
        {
          "output_type": "execute_result",
          "data": {
            "text/plain": [
              "True"
            ]
          },
          "metadata": {
            "tags": []
          },
          "execution_count": 8
        }
      ]
    },
    {
      "cell_type": "code",
      "metadata": {
        "id": "0ETZ19flTRmt"
      },
      "source": [
        "n_vocab = len(vocab)  # number of vocabulary\n",
        "n_seq = 47  # number of sequence\n",
        "d_model = 256  # dimension of model\n",
        "n_out = 2  # number of output class"
      ],
      "execution_count": 9,
      "outputs": []
    },
    {
      "cell_type": "markdown",
      "metadata": {
        "id": "3myBX8hNEH1u"
      },
      "source": [
        "# 모델링"
      ]
    },
    {
      "cell_type": "code",
      "metadata": {
        "id": "SobekkcjEX_P"
      },
      "source": [
        "def build_model(n_vocab, d_model, n_seq, n_out):\n",
        "    \"\"\"\n",
        "    문장의 감정분류 모델\n",
        "    :param n_vocab: vocabulary 단어 수\n",
        "    :param d_model: 단어를 의미하는 벡터의 차원 수\n",
        "    :param n_seq: 문장길이 (단어 수)\n",
        "    :param n_out: 예측할 class 개수\n",
        "    \"\"\"\n",
        "    inputs = tf.keras.layers.Input((n_seq,))  # (bs, n_seq)\n",
        "    # 입력 단어를 vector로 변환\n",
        "    embedding = tf.keras.layers.Embedding(n_vocab, d_model)\n",
        "    hidden = embedding(inputs)  # (bs, n_seq, d_model)\n",
        "    ################################\n",
        "    # RNN / CNN 등을 추가해 보세요.\n",
        "\n",
        "    conv_1 = tf.keras.layers.Conv1D(filters=128, kernel_size =3, padding='causal')\n",
        "    hidden = conv_1(hidden)\n",
        "\n",
        "    #rnn_1 = tf.keras.layers.Bidirectional(tf.keras.layers.SimpleRNN(units=128, return_sequences=True))\n",
        "    #hidden = rnn_1(hidden)\n",
        "\n",
        "    ################################\n",
        "    # 각 단어 벡터의 최대값 기준으로 벡터를 더해서 차원을 줄여줌 (문장 vector 생성)\n",
        "    pool = tf.keras.layers.GlobalMaxPool1D()\n",
        "    hidden_pool = pool(hidden)  # (bs, d_model)\n",
        "    # 문장 vector를 이용해서 긍정(1), 부정(0) 확률값 예측\n",
        "    linear = tf.keras.layers.Dense(2, activation=tf.nn.softmax)\n",
        "    outputs = linear(hidden_pool)  # (bs, n_out)\n",
        "    # 학습할 모델 선언\n",
        "    model = tf.keras.Model(inputs=inputs, outputs=outputs)\n",
        "    return model"
      ],
      "execution_count": 23,
      "outputs": []
    },
    {
      "cell_type": "markdown",
      "metadata": {
        "id": "yOqjtjEtgG_i"
      },
      "source": [
        "# All Data Project"
      ]
    },
    {
      "cell_type": "markdown",
      "metadata": {
        "id": "RZq-UvbOgG_j"
      },
      "source": [
        "## Data\n"
      ]
    },
    {
      "cell_type": "code",
      "metadata": {
        "id": "62llcRx9gG_j",
        "colab": {
          "base_uri": "https://localhost:8080/",
          "height": 419
        },
        "outputId": "1ff6ee71-b8ba-47f4-966c-0f3f524ec537"
      },
      "source": [
        "# train data load\n",
        "df_train = pd.read_csv(os.path.join(nsmc_dir, 'ratings_train.txt'), delimiter='\\t')\n",
        "df_train"
      ],
      "execution_count": 24,
      "outputs": [
        {
          "output_type": "execute_result",
          "data": {
            "text/html": [
              "<div>\n",
              "<style scoped>\n",
              "    .dataframe tbody tr th:only-of-type {\n",
              "        vertical-align: middle;\n",
              "    }\n",
              "\n",
              "    .dataframe tbody tr th {\n",
              "        vertical-align: top;\n",
              "    }\n",
              "\n",
              "    .dataframe thead th {\n",
              "        text-align: right;\n",
              "    }\n",
              "</style>\n",
              "<table border=\"1\" class=\"dataframe\">\n",
              "  <thead>\n",
              "    <tr style=\"text-align: right;\">\n",
              "      <th></th>\n",
              "      <th>id</th>\n",
              "      <th>document</th>\n",
              "      <th>label</th>\n",
              "    </tr>\n",
              "  </thead>\n",
              "  <tbody>\n",
              "    <tr>\n",
              "      <th>0</th>\n",
              "      <td>9976970</td>\n",
              "      <td>아 더빙.. 진짜 짜증나네요 목소리</td>\n",
              "      <td>0</td>\n",
              "    </tr>\n",
              "    <tr>\n",
              "      <th>1</th>\n",
              "      <td>3819312</td>\n",
              "      <td>흠...포스터보고 초딩영화줄....오버연기조차 가볍지 않구나</td>\n",
              "      <td>1</td>\n",
              "    </tr>\n",
              "    <tr>\n",
              "      <th>2</th>\n",
              "      <td>10265843</td>\n",
              "      <td>너무재밓었다그래서보는것을추천한다</td>\n",
              "      <td>0</td>\n",
              "    </tr>\n",
              "    <tr>\n",
              "      <th>3</th>\n",
              "      <td>9045019</td>\n",
              "      <td>교도소 이야기구먼 ..솔직히 재미는 없다..평점 조정</td>\n",
              "      <td>0</td>\n",
              "    </tr>\n",
              "    <tr>\n",
              "      <th>4</th>\n",
              "      <td>6483659</td>\n",
              "      <td>사이몬페그의 익살스런 연기가 돋보였던 영화!스파이더맨에서 늙어보이기만 했던 커스틴 ...</td>\n",
              "      <td>1</td>\n",
              "    </tr>\n",
              "    <tr>\n",
              "      <th>...</th>\n",
              "      <td>...</td>\n",
              "      <td>...</td>\n",
              "      <td>...</td>\n",
              "    </tr>\n",
              "    <tr>\n",
              "      <th>149995</th>\n",
              "      <td>6222902</td>\n",
              "      <td>인간이 문제지.. 소는 뭔죄인가..</td>\n",
              "      <td>0</td>\n",
              "    </tr>\n",
              "    <tr>\n",
              "      <th>149996</th>\n",
              "      <td>8549745</td>\n",
              "      <td>평점이 너무 낮아서...</td>\n",
              "      <td>1</td>\n",
              "    </tr>\n",
              "    <tr>\n",
              "      <th>149997</th>\n",
              "      <td>9311800</td>\n",
              "      <td>이게 뭐요? 한국인은 거들먹거리고 필리핀 혼혈은 착하다?</td>\n",
              "      <td>0</td>\n",
              "    </tr>\n",
              "    <tr>\n",
              "      <th>149998</th>\n",
              "      <td>2376369</td>\n",
              "      <td>청춘 영화의 최고봉.방황과 우울했던 날들의 자화상</td>\n",
              "      <td>1</td>\n",
              "    </tr>\n",
              "    <tr>\n",
              "      <th>149999</th>\n",
              "      <td>9619869</td>\n",
              "      <td>한국 영화 최초로 수간하는 내용이 담긴 영화</td>\n",
              "      <td>0</td>\n",
              "    </tr>\n",
              "  </tbody>\n",
              "</table>\n",
              "<p>150000 rows × 3 columns</p>\n",
              "</div>"
            ],
            "text/plain": [
              "              id                                           document  label\n",
              "0        9976970                                아 더빙.. 진짜 짜증나네요 목소리      0\n",
              "1        3819312                  흠...포스터보고 초딩영화줄....오버연기조차 가볍지 않구나      1\n",
              "2       10265843                                  너무재밓었다그래서보는것을추천한다      0\n",
              "3        9045019                      교도소 이야기구먼 ..솔직히 재미는 없다..평점 조정      0\n",
              "4        6483659  사이몬페그의 익살스런 연기가 돋보였던 영화!스파이더맨에서 늙어보이기만 했던 커스틴 ...      1\n",
              "...          ...                                                ...    ...\n",
              "149995   6222902                                인간이 문제지.. 소는 뭔죄인가..      0\n",
              "149996   8549745                                      평점이 너무 낮아서...      1\n",
              "149997   9311800                    이게 뭐요? 한국인은 거들먹거리고 필리핀 혼혈은 착하다?      0\n",
              "149998   2376369                        청춘 영화의 최고봉.방황과 우울했던 날들의 자화상      1\n",
              "149999   9619869                           한국 영화 최초로 수간하는 내용이 담긴 영화      0\n",
              "\n",
              "[150000 rows x 3 columns]"
            ]
          },
          "metadata": {
            "tags": []
          },
          "execution_count": 24
        }
      ]
    },
    {
      "cell_type": "code",
      "metadata": {
        "id": "UnjJp4r4gG_k",
        "colab": {
          "base_uri": "https://localhost:8080/",
          "height": 419
        },
        "outputId": "526c9000-f838-48da-faea-667b2fb18113"
      },
      "source": [
        "# train null 데이터 제거\n",
        "df_train = df_train.dropna()\n",
        "df_train"
      ],
      "execution_count": 25,
      "outputs": [
        {
          "output_type": "execute_result",
          "data": {
            "text/html": [
              "<div>\n",
              "<style scoped>\n",
              "    .dataframe tbody tr th:only-of-type {\n",
              "        vertical-align: middle;\n",
              "    }\n",
              "\n",
              "    .dataframe tbody tr th {\n",
              "        vertical-align: top;\n",
              "    }\n",
              "\n",
              "    .dataframe thead th {\n",
              "        text-align: right;\n",
              "    }\n",
              "</style>\n",
              "<table border=\"1\" class=\"dataframe\">\n",
              "  <thead>\n",
              "    <tr style=\"text-align: right;\">\n",
              "      <th></th>\n",
              "      <th>id</th>\n",
              "      <th>document</th>\n",
              "      <th>label</th>\n",
              "    </tr>\n",
              "  </thead>\n",
              "  <tbody>\n",
              "    <tr>\n",
              "      <th>0</th>\n",
              "      <td>9976970</td>\n",
              "      <td>아 더빙.. 진짜 짜증나네요 목소리</td>\n",
              "      <td>0</td>\n",
              "    </tr>\n",
              "    <tr>\n",
              "      <th>1</th>\n",
              "      <td>3819312</td>\n",
              "      <td>흠...포스터보고 초딩영화줄....오버연기조차 가볍지 않구나</td>\n",
              "      <td>1</td>\n",
              "    </tr>\n",
              "    <tr>\n",
              "      <th>2</th>\n",
              "      <td>10265843</td>\n",
              "      <td>너무재밓었다그래서보는것을추천한다</td>\n",
              "      <td>0</td>\n",
              "    </tr>\n",
              "    <tr>\n",
              "      <th>3</th>\n",
              "      <td>9045019</td>\n",
              "      <td>교도소 이야기구먼 ..솔직히 재미는 없다..평점 조정</td>\n",
              "      <td>0</td>\n",
              "    </tr>\n",
              "    <tr>\n",
              "      <th>4</th>\n",
              "      <td>6483659</td>\n",
              "      <td>사이몬페그의 익살스런 연기가 돋보였던 영화!스파이더맨에서 늙어보이기만 했던 커스틴 ...</td>\n",
              "      <td>1</td>\n",
              "    </tr>\n",
              "    <tr>\n",
              "      <th>...</th>\n",
              "      <td>...</td>\n",
              "      <td>...</td>\n",
              "      <td>...</td>\n",
              "    </tr>\n",
              "    <tr>\n",
              "      <th>149995</th>\n",
              "      <td>6222902</td>\n",
              "      <td>인간이 문제지.. 소는 뭔죄인가..</td>\n",
              "      <td>0</td>\n",
              "    </tr>\n",
              "    <tr>\n",
              "      <th>149996</th>\n",
              "      <td>8549745</td>\n",
              "      <td>평점이 너무 낮아서...</td>\n",
              "      <td>1</td>\n",
              "    </tr>\n",
              "    <tr>\n",
              "      <th>149997</th>\n",
              "      <td>9311800</td>\n",
              "      <td>이게 뭐요? 한국인은 거들먹거리고 필리핀 혼혈은 착하다?</td>\n",
              "      <td>0</td>\n",
              "    </tr>\n",
              "    <tr>\n",
              "      <th>149998</th>\n",
              "      <td>2376369</td>\n",
              "      <td>청춘 영화의 최고봉.방황과 우울했던 날들의 자화상</td>\n",
              "      <td>1</td>\n",
              "    </tr>\n",
              "    <tr>\n",
              "      <th>149999</th>\n",
              "      <td>9619869</td>\n",
              "      <td>한국 영화 최초로 수간하는 내용이 담긴 영화</td>\n",
              "      <td>0</td>\n",
              "    </tr>\n",
              "  </tbody>\n",
              "</table>\n",
              "<p>149995 rows × 3 columns</p>\n",
              "</div>"
            ],
            "text/plain": [
              "              id                                           document  label\n",
              "0        9976970                                아 더빙.. 진짜 짜증나네요 목소리      0\n",
              "1        3819312                  흠...포스터보고 초딩영화줄....오버연기조차 가볍지 않구나      1\n",
              "2       10265843                                  너무재밓었다그래서보는것을추천한다      0\n",
              "3        9045019                      교도소 이야기구먼 ..솔직히 재미는 없다..평점 조정      0\n",
              "4        6483659  사이몬페그의 익살스런 연기가 돋보였던 영화!스파이더맨에서 늙어보이기만 했던 커스틴 ...      1\n",
              "...          ...                                                ...    ...\n",
              "149995   6222902                                인간이 문제지.. 소는 뭔죄인가..      0\n",
              "149996   8549745                                      평점이 너무 낮아서...      1\n",
              "149997   9311800                    이게 뭐요? 한국인은 거들먹거리고 필리핀 혼혈은 착하다?      0\n",
              "149998   2376369                        청춘 영화의 최고봉.방황과 우울했던 날들의 자화상      1\n",
              "149999   9619869                           한국 영화 최초로 수간하는 내용이 담긴 영화      0\n",
              "\n",
              "[149995 rows x 3 columns]"
            ]
          },
          "metadata": {
            "tags": []
          },
          "execution_count": 25
        }
      ]
    },
    {
      "cell_type": "code",
      "metadata": {
        "id": "9Xq3hIWugG_k",
        "colab": {
          "base_uri": "https://localhost:8080/",
          "height": 419
        },
        "outputId": "09fc3cd5-2394-4d9e-8978-761852c0828b"
      },
      "source": [
        "# train data load\n",
        "df_test = pd.read_csv(os.path.join(nsmc_dir, 'ratings_test.txt'), delimiter='\\t')\n",
        "df_test"
      ],
      "execution_count": 26,
      "outputs": [
        {
          "output_type": "execute_result",
          "data": {
            "text/html": [
              "<div>\n",
              "<style scoped>\n",
              "    .dataframe tbody tr th:only-of-type {\n",
              "        vertical-align: middle;\n",
              "    }\n",
              "\n",
              "    .dataframe tbody tr th {\n",
              "        vertical-align: top;\n",
              "    }\n",
              "\n",
              "    .dataframe thead th {\n",
              "        text-align: right;\n",
              "    }\n",
              "</style>\n",
              "<table border=\"1\" class=\"dataframe\">\n",
              "  <thead>\n",
              "    <tr style=\"text-align: right;\">\n",
              "      <th></th>\n",
              "      <th>id</th>\n",
              "      <th>document</th>\n",
              "      <th>label</th>\n",
              "    </tr>\n",
              "  </thead>\n",
              "  <tbody>\n",
              "    <tr>\n",
              "      <th>0</th>\n",
              "      <td>6270596</td>\n",
              "      <td>굳 ㅋ</td>\n",
              "      <td>1</td>\n",
              "    </tr>\n",
              "    <tr>\n",
              "      <th>1</th>\n",
              "      <td>9274899</td>\n",
              "      <td>GDNTOPCLASSINTHECLUB</td>\n",
              "      <td>0</td>\n",
              "    </tr>\n",
              "    <tr>\n",
              "      <th>2</th>\n",
              "      <td>8544678</td>\n",
              "      <td>뭐야 이 평점들은.... 나쁘진 않지만 10점 짜리는 더더욱 아니잖아</td>\n",
              "      <td>0</td>\n",
              "    </tr>\n",
              "    <tr>\n",
              "      <th>3</th>\n",
              "      <td>6825595</td>\n",
              "      <td>지루하지는 않은데 완전 막장임... 돈주고 보기에는....</td>\n",
              "      <td>0</td>\n",
              "    </tr>\n",
              "    <tr>\n",
              "      <th>4</th>\n",
              "      <td>6723715</td>\n",
              "      <td>3D만 아니었어도 별 다섯 개 줬을텐데.. 왜 3D로 나와서 제 심기를 불편하게 하죠??</td>\n",
              "      <td>0</td>\n",
              "    </tr>\n",
              "    <tr>\n",
              "      <th>...</th>\n",
              "      <td>...</td>\n",
              "      <td>...</td>\n",
              "      <td>...</td>\n",
              "    </tr>\n",
              "    <tr>\n",
              "      <th>49995</th>\n",
              "      <td>4608761</td>\n",
              "      <td>오랜만에 평점 로긴했네ㅋㅋ 킹왕짱 쌈뽕한 영화를 만났습니다 강렬하게 육쾌함</td>\n",
              "      <td>1</td>\n",
              "    </tr>\n",
              "    <tr>\n",
              "      <th>49996</th>\n",
              "      <td>5308387</td>\n",
              "      <td>의지 박약들이나 하는거다 탈영은 일단 주인공 김대희 닮았고 이등병 찐따 OOOO</td>\n",
              "      <td>0</td>\n",
              "    </tr>\n",
              "    <tr>\n",
              "      <th>49997</th>\n",
              "      <td>9072549</td>\n",
              "      <td>그림도 좋고 완성도도 높았지만... 보는 내내 불안하게 만든다</td>\n",
              "      <td>0</td>\n",
              "    </tr>\n",
              "    <tr>\n",
              "      <th>49998</th>\n",
              "      <td>5802125</td>\n",
              "      <td>절대 봐서는 안 될 영화.. 재미도 없고 기분만 잡치고.. 한 세트장에서 다 해먹네</td>\n",
              "      <td>0</td>\n",
              "    </tr>\n",
              "    <tr>\n",
              "      <th>49999</th>\n",
              "      <td>6070594</td>\n",
              "      <td>마무리는 또 왜이래</td>\n",
              "      <td>0</td>\n",
              "    </tr>\n",
              "  </tbody>\n",
              "</table>\n",
              "<p>50000 rows × 3 columns</p>\n",
              "</div>"
            ],
            "text/plain": [
              "            id                                           document  label\n",
              "0      6270596                                                굳 ㅋ      1\n",
              "1      9274899                               GDNTOPCLASSINTHECLUB      0\n",
              "2      8544678             뭐야 이 평점들은.... 나쁘진 않지만 10점 짜리는 더더욱 아니잖아      0\n",
              "3      6825595                   지루하지는 않은데 완전 막장임... 돈주고 보기에는....      0\n",
              "4      6723715  3D만 아니었어도 별 다섯 개 줬을텐데.. 왜 3D로 나와서 제 심기를 불편하게 하죠??      0\n",
              "...        ...                                                ...    ...\n",
              "49995  4608761          오랜만에 평점 로긴했네ㅋㅋ 킹왕짱 쌈뽕한 영화를 만났습니다 강렬하게 육쾌함      1\n",
              "49996  5308387       의지 박약들이나 하는거다 탈영은 일단 주인공 김대희 닮았고 이등병 찐따 OOOO      0\n",
              "49997  9072549                 그림도 좋고 완성도도 높았지만... 보는 내내 불안하게 만든다      0\n",
              "49998  5802125     절대 봐서는 안 될 영화.. 재미도 없고 기분만 잡치고.. 한 세트장에서 다 해먹네      0\n",
              "49999  6070594                                         마무리는 또 왜이래      0\n",
              "\n",
              "[50000 rows x 3 columns]"
            ]
          },
          "metadata": {
            "tags": []
          },
          "execution_count": 26
        }
      ]
    },
    {
      "cell_type": "code",
      "metadata": {
        "id": "nzPZVnEBgG_k",
        "colab": {
          "base_uri": "https://localhost:8080/",
          "height": 419
        },
        "outputId": "728dc655-a941-460f-e726-01cf3011ff69"
      },
      "source": [
        "# train null 데이터 제거\n",
        "df_test = df_test.dropna()\n",
        "df_test"
      ],
      "execution_count": 27,
      "outputs": [
        {
          "output_type": "execute_result",
          "data": {
            "text/html": [
              "<div>\n",
              "<style scoped>\n",
              "    .dataframe tbody tr th:only-of-type {\n",
              "        vertical-align: middle;\n",
              "    }\n",
              "\n",
              "    .dataframe tbody tr th {\n",
              "        vertical-align: top;\n",
              "    }\n",
              "\n",
              "    .dataframe thead th {\n",
              "        text-align: right;\n",
              "    }\n",
              "</style>\n",
              "<table border=\"1\" class=\"dataframe\">\n",
              "  <thead>\n",
              "    <tr style=\"text-align: right;\">\n",
              "      <th></th>\n",
              "      <th>id</th>\n",
              "      <th>document</th>\n",
              "      <th>label</th>\n",
              "    </tr>\n",
              "  </thead>\n",
              "  <tbody>\n",
              "    <tr>\n",
              "      <th>0</th>\n",
              "      <td>6270596</td>\n",
              "      <td>굳 ㅋ</td>\n",
              "      <td>1</td>\n",
              "    </tr>\n",
              "    <tr>\n",
              "      <th>1</th>\n",
              "      <td>9274899</td>\n",
              "      <td>GDNTOPCLASSINTHECLUB</td>\n",
              "      <td>0</td>\n",
              "    </tr>\n",
              "    <tr>\n",
              "      <th>2</th>\n",
              "      <td>8544678</td>\n",
              "      <td>뭐야 이 평점들은.... 나쁘진 않지만 10점 짜리는 더더욱 아니잖아</td>\n",
              "      <td>0</td>\n",
              "    </tr>\n",
              "    <tr>\n",
              "      <th>3</th>\n",
              "      <td>6825595</td>\n",
              "      <td>지루하지는 않은데 완전 막장임... 돈주고 보기에는....</td>\n",
              "      <td>0</td>\n",
              "    </tr>\n",
              "    <tr>\n",
              "      <th>4</th>\n",
              "      <td>6723715</td>\n",
              "      <td>3D만 아니었어도 별 다섯 개 줬을텐데.. 왜 3D로 나와서 제 심기를 불편하게 하죠??</td>\n",
              "      <td>0</td>\n",
              "    </tr>\n",
              "    <tr>\n",
              "      <th>...</th>\n",
              "      <td>...</td>\n",
              "      <td>...</td>\n",
              "      <td>...</td>\n",
              "    </tr>\n",
              "    <tr>\n",
              "      <th>49995</th>\n",
              "      <td>4608761</td>\n",
              "      <td>오랜만에 평점 로긴했네ㅋㅋ 킹왕짱 쌈뽕한 영화를 만났습니다 강렬하게 육쾌함</td>\n",
              "      <td>1</td>\n",
              "    </tr>\n",
              "    <tr>\n",
              "      <th>49996</th>\n",
              "      <td>5308387</td>\n",
              "      <td>의지 박약들이나 하는거다 탈영은 일단 주인공 김대희 닮았고 이등병 찐따 OOOO</td>\n",
              "      <td>0</td>\n",
              "    </tr>\n",
              "    <tr>\n",
              "      <th>49997</th>\n",
              "      <td>9072549</td>\n",
              "      <td>그림도 좋고 완성도도 높았지만... 보는 내내 불안하게 만든다</td>\n",
              "      <td>0</td>\n",
              "    </tr>\n",
              "    <tr>\n",
              "      <th>49998</th>\n",
              "      <td>5802125</td>\n",
              "      <td>절대 봐서는 안 될 영화.. 재미도 없고 기분만 잡치고.. 한 세트장에서 다 해먹네</td>\n",
              "      <td>0</td>\n",
              "    </tr>\n",
              "    <tr>\n",
              "      <th>49999</th>\n",
              "      <td>6070594</td>\n",
              "      <td>마무리는 또 왜이래</td>\n",
              "      <td>0</td>\n",
              "    </tr>\n",
              "  </tbody>\n",
              "</table>\n",
              "<p>49997 rows × 3 columns</p>\n",
              "</div>"
            ],
            "text/plain": [
              "            id                                           document  label\n",
              "0      6270596                                                굳 ㅋ      1\n",
              "1      9274899                               GDNTOPCLASSINTHECLUB      0\n",
              "2      8544678             뭐야 이 평점들은.... 나쁘진 않지만 10점 짜리는 더더욱 아니잖아      0\n",
              "3      6825595                   지루하지는 않은데 완전 막장임... 돈주고 보기에는....      0\n",
              "4      6723715  3D만 아니었어도 별 다섯 개 줬을텐데.. 왜 3D로 나와서 제 심기를 불편하게 하죠??      0\n",
              "...        ...                                                ...    ...\n",
              "49995  4608761          오랜만에 평점 로긴했네ㅋㅋ 킹왕짱 쌈뽕한 영화를 만났습니다 강렬하게 육쾌함      1\n",
              "49996  5308387       의지 박약들이나 하는거다 탈영은 일단 주인공 김대희 닮았고 이등병 찐따 OOOO      0\n",
              "49997  9072549                 그림도 좋고 완성도도 높았지만... 보는 내내 불안하게 만든다      0\n",
              "49998  5802125     절대 봐서는 안 될 영화.. 재미도 없고 기분만 잡치고.. 한 세트장에서 다 해먹네      0\n",
              "49999  6070594                                         마무리는 또 왜이래      0\n",
              "\n",
              "[49997 rows x 3 columns]"
            ]
          },
          "metadata": {
            "tags": []
          },
          "execution_count": 27
        }
      ]
    },
    {
      "cell_type": "code",
      "metadata": {
        "id": "np9hbxHIgG_l"
      },
      "source": [
        "def load_data(df, n_seq):\n",
        "    \"\"\"\n",
        "    NSMC 학습 데이터 생성\n",
        "    :param df: data frame\n",
        "    :param n_seq: number of sequence\n",
        "    :return inputs: input data\n",
        "    :return labels: label data\n",
        "    \"\"\"\n",
        "    inputs = np.zeros((len(df), n_seq)).astype(np.int32)\n",
        "    labels = np.zeros((len(df),))\n",
        "    index = 0\n",
        "    for i, row in tqdm(df.iterrows(), total=len(df)):\n",
        "        # tokens 저장\n",
        "        # print()\n",
        "        label = row['label']\n",
        "        document = row['document']\n",
        "        # print(label, document)\n",
        "        tokens = vocab.encode_as_pieces(document)\n",
        "        # print(len(tokens), ':', tokens)\n",
        "        token_ids = vocab.encode_as_ids(document)\n",
        "        # print(len(token_ids), ':', token_ids)\n",
        "        token_ids = token_ids[:n_seq]\n",
        "        # print(len(token_ids), ':', token_ids)\n",
        "        token_ids += [0] * (n_seq - len(token_ids))\n",
        "        # print(len(token_ids), ':', token_ids)\n",
        "\n",
        "        labels[index] = label\n",
        "        inputs[index] = token_ids\n",
        "        index += 1\n",
        "    return inputs, labels"
      ],
      "execution_count": 28,
      "outputs": []
    },
    {
      "cell_type": "code",
      "metadata": {
        "id": "RR4l0G_OgG_l",
        "colab": {
          "base_uri": "https://localhost:8080/",
          "height": 211,
          "referenced_widgets": [
            "5985f2c70d664d4f88181303dfd62e94",
            "fa421ffcc4624f589f9eaed2aaa70a05",
            "c93d4de10be34daba879fb58004b1774",
            "f2ec12dcc8ab41ba92c566b374ff116a",
            "cec0b58211664023a53f67ed709a744f",
            "f347bc395e1e4e4e8e2d46205240be6c",
            "ea08e2668d8647f186286edf24d33f31",
            "f18c5ea7ff8d4a4f9c7c06a7d8970a0d"
          ]
        },
        "outputId": "8d2816ff-4b98-4b03-d882-f94c8df1cb37"
      },
      "source": [
        "# train data 생성\n",
        "train_inputs, train_labels = load_data(df_train, n_seq)\n",
        "train_inputs, train_labels"
      ],
      "execution_count": 29,
      "outputs": [
        {
          "output_type": "display_data",
          "data": {
            "application/vnd.jupyter.widget-view+json": {
              "model_id": "5985f2c70d664d4f88181303dfd62e94",
              "version_minor": 0,
              "version_major": 2
            },
            "text/plain": [
              "HBox(children=(FloatProgress(value=0.0, max=149995.0), HTML(value='')))"
            ]
          },
          "metadata": {
            "tags": []
          }
        },
        {
          "output_type": "stream",
          "text": [
            "\n"
          ],
          "name": "stdout"
        },
        {
          "output_type": "execute_result",
          "data": {
            "text/plain": [
              "(array([[  188, 16337,     7, ...,     0,     0,     0],\n",
              "        [15825,     7,     7, ...,     0,     0,     0],\n",
              "        [ 2329,   349,     1, ...,     0,     0,     0],\n",
              "        ...,\n",
              "        [   29,   128, 19999, ...,     0,     0,     0],\n",
              "        [14943,  7071,   802, ...,     0,     0,     0],\n",
              "        [  253,   321,  1071, ...,     0,     0,     0]], dtype=int32),\n",
              " array([0., 1., 0., ..., 0., 1., 0.]))"
            ]
          },
          "metadata": {
            "tags": []
          },
          "execution_count": 29
        }
      ]
    },
    {
      "cell_type": "code",
      "metadata": {
        "id": "5EI5jjPYgG_m",
        "colab": {
          "base_uri": "https://localhost:8080/",
          "height": 211,
          "referenced_widgets": [
            "8668413f2a2d44b4864f14dcca5e3bdd",
            "4c191b36bdf44013afdef29822e47e21",
            "62432a2b23a943fe83c925ea1e5c8107",
            "1f956f55774a4ff6a707045a140346e3",
            "dd766f4613684b558eb5c0b9c6d2b46b",
            "b3cdb01478854fd5b30f4216159c1f04",
            "8b172562b613416dbe27de84fb17884b",
            "b499d594d9344c3ebdc7b71eb02d421e"
          ]
        },
        "outputId": "9e05f676-211d-4270-ac50-3551502856e8"
      },
      "source": [
        "# test data 생성\n",
        "test_inputs, test_labels = load_data(df_test, n_seq)\n",
        "test_inputs, test_labels"
      ],
      "execution_count": 30,
      "outputs": [
        {
          "output_type": "display_data",
          "data": {
            "application/vnd.jupyter.widget-view+json": {
              "model_id": "8668413f2a2d44b4864f14dcca5e3bdd",
              "version_minor": 0,
              "version_major": 2
            },
            "text/plain": [
              "HBox(children=(FloatProgress(value=0.0, max=49997.0), HTML(value='')))"
            ]
          },
          "metadata": {
            "tags": []
          }
        },
        {
          "output_type": "stream",
          "text": [
            "\n"
          ],
          "name": "stdout"
        },
        {
          "output_type": "execute_result",
          "data": {
            "text/plain": [
              "(array([[ 5441,    10, 31026, ...,     0,     0,     0],\n",
              "        [  618,   509,   798, ...,     0,     0,     0],\n",
              "        [19999,   173,    29, ...,     0,     0,     0],\n",
              "        ...,\n",
              "        [ 2087,    32, 22687, ...,     0,     0,     0],\n",
              "        [ 3991, 27855,    11, ...,     0,     0,     0],\n",
              "        [ 4404,    11,   375, ...,     0,     0,     0]], dtype=int32),\n",
              " array([1., 0., 0., ..., 0., 0., 0.]))"
            ]
          },
          "metadata": {
            "tags": []
          },
          "execution_count": 30
        }
      ]
    },
    {
      "cell_type": "markdown",
      "metadata": {
        "id": "QbzBPXwqgG_n"
      },
      "source": [
        "## 학습"
      ]
    },
    {
      "cell_type": "code",
      "metadata": {
        "id": "xtECC96EgG_n",
        "colab": {
          "base_uri": "https://localhost:8080/",
          "height": 533
        },
        "outputId": "246abeb2-cad0-4861-fbbe-b309c6c74843"
      },
      "source": [
        "# 모델 생성\n",
        "model = build_model(len(vocab), d_model, n_seq, n_out)\n",
        "# 모델 내용 그래프 출력\n",
        "tf.keras.utils.plot_model(model, 'model.png', show_shapes=True)"
      ],
      "execution_count": 31,
      "outputs": [
        {
          "output_type": "execute_result",
          "data": {
            "image/png": "[encoded data removed]",
            "text/plain": [
              "<IPython.core.display.Image object>"
            ]
          },
          "metadata": {
            "tags": []
          },
          "execution_count": 31
        }
      ]
    },
    {
      "cell_type": "code",
      "metadata": {
        "id": "IsiZts95gG_n"
      },
      "source": [
        "# 모델 loss, optimizer, metric 정의\n",
        "model.compile(loss='sparse_categorical_crossentropy', optimizer='adam', metrics=['accuracy'])"
      ],
      "execution_count": 32,
      "outputs": []
    },
    {
      "cell_type": "code",
      "metadata": {
        "id": "0iFOHw2agG_n"
      },
      "source": [
        "# early stopping\n",
        "early_stopping = tf.keras.callbacks.EarlyStopping(monitor='val_accuracy', patience=5)\n",
        "# save weights callback\n",
        "save_weights = tf.keras.callbacks.ModelCheckpoint(os.path.join(nsmc_dir, 'stub.hdf5'),\n",
        "                                                  monitor='val_accuracy',\n",
        "                                                  verbose=1,\n",
        "                                                  save_best_only=True,\n",
        "                                                  mode=\"max\",\n",
        "                                                  save_freq=\"epoch\",\n",
        "                                                  save_weights_only=True)\n",
        "# csv logger\n",
        "csv_logger = tf.keras.callbacks.CSVLogger(os.path.join(nsmc_dir, 'stub.csv'))"
      ],
      "execution_count": 33,
      "outputs": []
    },
    {
      "cell_type": "code",
      "metadata": {
        "id": "9-ONLlbbgG_o",
        "colab": {
          "base_uri": "https://localhost:8080/"
        },
        "outputId": "3ab9a135-3408-40a5-f007-eebe4a47e5ed"
      },
      "source": [
        "# 모델 학습\n",
        "history = model.fit(train_inputs,\n",
        "                    train_labels,\n",
        "                    validation_data=(test_inputs, test_labels),\n",
        "                    epochs=100,\n",
        "                    batch_size=256,\n",
        "                    callbacks=[early_stopping, save_weights, csv_logger])"
      ],
      "execution_count": 34,
      "outputs": [
        {
          "output_type": "stream",
          "text": [
            "Epoch 1/100\n",
            "586/586 [==============================] - 58s 90ms/step - loss: 0.4516 - accuracy: 0.7924 - val_loss: 0.3351 - val_accuracy: 0.8551\n",
            "\n",
            "Epoch 00001: val_accuracy improved from -inf to 0.85511, saving model to /content/drive/MyDrive/Data/nlp/nsmc/stub.hdf5\n",
            "Epoch 2/100\n",
            "586/586 [==============================] - 52s 89ms/step - loss: 0.2606 - accuracy: 0.8966 - val_loss: 0.3236 - val_accuracy: 0.8618\n",
            "\n",
            "Epoch 00002: val_accuracy improved from 0.85511 to 0.86181, saving model to /content/drive/MyDrive/Data/nlp/nsmc/stub.hdf5\n",
            "Epoch 3/100\n",
            "586/586 [==============================] - 52s 89ms/step - loss: 0.1672 - accuracy: 0.9416 - val_loss: 0.3455 - val_accuracy: 0.8595\n",
            "\n",
            "Epoch 00003: val_accuracy did not improve from 0.86181\n",
            "Epoch 4/100\n",
            "586/586 [==============================] - 52s 88ms/step - loss: 0.0965 - accuracy: 0.9711 - val_loss: 0.3990 - val_accuracy: 0.8551\n",
            "\n",
            "Epoch 00004: val_accuracy did not improve from 0.86181\n",
            "Epoch 5/100\n",
            "586/586 [==============================] - 52s 88ms/step - loss: 0.0504 - accuracy: 0.9865 - val_loss: 0.4535 - val_accuracy: 0.8526\n",
            "\n",
            "Epoch 00005: val_accuracy did not improve from 0.86181\n",
            "Epoch 6/100\n",
            "586/586 [==============================] - 51s 88ms/step - loss: 0.0318 - accuracy: 0.9914 - val_loss: 0.5121 - val_accuracy: 0.8538\n",
            "\n",
            "Epoch 00006: val_accuracy did not improve from 0.86181\n",
            "Epoch 7/100\n",
            "586/586 [==============================] - 50s 86ms/step - loss: 0.0228 - accuracy: 0.9937 - val_loss: 0.5486 - val_accuracy: 0.8535\n",
            "\n",
            "Epoch 00007: val_accuracy did not improve from 0.86181\n"
          ],
          "name": "stdout"
        }
      ]
    },
    {
      "cell_type": "code",
      "metadata": {
        "id": "GOHTftS4gG_o",
        "colab": {
          "base_uri": "https://localhost:8080/",
          "height": 282
        },
        "outputId": "903747fe-e03a-4734-f4ea-4c145ed120d9"
      },
      "source": [
        "plt.figure(figsize=(12, 4))\n",
        "\n",
        "plt.subplot(1, 2, 1)\n",
        "plt.plot(history.history['loss'], 'b-', label='loss')\n",
        "plt.plot(history.history['val_loss'], 'r--', label='val_loss')\n",
        "plt.xlabel('Epoch')\n",
        "plt.legend()\n",
        "\n",
        "plt.subplot(1, 2, 2)\n",
        "plt.plot(history.history['accuracy'], 'g-', label='acc')\n",
        "plt.plot(history.history['val_accuracy'], 'k--', label='val_acc')\n",
        "plt.xlabel('Epoch')\n",
        "plt.legend()\n",
        "\n",
        "plt.show()"
      ],
      "execution_count": 35,
      "outputs": [
        {
          "output_type": "display_data",
          "data": {
            "image/png": "[encoded data removed]",
            "text/plain": [
              "<Figure size 864x288 with 2 Axes>"
            ]
          },
          "metadata": {
            "tags": [],
            "needs_background": "light"
          }
        }
      ]
    },
    {
      "cell_type": "markdown",
      "metadata": {
        "id": "fFOkITDzgG_o"
      },
      "source": [
        "## Inference"
      ]
    },
    {
      "cell_type": "code",
      "metadata": {
        "id": "ghiWYAgUgG_o"
      },
      "source": [
        "# 모델 생성\n",
        "model = build_model(n_vocab, d_model, n_seq, n_out)\n",
        "# train weight로 초기화\n",
        "model.load_weights(os.path.join(nsmc_dir, 'stub.hdf5'))"
      ],
      "execution_count": 36,
      "outputs": []
    },
    {
      "cell_type": "code",
      "metadata": {
        "id": "Ws6V1OYgqpRC",
        "colab": {
          "base_uri": "https://localhost:8080/"
        },
        "outputId": "09e1a37f-a248-4cb4-d516-4e66fca5ebfd"
      },
      "source": [
        "# 예측\n",
        "logits = model.predict(test_inputs)\n",
        "logits"
      ],
      "execution_count": 37,
      "outputs": [
        {
          "output_type": "execute_result",
          "data": {
            "text/plain": [
              "array([[3.6765177e-02, 9.6323484e-01],\n",
              "       [2.8985709e-01, 7.1014291e-01],\n",
              "       [1.7026830e-01, 8.2973170e-01],\n",
              "       ...,\n",
              "       [2.4732551e-02, 9.7526747e-01],\n",
              "       [9.9905497e-01, 9.4501383e-04],\n",
              "       [2.8486776e-01, 7.1513224e-01]], dtype=float32)"
            ]
          },
          "metadata": {
            "tags": []
          },
          "execution_count": 37
        }
      ]
    },
    {
      "cell_type": "code",
      "metadata": {
        "id": "RIacdlGorCBr",
        "colab": {
          "base_uri": "https://localhost:8080/"
        },
        "outputId": "b869f8bf-d27f-4509-d342-49eff6cdc38d"
      },
      "source": [
        "# 확률 최대 값을 예측으로 사용\n",
        "test_preds = np.argmax(logits, axis=-1)\n",
        "test_preds"
      ],
      "execution_count": 38,
      "outputs": [
        {
          "output_type": "execute_result",
          "data": {
            "text/plain": [
              "array([1, 1, 1, ..., 1, 0, 1])"
            ]
          },
          "metadata": {
            "tags": []
          },
          "execution_count": 38
        }
      ]
    },
    {
      "cell_type": "code",
      "metadata": {
        "id": "9D8P5_7mgG_o",
        "colab": {
          "base_uri": "https://localhost:8080/"
        },
        "outputId": "32a0aa32-ad32-4460-905b-3c82268a23fc"
      },
      "source": [
        "confusion_matrix = np.zeros((n_out, n_out)).astype(np.int)\n",
        "for y_true, y_pred in zip(test_labels, test_preds):\n",
        "    confusion_matrix[int(y_true), int(y_pred)] += 1\n",
        "confusion_matrix"
      ],
      "execution_count": 39,
      "outputs": [
        {
          "output_type": "execute_result",
          "data": {
            "text/plain": [
              "array([[21039,  3787],\n",
              "       [ 3122, 22049]])"
            ]
          },
          "metadata": {
            "tags": []
          },
          "execution_count": 39
        }
      ]
    },
    {
      "cell_type": "code",
      "metadata": {
        "id": "zTHIKSwMgG_p",
        "colab": {
          "base_uri": "https://localhost:8080/"
        },
        "outputId": "fe31b1a3-4f35-468a-a0ad-f285d4fbc075"
      },
      "source": [
        "tp = confusion_matrix[1, 1]\n",
        "tn = confusion_matrix[0, 0]\n",
        "fp = confusion_matrix[0, 1]\n",
        "fn = confusion_matrix[1, 0]\n",
        "\n",
        "accuracy = (tp + tn) / max((tp + tn + fp + fn), 1)\n",
        "print(f'accuracy: {accuracy}')\n",
        "precision = (tp) / max((tp + fp), 1)\n",
        "print(f'precision: {precision}')\n",
        "recall = (tp) / max((tp + fn), 1)\n",
        "print(f'recall: {recall}')\n",
        "f1 = 2 * (precision * recall) / max((precision + recall), 1)\n",
        "print(f'f1: {f1}')"
      ],
      "execution_count": 40,
      "outputs": [
        {
          "output_type": "stream",
          "text": [
            "accuracy: 0.8618117087025221\n",
            "precision: 0.8534215822882799\n",
            "recall: 0.8759683763060665\n",
            "f1: 0.8645480032152449\n"
          ],
          "name": "stdout"
        }
      ]
    },
    {
      "cell_type": "code",
      "metadata": {
        "id": "EEyJ7P4FgG_p"
      },
      "source": [
        "def do_predict(model, n_seq, string):\n",
        "    \"\"\"\n",
        "    입력에 대한 답변 생성하는 함수\n",
        "    :param model: model\n",
        "    :param n_seq: 입력 개수\n",
        "    :param string: 입력 문자열\n",
        "    \"\"\"\n",
        "    # token 생성: <string tokens>, [PAD] tokens\n",
        "    token = vocab.encode_as_ids(string)[:n_seq]\n",
        "    token += [0] * (n_seq - len(token))\n",
        "    token = token[:n_seq]\n",
        "\n",
        "    y_pred = model.predict(np.array([token]))\n",
        "    y_pred_class = K.argmax(y_pred, axis=-1)\n",
        "\n",
        "    return \"긍정\" if y_pred_class[0] == 1 else \"부정\""
      ],
      "execution_count": 41,
      "outputs": []
    },
    {
      "cell_type": "code",
      "metadata": {
        "id": "6AEE86LCgG_p",
        "colab": {
          "base_uri": "https://localhost:8080/"
        },
        "outputId": "367a6249-9d62-42f2-ca39-572522c1ede0"
      },
      "source": [
        "while True:\n",
        "    print(\"input > \", end=\"\")\n",
        "    string = str(input())\n",
        "    if len(string) == 0:\n",
        "        break\n",
        "    print(f\"output > {do_predict(model, n_seq, string)}\")"
      ],
      "execution_count": 43,
      "outputs": [
        {
          "output_type": "stream",
          "text": [
            "input > 와 정말 인생영화였어요\n",
            "output > 긍정\n",
            "input > \n"
          ],
          "name": "stdout"
        }
      ]
    },
    {
      "cell_type": "code",
      "metadata": {
        "id": "11nAQ3WmrDoK"
      },
      "source": [
        ""
      ],
      "execution_count": null,
      "outputs": []
    }
  ]
}