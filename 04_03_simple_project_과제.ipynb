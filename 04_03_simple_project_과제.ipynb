{
  "nbformat": 4,
  "nbformat_minor": 0,
  "metadata": {
    "colab": {
      "name": "04-03-simple-project-과제.ipynb",
      "provenance": [],
      "collapsed_sections": []
    },
    "kernelspec": {
      "name": "python3",
      "display_name": "Python 3"
    }
  },
  "cells": [
    {
      "cell_type": "markdown",
      "metadata": {
        "id": "BuaFwJqDVumT"
      },
      "source": [
        "# EVN"
      ]
    },
    {
      "cell_type": "code",
      "metadata": {
        "id": "ODiNPGQ9VwLK"
      },
      "source": [
        "import numpy as np\n",
        "import matplotlib.pyplot as plt\n",
        "\n",
        "import tensorflow as tf"
      ],
      "execution_count": 1,
      "outputs": []
    },
    {
      "cell_type": "markdown",
      "metadata": {
        "id": "sFo_3tAlzneI"
      },
      "source": [
        "# 단어 긍정(2), 중립(1), 부정(0) 분류 프로젝트"
      ]
    },
    {
      "cell_type": "markdown",
      "metadata": {
        "id": "erIr-mg8zneJ"
      },
      "source": [
        "## 데이터"
      ]
    },
    {
      "cell_type": "code",
      "metadata": {
        "id": "KQqU4MBIzneJ"
      },
      "source": [
        "# 입력 문장\n",
        "sentences = [\n",
        "    '나는 오늘 기분이 좋아',\n",
        "    '나는 오늘 우울해'\n",
        "]\n",
        "\n",
        "# 출력 정답\n",
        "labels = [[1, 1, 1, 2],\n",
        "          [1, 1, 0]]  # 긍정(2), 중립(1), 부정(0)\n",
        "\n",
        "# 정답 dic\n",
        "id_to_label = {0: '부정', 1: '중립', 2: '긍정'}"
      ],
      "execution_count": 2,
      "outputs": []
    },
    {
      "cell_type": "markdown",
      "metadata": {
        "id": "wS_edoagzneJ"
      },
      "source": [
        "## Vocabulary"
      ]
    },
    {
      "cell_type": "code",
      "metadata": {
        "colab": {
          "base_uri": "https://localhost:8080/"
        },
        "id": "BJA0tV61UMWv",
        "outputId": "79ebea77-b585-4078-be42-2d6147662128"
      },
      "source": [
        "# 각 문장을 띄어쓰기 단위로 분할\n",
        "words = []\n",
        "for sentence in sentences:\n",
        "    words.extend(sentence.split())\n",
        "words"
      ],
      "execution_count": 3,
      "outputs": [
        {
          "output_type": "execute_result",
          "data": {
            "text/plain": [
              "['나는', '오늘', '기분이', '좋아', '나는', '오늘', '우울해']"
            ]
          },
          "metadata": {
            "tags": []
          },
          "execution_count": 3
        }
      ]
    },
    {
      "cell_type": "code",
      "metadata": {
        "colab": {
          "base_uri": "https://localhost:8080/"
        },
        "id": "jrpIT_63UNu5",
        "outputId": "b6298cfd-9946-45ba-9266-cbeec8ac62a7"
      },
      "source": [
        "# 중복 단어 제거\n",
        "words = list(dict.fromkeys(words))\n",
        "words"
      ],
      "execution_count": 4,
      "outputs": [
        {
          "output_type": "execute_result",
          "data": {
            "text/plain": [
              "['나는', '오늘', '기분이', '좋아', '우울해']"
            ]
          },
          "metadata": {
            "tags": []
          },
          "execution_count": 4
        }
      ]
    },
    {
      "cell_type": "code",
      "metadata": {
        "colab": {
          "base_uri": "https://localhost:8080/"
        },
        "id": "RoT8iffUzneJ",
        "outputId": "abeb4e10-7edb-4106-e822-3cd69ddcb5a7"
      },
      "source": [
        "# 각 단어별 고유한 번호 부여\n",
        "word_to_id = {'[PAD]': 0, '[UNK]': 1}\n",
        "for word in words:\n",
        "    word_to_id[word] = len(word_to_id)\n",
        "word_to_id"
      ],
      "execution_count": 5,
      "outputs": [
        {
          "output_type": "execute_result",
          "data": {
            "text/plain": [
              "{'[PAD]': 0, '[UNK]': 1, '기분이': 4, '나는': 2, '오늘': 3, '우울해': 6, '좋아': 5}"
            ]
          },
          "metadata": {
            "tags": []
          },
          "execution_count": 5
        }
      ]
    },
    {
      "cell_type": "code",
      "metadata": {
        "colab": {
          "base_uri": "https://localhost:8080/"
        },
        "id": "_qeklV9-UTzH",
        "outputId": "954bdd64-149f-4f57-9091-8fd104edd609"
      },
      "source": [
        "# 각 숫자별 단어 부여\n",
        "id_to_word = {_id:word for word, _id in word_to_id.items()}\n",
        "id_to_word"
      ],
      "execution_count": 6,
      "outputs": [
        {
          "output_type": "execute_result",
          "data": {
            "text/plain": [
              "{0: '[PAD]', 1: '[UNK]', 2: '나는', 3: '오늘', 4: '기분이', 5: '좋아', 6: '우울해'}"
            ]
          },
          "metadata": {
            "tags": []
          },
          "execution_count": 6
        }
      ]
    },
    {
      "cell_type": "markdown",
      "metadata": {
        "id": "-0Mbb5GWzneK"
      },
      "source": [
        "## 모델 학습용 데이터 생성"
      ]
    },
    {
      "cell_type": "code",
      "metadata": {
        "colab": {
          "base_uri": "https://localhost:8080/"
        },
        "id": "TDA86OBnUZIw",
        "outputId": "251d9df0-21a6-45eb-df59-42f96abc39e8"
      },
      "source": [
        "# 학습용 입력 데이터 생성\n",
        "train_inputs = []\n",
        "for sentence in sentences:\n",
        "    train_inputs.append([word_to_id[word] for word in sentence.split()])\n",
        "train_inputs"
      ],
      "execution_count": 7,
      "outputs": [
        {
          "output_type": "execute_result",
          "data": {
            "text/plain": [
              "[[2, 3, 4, 5], [2, 3, 6]]"
            ]
          },
          "metadata": {
            "tags": []
          },
          "execution_count": 7
        }
      ]
    },
    {
      "cell_type": "code",
      "metadata": {
        "colab": {
          "base_uri": "https://localhost:8080/"
        },
        "id": "J-Wq04vBVWnq",
        "outputId": "0628633e-dd84-4f90-bdb3-29c9abb30f66"
      },
      "source": [
        "# train label은 labels를 그래도 사용\n",
        "train_labels = labels\n",
        "train_labels"
      ],
      "execution_count": 8,
      "outputs": [
        {
          "output_type": "execute_result",
          "data": {
            "text/plain": [
              "[[1, 1, 1, 2], [1, 1, 0]]"
            ]
          },
          "metadata": {
            "tags": []
          },
          "execution_count": 8
        }
      ]
    },
    {
      "cell_type": "code",
      "metadata": {
        "colab": {
          "base_uri": "https://localhost:8080/"
        },
        "id": "tilT_K-8UfXh",
        "outputId": "72af8342-343d-44ae-f42d-2d6662c804b4"
      },
      "source": [
        "# train inputs을 numpy array로 변환\n",
        "np.array(train_inputs)"
      ],
      "execution_count": 9,
      "outputs": [
        {
          "output_type": "stream",
          "text": [
            "/usr/local/lib/python3.6/dist-packages/ipykernel_launcher.py:2: VisibleDeprecationWarning: Creating an ndarray from ragged nested sequences (which is a list-or-tuple of lists-or-tuples-or ndarrays with different lengths or shapes) is deprecated. If you meant to do this, you must specify 'dtype=object' when creating the ndarray\n",
            "  \n"
          ],
          "name": "stderr"
        },
        {
          "output_type": "execute_result",
          "data": {
            "text/plain": [
              "array([list([2, 3, 4, 5]), list([2, 3, 6])], dtype=object)"
            ]
          },
          "metadata": {
            "tags": []
          },
          "execution_count": 9
        }
      ]
    },
    {
      "cell_type": "code",
      "metadata": {
        "colab": {
          "base_uri": "https://localhost:8080/"
        },
        "id": "xG1Y1uN9Vb7P",
        "outputId": "a68f6ffa-d64e-4f4a-c609-d943337108ff"
      },
      "source": [
        "# train labels을 numpy array로 변환\n",
        "np.array(train_labels)"
      ],
      "execution_count": 10,
      "outputs": [
        {
          "output_type": "stream",
          "text": [
            "/usr/local/lib/python3.6/dist-packages/ipykernel_launcher.py:2: VisibleDeprecationWarning: Creating an ndarray from ragged nested sequences (which is a list-or-tuple of lists-or-tuples-or ndarrays with different lengths or shapes) is deprecated. If you meant to do this, you must specify 'dtype=object' when creating the ndarray\n",
            "  \n"
          ],
          "name": "stderr"
        },
        {
          "output_type": "execute_result",
          "data": {
            "text/plain": [
              "array([list([1, 1, 1, 2]), list([1, 1, 0])], dtype=object)"
            ]
          },
          "metadata": {
            "tags": []
          },
          "execution_count": 10
        }
      ]
    },
    {
      "cell_type": "code",
      "metadata": {
        "colab": {
          "base_uri": "https://localhost:8080/"
        },
        "id": "ThQywmw3Uwjx",
        "outputId": "c9c0dcef-6535-4ad0-ac43-35e4fba44ef0"
      },
      "source": [
        "# 문장의 길이를 모두 동일하게 변경 (최대길이 4)\n",
        "for row in train_inputs:\n",
        "    row += [0] * (4 - len(row))\n",
        "train_inputs"
      ],
      "execution_count": 11,
      "outputs": [
        {
          "output_type": "execute_result",
          "data": {
            "text/plain": [
              "[[2, 3, 4, 5], [2, 3, 6, 0]]"
            ]
          },
          "metadata": {
            "tags": []
          },
          "execution_count": 11
        }
      ]
    },
    {
      "cell_type": "code",
      "metadata": {
        "colab": {
          "base_uri": "https://localhost:8080/"
        },
        "id": "foPgXxYpU5A7",
        "outputId": "0d8c13af-72da-4bf1-a616-1c8fa3fc6ff3"
      },
      "source": [
        "# train inputs을 numpy array로 변환\n",
        "train_inputs = np.array(train_inputs)\n",
        "train_inputs"
      ],
      "execution_count": 12,
      "outputs": [
        {
          "output_type": "execute_result",
          "data": {
            "text/plain": [
              "array([[2, 3, 4, 5],\n",
              "       [2, 3, 6, 0]])"
            ]
          },
          "metadata": {
            "tags": []
          },
          "execution_count": 12
        }
      ]
    },
    {
      "cell_type": "code",
      "metadata": {
        "colab": {
          "base_uri": "https://localhost:8080/"
        },
        "id": "p1gl_act7dyT",
        "outputId": "647571e2-fcb2-4434-9274-5fdd985ee596"
      },
      "source": [
        "# 정답 길이를 모두 동일하게 변경 (최대길이 4)\n",
        "for row in train_labels:\n",
        "    row += [1] * (4 - len(row))\n",
        "train_labels"
      ],
      "execution_count": 13,
      "outputs": [
        {
          "output_type": "execute_result",
          "data": {
            "text/plain": [
              "[[1, 1, 1, 2], [1, 1, 0, 1]]"
            ]
          },
          "metadata": {
            "tags": []
          },
          "execution_count": 13
        }
      ]
    },
    {
      "cell_type": "code",
      "metadata": {
        "colab": {
          "base_uri": "https://localhost:8080/"
        },
        "id": "lXylNhS-70gv",
        "outputId": "e2440329-8e05-435b-8aea-e4bf98ece0b9"
      },
      "source": [
        "# 학습용 정답을 numpy array로 변환\n",
        "train_labels = np.array(train_labels)\n",
        "train_labels"
      ],
      "execution_count": 14,
      "outputs": [
        {
          "output_type": "execute_result",
          "data": {
            "text/plain": [
              "array([[1, 1, 1, 2],\n",
              "       [1, 1, 0, 1]])"
            ]
          },
          "metadata": {
            "tags": []
          },
          "execution_count": 14
        }
      ]
    },
    {
      "cell_type": "markdown",
      "metadata": {
        "id": "milX02G6zneK"
      },
      "source": [
        "## 모델링"
      ]
    },
    {
      "cell_type": "code",
      "metadata": {
        "colab": {
          "base_uri": "https://localhost:8080/"
        },
        "id": "Ph7rB5G_V-CG",
        "outputId": "eb49b9fb-3ff8-41bc-b18b-a9997768f288"
      },
      "source": [
        "# 입력 단어를 vector로 변환\n",
        "embedding = tf.keras.layers.Embedding(len(word_to_id), 8)\n",
        "hidden = embedding(train_inputs)\n",
        "hidden"
      ],
      "execution_count": 15,
      "outputs": [
        {
          "output_type": "execute_result",
          "data": {
            "text/plain": [
              "<tf.Tensor: shape=(2, 4, 8), dtype=float32, numpy=\n",
              "array([[[-0.04800937,  0.03933741,  0.0365727 , -0.02174415,\n",
              "         -0.00282722, -0.04632704,  0.04153247, -0.01138527],\n",
              "        [-0.0264183 ,  0.00209554,  0.03272033, -0.00244776,\n",
              "          0.04773093, -0.0414207 , -0.04480568, -0.02639085],\n",
              "        [-0.02456715, -0.02691122, -0.04118692, -0.01664939,\n",
              "          0.02295676, -0.0234491 ,  0.04787463, -0.02608814],\n",
              "        [-0.02818636,  0.01385135,  0.03555342,  0.04277427,\n",
              "          0.02680499, -0.01394784,  0.01671681, -0.01973931]],\n",
              "\n",
              "       [[-0.04800937,  0.03933741,  0.0365727 , -0.02174415,\n",
              "         -0.00282722, -0.04632704,  0.04153247, -0.01138527],\n",
              "        [-0.0264183 ,  0.00209554,  0.03272033, -0.00244776,\n",
              "          0.04773093, -0.0414207 , -0.04480568, -0.02639085],\n",
              "        [-0.02885746, -0.01886793, -0.04923371, -0.03048855,\n",
              "         -0.03724971,  0.02564975, -0.00079206,  0.0387977 ],\n",
              "        [ 0.0032206 , -0.01934782, -0.02590783, -0.02990241,\n",
              "          0.04475189,  0.01708344,  0.04780597,  0.00985916]]],\n",
              "      dtype=float32)>"
            ]
          },
          "metadata": {
            "tags": []
          },
          "execution_count": 15
        }
      ]
    },
    {
      "cell_type": "code",
      "metadata": {
        "colab": {
          "base_uri": "https://localhost:8080/"
        },
        "id": "RQBpJJRO2EWX",
        "outputId": "a367eabf-5a01-4649-e396-a397c820484c"
      },
      "source": [
        "# embedding weight\n",
        "weight = embedding.get_weights()[0]\n",
        "weight"
      ],
      "execution_count": 16,
      "outputs": [
        {
          "output_type": "execute_result",
          "data": {
            "text/plain": [
              "array([[ 0.0032206 , -0.01934782, -0.02590783, -0.02990241,  0.04475189,\n",
              "         0.01708344,  0.04780597,  0.00985916],\n",
              "       [-0.03106566, -0.02807477,  0.02519805, -0.03729252,  0.03974246,\n",
              "         0.02798263, -0.00289103, -0.01176031],\n",
              "       [-0.04800937,  0.03933741,  0.0365727 , -0.02174415, -0.00282722,\n",
              "        -0.04632704,  0.04153247, -0.01138527],\n",
              "       [-0.0264183 ,  0.00209554,  0.03272033, -0.00244776,  0.04773093,\n",
              "        -0.0414207 , -0.04480568, -0.02639085],\n",
              "       [-0.02456715, -0.02691122, -0.04118692, -0.01664939,  0.02295676,\n",
              "        -0.0234491 ,  0.04787463, -0.02608814],\n",
              "       [-0.02818636,  0.01385135,  0.03555342,  0.04277427,  0.02680499,\n",
              "        -0.01394784,  0.01671681, -0.01973931],\n",
              "       [-0.02885746, -0.01886793, -0.04923371, -0.03048855, -0.03724971,\n",
              "         0.02564975, -0.00079206,  0.0387977 ]], dtype=float32)"
            ]
          },
          "metadata": {
            "tags": []
          },
          "execution_count": 16
        }
      ]
    },
    {
      "cell_type": "code",
      "metadata": {
        "colab": {
          "base_uri": "https://localhost:8080/"
        },
        "id": "WM3fkoqs2TCt",
        "outputId": "524fad6f-0cef-4104-f18b-2d2d8218f22f"
      },
      "source": [
        "# numpy를 이용해서 직접 조회 (두 결과값 비교)\n",
        "weight[train_inputs], hidden"
      ],
      "execution_count": 17,
      "outputs": [
        {
          "output_type": "execute_result",
          "data": {
            "text/plain": [
              "(array([[[-0.04800937,  0.03933741,  0.0365727 , -0.02174415,\n",
              "          -0.00282722, -0.04632704,  0.04153247, -0.01138527],\n",
              "         [-0.0264183 ,  0.00209554,  0.03272033, -0.00244776,\n",
              "           0.04773093, -0.0414207 , -0.04480568, -0.02639085],\n",
              "         [-0.02456715, -0.02691122, -0.04118692, -0.01664939,\n",
              "           0.02295676, -0.0234491 ,  0.04787463, -0.02608814],\n",
              "         [-0.02818636,  0.01385135,  0.03555342,  0.04277427,\n",
              "           0.02680499, -0.01394784,  0.01671681, -0.01973931]],\n",
              " \n",
              "        [[-0.04800937,  0.03933741,  0.0365727 , -0.02174415,\n",
              "          -0.00282722, -0.04632704,  0.04153247, -0.01138527],\n",
              "         [-0.0264183 ,  0.00209554,  0.03272033, -0.00244776,\n",
              "           0.04773093, -0.0414207 , -0.04480568, -0.02639085],\n",
              "         [-0.02885746, -0.01886793, -0.04923371, -0.03048855,\n",
              "          -0.03724971,  0.02564975, -0.00079206,  0.0387977 ],\n",
              "         [ 0.0032206 , -0.01934782, -0.02590783, -0.02990241,\n",
              "           0.04475189,  0.01708344,  0.04780597,  0.00985916]]],\n",
              "       dtype=float32), <tf.Tensor: shape=(2, 4, 8), dtype=float32, numpy=\n",
              " array([[[-0.04800937,  0.03933741,  0.0365727 , -0.02174415,\n",
              "          -0.00282722, -0.04632704,  0.04153247, -0.01138527],\n",
              "         [-0.0264183 ,  0.00209554,  0.03272033, -0.00244776,\n",
              "           0.04773093, -0.0414207 , -0.04480568, -0.02639085],\n",
              "         [-0.02456715, -0.02691122, -0.04118692, -0.01664939,\n",
              "           0.02295676, -0.0234491 ,  0.04787463, -0.02608814],\n",
              "         [-0.02818636,  0.01385135,  0.03555342,  0.04277427,\n",
              "           0.02680499, -0.01394784,  0.01671681, -0.01973931]],\n",
              " \n",
              "        [[-0.04800937,  0.03933741,  0.0365727 , -0.02174415,\n",
              "          -0.00282722, -0.04632704,  0.04153247, -0.01138527],\n",
              "         [-0.0264183 ,  0.00209554,  0.03272033, -0.00244776,\n",
              "           0.04773093, -0.0414207 , -0.04480568, -0.02639085],\n",
              "         [-0.02885746, -0.01886793, -0.04923371, -0.03048855,\n",
              "          -0.03724971,  0.02564975, -0.00079206,  0.0387977 ],\n",
              "         [ 0.0032206 , -0.01934782, -0.02590783, -0.02990241,\n",
              "           0.04475189,  0.01708344,  0.04780597,  0.00985916]]],\n",
              "       dtype=float32)>)"
            ]
          },
          "metadata": {
            "tags": []
          },
          "execution_count": 17
        }
      ]
    },
    {
      "cell_type": "code",
      "metadata": {
        "colab": {
          "base_uri": "https://localhost:8080/"
        },
        "id": "mvFLx9nAWV4a",
        "outputId": "5910389c-d0df-4d61-8dff-e67540ee644a"
      },
      "source": [
        "# 단어의 vector를 이용해서 긍정(2), 부정(0), 중립(1) 확률값 예측\n",
        "linear = tf.keras.layers.Dense(3, activation=tf.nn.softmax)\n",
        "outputs = linear(hidden)\n",
        "outputs"
      ],
      "execution_count": 18,
      "outputs": [
        {
          "output_type": "execute_result",
          "data": {
            "text/plain": [
              "<tf.Tensor: shape=(2, 4, 3), dtype=float32, numpy=\n",
              "array([[[0.31971812, 0.34218216, 0.33809966],\n",
              "        [0.32150626, 0.33476642, 0.34372732],\n",
              "        [0.3340001 , 0.3337416 , 0.33225822],\n",
              "        [0.32054338, 0.32274365, 0.35671294]],\n",
              "\n",
              "       [[0.31971812, 0.34218216, 0.33809966],\n",
              "        [0.32150626, 0.33476642, 0.34372732],\n",
              "        [0.34531006, 0.33461484, 0.32007504],\n",
              "        [0.33667365, 0.33350033, 0.32982597]]], dtype=float32)>"
            ]
          },
          "metadata": {
            "tags": []
          },
          "execution_count": 18
        }
      ]
    },
    {
      "cell_type": "code",
      "metadata": {
        "colab": {
          "base_uri": "https://localhost:8080/"
        },
        "id": "WDmhXrH02hy_",
        "outputId": "d91d4ee2-6a3b-4079-ae6a-164ff796e0b3"
      },
      "source": [
        "# dense의 wieght, bias\n",
        "weight, bias = linear.get_weights()\n",
        "weight, bias"
      ],
      "execution_count": 19,
      "outputs": [
        {
          "output_type": "execute_result",
          "data": {
            "text/plain": [
              "(array([[ 0.53229743,  0.5529029 , -0.32125854],\n",
              "        [-0.5636516 , -0.05896288,  0.66829664],\n",
              "        [-0.16442633,  0.16497606, -0.05548364],\n",
              "        [-0.03756589, -0.58237654,  0.73063594],\n",
              "        [-0.0301137 ,  0.02602237,  0.7378138 ],\n",
              "        [-0.13057244, -0.6292717 ,  0.42588133],\n",
              "        [ 0.4395159 ,  0.4441076 ,  0.36945885],\n",
              "        [ 0.59815854,  0.4215477 , -0.28366622]], dtype=float32),\n",
              " array([0., 0., 0.], dtype=float32))"
            ]
          },
          "metadata": {
            "tags": []
          },
          "execution_count": 19
        }
      ]
    },
    {
      "cell_type": "code",
      "metadata": {
        "colab": {
          "base_uri": "https://localhost:8080/"
        },
        "id": "FuxfnYul2wdY",
        "outputId": "816f0217-01e2-4261-a2af-2ff788609d61"
      },
      "source": [
        "# numpy를 이용한 xW + b\n",
        "logits = np.matmul(hidden, weight) + bias\n",
        "logits"
      ],
      "execution_count": 20,
      "outputs": [
        {
          "output_type": "execute_result",
          "data": {
            "text/plain": [
              "array([[[-0.03534639,  0.0325571 ,  0.02055461],\n",
              "        [-0.05203936, -0.01162333,  0.01479226],\n",
              "        [ 0.01729649,  0.01652221,  0.0120676 ],\n",
              "        [-0.03370956, -0.02686878,  0.07320421]],\n",
              "\n",
              "       [[-0.03534639,  0.0325571 ,  0.02055461],\n",
              "        [-0.05203936, -0.01162333,  0.01479226],\n",
              "        [ 0.02514647, -0.0063161 , -0.05074087],\n",
              "        [ 0.04133354,  0.03186329,  0.02078466]]], dtype=float32)"
            ]
          },
          "metadata": {
            "tags": []
          },
          "execution_count": 20
        }
      ]
    },
    {
      "cell_type": "code",
      "metadata": {
        "colab": {
          "base_uri": "https://localhost:8080/"
        },
        "id": "QUoP7xkV3Bmh",
        "outputId": "70816bae-bdbe-4463-ddb0-60f99ed468f7"
      },
      "source": [
        "# softmax 계산을 위한 준비 exp(x') / sum(exp(x))\n",
        "numerator = np.exp(logits)\n",
        "denominator = np.sum(numerator, axis=2, keepdims=True)\n",
        "numerator, denominator"
      ],
      "execution_count": 21,
      "outputs": [
        {
          "output_type": "execute_result",
          "data": {
            "text/plain": [
              "(array([[[0.96527106, 1.033093  , 1.0207672 ],\n",
              "         [0.9492915 , 0.98844403, 1.0149022 ],\n",
              "         [1.017447  , 1.0166594 , 1.0121408 ],\n",
              "         [0.96685225, 0.9734889 , 1.0759501 ]],\n",
              " \n",
              "        [[0.96527106, 1.033093  , 1.0207672 ],\n",
              "         [0.9492915 , 0.98844403, 1.0149022 ],\n",
              "         [1.0254654 , 0.9937038 , 0.95052487],\n",
              "         [1.0421996 , 1.0323764 , 1.0210022 ]]], dtype=float32),\n",
              " array([[[3.0191312],\n",
              "         [2.9526377],\n",
              "         [3.046247 ],\n",
              "         [3.0162914]],\n",
              " \n",
              "        [[3.0191312],\n",
              "         [2.9526377],\n",
              "         [2.969694 ],\n",
              "         [3.0955782]]], dtype=float32))"
            ]
          },
          "metadata": {
            "tags": []
          },
          "execution_count": 21
        }
      ]
    },
    {
      "cell_type": "code",
      "metadata": {
        "colab": {
          "base_uri": "https://localhost:8080/"
        },
        "id": "tbUvx0FT3tJW",
        "outputId": "311430fe-73ee-4f47-acee-3bf1bb934278"
      },
      "source": [
        "# 두 결과값 비교\n",
        "probs = numerator / denominator\n",
        "probs, outputs"
      ],
      "execution_count": 22,
      "outputs": [
        {
          "output_type": "execute_result",
          "data": {
            "text/plain": [
              "(array([[[0.31971815, 0.34218222, 0.33809966],\n",
              "         [0.32150626, 0.33476645, 0.34372732],\n",
              "         [0.33400017, 0.3337416 , 0.33225825],\n",
              "         [0.32054338, 0.32274365, 0.35671294]],\n",
              " \n",
              "        [[0.31971815, 0.34218222, 0.33809966],\n",
              "         [0.32150626, 0.33476645, 0.34372732],\n",
              "         [0.34531012, 0.33461487, 0.32007504],\n",
              "         [0.33667365, 0.33350036, 0.329826  ]]], dtype=float32),\n",
              " <tf.Tensor: shape=(2, 4, 3), dtype=float32, numpy=\n",
              " array([[[0.31971812, 0.34218216, 0.33809966],\n",
              "         [0.32150626, 0.33476642, 0.34372732],\n",
              "         [0.3340001 , 0.3337416 , 0.33225822],\n",
              "         [0.32054338, 0.32274365, 0.35671294]],\n",
              " \n",
              "        [[0.31971812, 0.34218216, 0.33809966],\n",
              "         [0.32150626, 0.33476642, 0.34372732],\n",
              "         [0.34531006, 0.33461484, 0.32007504],\n",
              "         [0.33667365, 0.33350033, 0.32982597]]], dtype=float32)>)"
            ]
          },
          "metadata": {
            "tags": []
          },
          "execution_count": 22
        }
      ]
    },
    {
      "cell_type": "code",
      "metadata": {
        "id": "jF_ezLfIzneK"
      },
      "source": [
        "def build_model(n_vocab, d_model, n_seq, n_out):\n",
        "    \"\"\"\n",
        "    동작만 하는 간단한 모델\n",
        "    :param n_vocab: vocabulary 단어 수\n",
        "    :param d_model: 단어를 의미하는 벡터의 차원 수\n",
        "    :param n_seq: 문장길이 (단어 수)\n",
        "    :param n_out: 예측할 class 개수\n",
        "    \"\"\"\n",
        "    inputs = tf.keras.layers.Input((n_seq,))  # (bs, n_seq)\n",
        "    # 입력 단어를 vector로 변환\n",
        "    embedding = tf.keras.layers.Embedding(n_vocab, d_model)\n",
        "    hidden = embedding(inputs)  # (bs, n_seq, d_model)\n",
        "    #######################################\n",
        "    # 여기에 CNN 및 RNN 모델을 추가해 보세요.\n",
        "    # CNN\n",
        "    conv_1 = tf.keras.layers.Conv1D(filters=128, kernel_size =3, padding='causal')\n",
        "    hidden = conv_1(hidden)\n",
        "\n",
        "    # RNN\n",
        "    # rnn_1 = tf.keras.layers.Bidirectional(tf.keras.layers.SimpleRNN(units=128, return_sequences=True))\n",
        "    # hidden = rnn_1(hidden\n",
        "\n",
        "    #######################################\n",
        "    # 단어의 vector를 이용해서 정답 확률값 예측\n",
        "    linear = tf.keras.layers.Dense(n_out, activation=tf.nn.softmax)\n",
        "    outputs = linear(hidden)  # (bs, n_seq, n_out)\n",
        "    # 학습할 모델 선언\n",
        "    model = tf.keras.Model(inputs=inputs, outputs=outputs)\n",
        "    return model"
      ],
      "execution_count": 27,
      "outputs": []
    },
    {
      "cell_type": "code",
      "metadata": {
        "colab": {
          "base_uri": "https://localhost:8080/",
          "height": 422
        },
        "id": "64I4xvdAzneL",
        "outputId": "fb156c6e-45c4-4af9-c86c-bf94778b3c0e"
      },
      "source": [
        "# 모델 생성\n",
        "model = build_model(len(word_to_id), 8, 4, 3)\n",
        "# 모델 내용 그래프 출력\n",
        "tf.keras.utils.plot_model(model, 'model.png', show_shapes=True)"
      ],
      "execution_count": 28,
      "outputs": [
        {
          "output_type": "execute_result",
          "data": {
            "image/png": "[encoded data removed]",
            "text/plain": [
              "<IPython.core.display.Image object>"
            ]
          },
          "metadata": {
            "tags": []
          },
          "execution_count": 28
        }
      ]
    },
    {
      "cell_type": "markdown",
      "metadata": {
        "id": "DhXN7DHvlEpp"
      },
      "source": [
        "## 학습"
      ]
    },
    {
      "cell_type": "code",
      "metadata": {
        "id": "2P-a9TanzneL"
      },
      "source": [
        "# 모델 loss, optimizer, metric 정의\n",
        "model.compile(loss='sparse_categorical_crossentropy', optimizer='adam', metrics=['accuracy'])"
      ],
      "execution_count": 29,
      "outputs": []
    },
    {
      "cell_type": "code",
      "metadata": {
        "colab": {
          "base_uri": "https://localhost:8080/"
        },
        "id": "kw_41x2RzneL",
        "outputId": "6666dfd9-12cb-4dbd-f01e-18095963d889"
      },
      "source": [
        "# 모델 학습\n",
        "history = model.fit(train_inputs, train_labels, epochs=100, batch_size=16)"
      ],
      "execution_count": 30,
      "outputs": [
        {
          "output_type": "stream",
          "text": [
            "Epoch 1/100\n",
            "1/1 [==============================] - 1s 595ms/step - loss: 1.0984 - accuracy: 0.3750\n",
            "Epoch 2/100\n",
            "1/1 [==============================] - 0s 8ms/step - loss: 1.0879 - accuracy: 0.7500\n",
            "Epoch 3/100\n",
            "1/1 [==============================] - 0s 5ms/step - loss: 1.0774 - accuracy: 0.7500\n",
            "Epoch 4/100\n",
            "1/1 [==============================] - 0s 5ms/step - loss: 1.0670 - accuracy: 0.7500\n",
            "Epoch 5/100\n",
            "1/1 [==============================] - 0s 4ms/step - loss: 1.0566 - accuracy: 0.7500\n",
            "Epoch 6/100\n",
            "1/1 [==============================] - 0s 4ms/step - loss: 1.0461 - accuracy: 0.7500\n",
            "Epoch 7/100\n",
            "1/1 [==============================] - 0s 4ms/step - loss: 1.0355 - accuracy: 0.7500\n",
            "Epoch 8/100\n",
            "1/1 [==============================] - 0s 4ms/step - loss: 1.0249 - accuracy: 0.7500\n",
            "Epoch 9/100\n",
            "1/1 [==============================] - 0s 4ms/step - loss: 1.0140 - accuracy: 0.7500\n",
            "Epoch 10/100\n",
            "1/1 [==============================] - 0s 4ms/step - loss: 1.0030 - accuracy: 0.7500\n",
            "Epoch 11/100\n",
            "1/1 [==============================] - 0s 4ms/step - loss: 0.9919 - accuracy: 0.7500\n",
            "Epoch 12/100\n",
            "1/1 [==============================] - 0s 4ms/step - loss: 0.9805 - accuracy: 0.7500\n",
            "Epoch 13/100\n",
            "1/1 [==============================] - 0s 4ms/step - loss: 0.9689 - accuracy: 0.7500\n",
            "Epoch 14/100\n",
            "1/1 [==============================] - 0s 4ms/step - loss: 0.9572 - accuracy: 0.7500\n",
            "Epoch 15/100\n",
            "1/1 [==============================] - 0s 4ms/step - loss: 0.9452 - accuracy: 0.7500\n",
            "Epoch 16/100\n",
            "1/1 [==============================] - 0s 4ms/step - loss: 0.9331 - accuracy: 0.7500\n",
            "Epoch 17/100\n",
            "1/1 [==============================] - 0s 5ms/step - loss: 0.9207 - accuracy: 0.7500\n",
            "Epoch 18/100\n",
            "1/1 [==============================] - 0s 4ms/step - loss: 0.9082 - accuracy: 0.7500\n",
            "Epoch 19/100\n",
            "1/1 [==============================] - 0s 4ms/step - loss: 0.8954 - accuracy: 0.7500\n",
            "Epoch 20/100\n",
            "1/1 [==============================] - 0s 4ms/step - loss: 0.8826 - accuracy: 0.7500\n",
            "Epoch 21/100\n",
            "1/1 [==============================] - 0s 4ms/step - loss: 0.8696 - accuracy: 0.7500\n",
            "Epoch 22/100\n",
            "1/1 [==============================] - 0s 4ms/step - loss: 0.8565 - accuracy: 0.7500\n",
            "Epoch 23/100\n",
            "1/1 [==============================] - 0s 4ms/step - loss: 0.8432 - accuracy: 0.7500\n",
            "Epoch 24/100\n",
            "1/1 [==============================] - 0s 5ms/step - loss: 0.8300 - accuracy: 0.7500\n",
            "Epoch 25/100\n",
            "1/1 [==============================] - 0s 13ms/step - loss: 0.8166 - accuracy: 0.7500\n",
            "Epoch 26/100\n",
            "1/1 [==============================] - 0s 4ms/step - loss: 0.8032 - accuracy: 0.7500\n",
            "Epoch 27/100\n",
            "1/1 [==============================] - 0s 7ms/step - loss: 0.7899 - accuracy: 0.7500\n",
            "Epoch 28/100\n",
            "1/1 [==============================] - 0s 4ms/step - loss: 0.7765 - accuracy: 0.7500\n",
            "Epoch 29/100\n",
            "1/1 [==============================] - 0s 5ms/step - loss: 0.7631 - accuracy: 0.7500\n",
            "Epoch 30/100\n",
            "1/1 [==============================] - 0s 5ms/step - loss: 0.7498 - accuracy: 0.7500\n",
            "Epoch 31/100\n",
            "1/1 [==============================] - 0s 5ms/step - loss: 0.7366 - accuracy: 0.7500\n",
            "Epoch 32/100\n",
            "1/1 [==============================] - 0s 5ms/step - loss: 0.7234 - accuracy: 0.7500\n",
            "Epoch 33/100\n",
            "1/1 [==============================] - 0s 6ms/step - loss: 0.7103 - accuracy: 0.7500\n",
            "Epoch 34/100\n",
            "1/1 [==============================] - 0s 5ms/step - loss: 0.6972 - accuracy: 0.7500\n",
            "Epoch 35/100\n",
            "1/1 [==============================] - 0s 5ms/step - loss: 0.6843 - accuracy: 0.7500\n",
            "Epoch 36/100\n",
            "1/1 [==============================] - 0s 5ms/step - loss: 0.6714 - accuracy: 0.7500\n",
            "Epoch 37/100\n",
            "1/1 [==============================] - 0s 5ms/step - loss: 0.6586 - accuracy: 0.7500\n",
            "Epoch 38/100\n",
            "1/1 [==============================] - 0s 5ms/step - loss: 0.6459 - accuracy: 0.7500\n",
            "Epoch 39/100\n",
            "1/1 [==============================] - 0s 5ms/step - loss: 0.6332 - accuracy: 0.7500\n",
            "Epoch 40/100\n",
            "1/1 [==============================] - 0s 5ms/step - loss: 0.6205 - accuracy: 0.7500\n",
            "Epoch 41/100\n",
            "1/1 [==============================] - 0s 5ms/step - loss: 0.6078 - accuracy: 0.7500\n",
            "Epoch 42/100\n",
            "1/1 [==============================] - 0s 5ms/step - loss: 0.5952 - accuracy: 0.7500\n",
            "Epoch 43/100\n",
            "1/1 [==============================] - 0s 5ms/step - loss: 0.5825 - accuracy: 0.7500\n",
            "Epoch 44/100\n",
            "1/1 [==============================] - 0s 5ms/step - loss: 0.5698 - accuracy: 0.7500\n",
            "Epoch 45/100\n",
            "1/1 [==============================] - 0s 5ms/step - loss: 0.5571 - accuracy: 0.7500\n",
            "Epoch 46/100\n",
            "1/1 [==============================] - 0s 5ms/step - loss: 0.5443 - accuracy: 0.7500\n",
            "Epoch 47/100\n",
            "1/1 [==============================] - 0s 5ms/step - loss: 0.5314 - accuracy: 0.7500\n",
            "Epoch 48/100\n",
            "1/1 [==============================] - 0s 5ms/step - loss: 0.5185 - accuracy: 0.7500\n",
            "Epoch 49/100\n",
            "1/1 [==============================] - 0s 5ms/step - loss: 0.5054 - accuracy: 0.7500\n",
            "Epoch 50/100\n",
            "1/1 [==============================] - 0s 5ms/step - loss: 0.4923 - accuracy: 0.7500\n",
            "Epoch 51/100\n",
            "1/1 [==============================] - 0s 5ms/step - loss: 0.4791 - accuracy: 0.7500\n",
            "Epoch 52/100\n",
            "1/1 [==============================] - 0s 5ms/step - loss: 0.4658 - accuracy: 0.7500\n",
            "Epoch 53/100\n",
            "1/1 [==============================] - 0s 5ms/step - loss: 0.4525 - accuracy: 0.7500\n",
            "Epoch 54/100\n",
            "1/1 [==============================] - 0s 5ms/step - loss: 0.4391 - accuracy: 0.8750\n",
            "Epoch 55/100\n",
            "1/1 [==============================] - 0s 5ms/step - loss: 0.4258 - accuracy: 0.8750\n",
            "Epoch 56/100\n",
            "1/1 [==============================] - 0s 6ms/step - loss: 0.4124 - accuracy: 0.8750\n",
            "Epoch 57/100\n",
            "1/1 [==============================] - 0s 5ms/step - loss: 0.3990 - accuracy: 0.8750\n",
            "Epoch 58/100\n",
            "1/1 [==============================] - 0s 5ms/step - loss: 0.3858 - accuracy: 0.8750\n",
            "Epoch 59/100\n",
            "1/1 [==============================] - 0s 6ms/step - loss: 0.3726 - accuracy: 0.8750\n",
            "Epoch 60/100\n",
            "1/1 [==============================] - 0s 5ms/step - loss: 0.3595 - accuracy: 0.8750\n",
            "Epoch 61/100\n",
            "1/1 [==============================] - 0s 5ms/step - loss: 0.3465 - accuracy: 0.8750\n",
            "Epoch 62/100\n",
            "1/1 [==============================] - 0s 6ms/step - loss: 0.3338 - accuracy: 0.8750\n",
            "Epoch 63/100\n",
            "1/1 [==============================] - 0s 7ms/step - loss: 0.3212 - accuracy: 0.8750\n",
            "Epoch 64/100\n",
            "1/1 [==============================] - 0s 6ms/step - loss: 0.3089 - accuracy: 0.8750\n",
            "Epoch 65/100\n",
            "1/1 [==============================] - 0s 7ms/step - loss: 0.2968 - accuracy: 0.8750\n",
            "Epoch 66/100\n",
            "1/1 [==============================] - 0s 7ms/step - loss: 0.2849 - accuracy: 0.8750\n",
            "Epoch 67/100\n",
            "1/1 [==============================] - 0s 6ms/step - loss: 0.2734 - accuracy: 0.8750\n",
            "Epoch 68/100\n",
            "1/1 [==============================] - 0s 7ms/step - loss: 0.2621 - accuracy: 1.0000\n",
            "Epoch 69/100\n",
            "1/1 [==============================] - 0s 6ms/step - loss: 0.2512 - accuracy: 1.0000\n",
            "Epoch 70/100\n",
            "1/1 [==============================] - 0s 4ms/step - loss: 0.2405 - accuracy: 1.0000\n",
            "Epoch 71/100\n",
            "1/1 [==============================] - 0s 7ms/step - loss: 0.2302 - accuracy: 1.0000\n",
            "Epoch 72/100\n",
            "1/1 [==============================] - 0s 6ms/step - loss: 0.2202 - accuracy: 1.0000\n",
            "Epoch 73/100\n",
            "1/1 [==============================] - 0s 6ms/step - loss: 0.2105 - accuracy: 1.0000\n",
            "Epoch 74/100\n",
            "1/1 [==============================] - 0s 7ms/step - loss: 0.2010 - accuracy: 1.0000\n",
            "Epoch 75/100\n",
            "1/1 [==============================] - 0s 6ms/step - loss: 0.1919 - accuracy: 1.0000\n",
            "Epoch 76/100\n",
            "1/1 [==============================] - 0s 6ms/step - loss: 0.1831 - accuracy: 1.0000\n",
            "Epoch 77/100\n",
            "1/1 [==============================] - 0s 3ms/step - loss: 0.1746 - accuracy: 1.0000\n",
            "Epoch 78/100\n",
            "1/1 [==============================] - 0s 5ms/step - loss: 0.1664 - accuracy: 1.0000\n",
            "Epoch 79/100\n",
            "1/1 [==============================] - 0s 6ms/step - loss: 0.1584 - accuracy: 1.0000\n",
            "Epoch 80/100\n",
            "1/1 [==============================] - 0s 5ms/step - loss: 0.1508 - accuracy: 1.0000\n",
            "Epoch 81/100\n",
            "1/1 [==============================] - 0s 9ms/step - loss: 0.1434 - accuracy: 1.0000\n",
            "Epoch 82/100\n",
            "1/1 [==============================] - 0s 7ms/step - loss: 0.1363 - accuracy: 1.0000\n",
            "Epoch 83/100\n",
            "1/1 [==============================] - 0s 8ms/step - loss: 0.1296 - accuracy: 1.0000\n",
            "Epoch 84/100\n",
            "1/1 [==============================] - 0s 7ms/step - loss: 0.1231 - accuracy: 1.0000\n",
            "Epoch 85/100\n",
            "1/1 [==============================] - 0s 8ms/step - loss: 0.1169 - accuracy: 1.0000\n",
            "Epoch 86/100\n",
            "1/1 [==============================] - 0s 7ms/step - loss: 0.1109 - accuracy: 1.0000\n",
            "Epoch 87/100\n",
            "1/1 [==============================] - 0s 5ms/step - loss: 0.1053 - accuracy: 1.0000\n",
            "Epoch 88/100\n",
            "1/1 [==============================] - 0s 7ms/step - loss: 0.0999 - accuracy: 1.0000\n",
            "Epoch 89/100\n",
            "1/1 [==============================] - 0s 9ms/step - loss: 0.0948 - accuracy: 1.0000\n",
            "Epoch 90/100\n",
            "1/1 [==============================] - 0s 8ms/step - loss: 0.0900 - accuracy: 1.0000\n",
            "Epoch 91/100\n",
            "1/1 [==============================] - 0s 6ms/step - loss: 0.0854 - accuracy: 1.0000\n",
            "Epoch 92/100\n",
            "1/1 [==============================] - 0s 6ms/step - loss: 0.0811 - accuracy: 1.0000\n",
            "Epoch 93/100\n",
            "1/1 [==============================] - 0s 5ms/step - loss: 0.0770 - accuracy: 1.0000\n",
            "Epoch 94/100\n",
            "1/1 [==============================] - 0s 4ms/step - loss: 0.0732 - accuracy: 1.0000\n",
            "Epoch 95/100\n",
            "1/1 [==============================] - 0s 5ms/step - loss: 0.0695 - accuracy: 1.0000\n",
            "Epoch 96/100\n",
            "1/1 [==============================] - 0s 5ms/step - loss: 0.0661 - accuracy: 1.0000\n",
            "Epoch 97/100\n",
            "1/1 [==============================] - 0s 5ms/step - loss: 0.0629 - accuracy: 1.0000\n",
            "Epoch 98/100\n",
            "1/1 [==============================] - 0s 5ms/step - loss: 0.0599 - accuracy: 1.0000\n",
            "Epoch 99/100\n",
            "1/1 [==============================] - 0s 4ms/step - loss: 0.0570 - accuracy: 1.0000\n",
            "Epoch 100/100\n",
            "1/1 [==============================] - 0s 5ms/step - loss: 0.0543 - accuracy: 1.0000\n"
          ],
          "name": "stdout"
        }
      ]
    },
    {
      "cell_type": "code",
      "metadata": {
        "colab": {
          "base_uri": "https://localhost:8080/",
          "height": 279
        },
        "id": "YxJ4kOkxzneL",
        "outputId": "5f2af04e-3532-43f0-d0d7-ef72ed4f858f"
      },
      "source": [
        "plt.figure(figsize=(12, 4))\n",
        "\n",
        "plt.subplot(1, 2, 1)\n",
        "plt.plot(history.history['loss'], 'b-', label='loss')\n",
        "plt.xlabel('Epoch')\n",
        "plt.legend()\n",
        "\n",
        "plt.subplot(1, 2, 2)\n",
        "plt.plot(history.history['accuracy'], 'g-', label='accuracy')\n",
        "plt.xlabel('Epoch')\n",
        "plt.legend()\n",
        "\n",
        "plt.show()"
      ],
      "execution_count": 31,
      "outputs": [
        {
          "output_type": "display_data",
          "data": {
            "image/png": "[encoded data removed]",
            "text/plain": [
              "<Figure size 864x288 with 2 Axes>"
            ]
          },
          "metadata": {
            "tags": [],
            "needs_background": "light"
          }
        }
      ]
    },
    {
      "cell_type": "markdown",
      "metadata": {
        "id": "hjSlRk99zneL"
      },
      "source": [
        "## 평가"
      ]
    },
    {
      "cell_type": "code",
      "metadata": {
        "colab": {
          "base_uri": "https://localhost:8080/"
        },
        "id": "2HyKEaYdzneL",
        "outputId": "a0c18640-5888-42ad-b94d-d25abe1f7f13"
      },
      "source": [
        "# 모델 평가\n",
        "model.evaluate(train_inputs, train_labels)"
      ],
      "execution_count": 32,
      "outputs": [
        {
          "output_type": "stream",
          "text": [
            "1/1 [==============================] - 0s 172ms/step - loss: 0.0518 - accuracy: 1.0000\n"
          ],
          "name": "stdout"
        },
        {
          "output_type": "execute_result",
          "data": {
            "text/plain": [
              "[0.05179218202829361, 1.0]"
            ]
          },
          "metadata": {
            "tags": []
          },
          "execution_count": 32
        }
      ]
    },
    {
      "cell_type": "markdown",
      "metadata": {
        "id": "XpcISJ_ozneL"
      },
      "source": [
        "## 예측"
      ]
    },
    {
      "cell_type": "code",
      "metadata": {
        "id": "LJkTEZONXyFU"
      },
      "source": [
        "# 추론할 입력\n",
        "string = '나는 기분이 우울해'"
      ],
      "execution_count": 33,
      "outputs": []
    },
    {
      "cell_type": "code",
      "metadata": {
        "colab": {
          "base_uri": "https://localhost:8080/"
        },
        "id": "CfprsWzGXvWA",
        "outputId": "3d91de70-52ca-46e8-b3a8-dad034dfc15c"
      },
      "source": [
        "# 입력을 숫자로 변경\n",
        "infer_input = [word_to_id[word] for word in string.split()]\n",
        "infer_input"
      ],
      "execution_count": 34,
      "outputs": [
        {
          "output_type": "execute_result",
          "data": {
            "text/plain": [
              "[2, 4, 6]"
            ]
          },
          "metadata": {
            "tags": []
          },
          "execution_count": 34
        }
      ]
    },
    {
      "cell_type": "code",
      "metadata": {
        "colab": {
          "base_uri": "https://localhost:8080/"
        },
        "id": "Kg_dmgZOX30T",
        "outputId": "7d03dcbb-18cb-4599-a531-5144f0cdf26d"
      },
      "source": [
        "# 문장의 길이를 모두 동일하게 변경 (최대길이 4)\n",
        "infer_input += [0] * (4 - len(infer_input))\n",
        "infer_input"
      ],
      "execution_count": 35,
      "outputs": [
        {
          "output_type": "execute_result",
          "data": {
            "text/plain": [
              "[2, 4, 6, 0]"
            ]
          },
          "metadata": {
            "tags": []
          },
          "execution_count": 35
        }
      ]
    },
    {
      "cell_type": "code",
      "metadata": {
        "colab": {
          "base_uri": "https://localhost:8080/"
        },
        "id": "MAfaCPQEzneL",
        "outputId": "41d4112e-42a8-4f5f-8067-6354829539b0"
      },
      "source": [
        "# numpy array 변환 (batch size 1 추가)\n",
        "infer_inputs = np.array([infer_input])\n",
        "infer_inputs"
      ],
      "execution_count": 36,
      "outputs": [
        {
          "output_type": "execute_result",
          "data": {
            "text/plain": [
              "array([[2, 4, 6, 0]])"
            ]
          },
          "metadata": {
            "tags": []
          },
          "execution_count": 36
        }
      ]
    },
    {
      "cell_type": "code",
      "metadata": {
        "colab": {
          "base_uri": "https://localhost:8080/"
        },
        "id": "YUSMsyWbzneL",
        "outputId": "81863965-70f0-406b-b350-2892df14a80e"
      },
      "source": [
        "# 긍정/부정 추론\n",
        "y_preds = model.predict(infer_inputs)\n",
        "y_preds"
      ],
      "execution_count": 37,
      "outputs": [
        {
          "output_type": "execute_result",
          "data": {
            "text/plain": [
              "array([[[0.00664415, 0.9865383 , 0.00681749],\n",
              "        [0.01228302, 0.97007275, 0.01764426],\n",
              "        [0.57447773, 0.03447368, 0.3910485 ],\n",
              "        [0.01526641, 0.980078  , 0.00465564]]], dtype=float32)"
            ]
          },
          "metadata": {
            "tags": []
          },
          "execution_count": 37
        }
      ]
    },
    {
      "cell_type": "code",
      "metadata": {
        "colab": {
          "base_uri": "https://localhost:8080/"
        },
        "id": "RdC00mgdzneL",
        "outputId": "fb0e8691-4609-4b8c-96c0-5b816178ebc9"
      },
      "source": [
        "# 확률의 max 값을 추론 값으로 결정\n",
        "y_pred_class = np.argmax(y_preds, axis=2)\n",
        "y_pred_class"
      ],
      "execution_count": 38,
      "outputs": [
        {
          "output_type": "execute_result",
          "data": {
            "text/plain": [
              "array([[1, 1, 0, 1]])"
            ]
          },
          "metadata": {
            "tags": []
          },
          "execution_count": 38
        }
      ]
    },
    {
      "cell_type": "code",
      "metadata": {
        "colab": {
          "base_uri": "https://localhost:8080/"
        },
        "id": "iVYc0DXrTuaZ",
        "outputId": "507e6572-da1b-45ea-b096-2edfcad6470f"
      },
      "source": [
        "# 각 예측 값에 대한 label string\n",
        "for row in y_pred_class:\n",
        "    for val in row:\n",
        "        print(val, ':', id_to_label[val])"
      ],
      "execution_count": 39,
      "outputs": [
        {
          "output_type": "stream",
          "text": [
            "1 : 중립\n",
            "1 : 중립\n",
            "0 : 부정\n",
            "1 : 중립\n"
          ],
          "name": "stdout"
        }
      ]
    },
    {
      "cell_type": "markdown",
      "metadata": {
        "id": "y_9x5ECWZhbS"
      },
      "source": [
        "# 문장 긍정(1), 부정(0) 분류 프로젝트"
      ]
    },
    {
      "cell_type": "markdown",
      "metadata": {
        "id": "3uPb-tIEZhbd"
      },
      "source": [
        "## 데이터"
      ]
    },
    {
      "cell_type": "code",
      "metadata": {
        "id": "i7oqS_rHZhbe"
      },
      "source": [
        "# 입력 문장\n",
        "sentences = [\n",
        "    '나는 오늘 기분이 좋아',\n",
        "    '나는 오늘 우울해'\n",
        "]\n",
        "\n",
        "# 출력 정답\n",
        "labels = [1, 0]  # 긍정(1), 부정(0)\n",
        "\n",
        "# 정답 dic\n",
        "id_to_label = {0: '부정', 1: '긍정'}"
      ],
      "execution_count": 40,
      "outputs": []
    },
    {
      "cell_type": "markdown",
      "metadata": {
        "id": "5QAm2W2eZhbe"
      },
      "source": [
        "## Vocabulary"
      ]
    },
    {
      "cell_type": "code",
      "metadata": {
        "colab": {
          "base_uri": "https://localhost:8080/"
        },
        "id": "nPAFem00Zhbe",
        "outputId": "5b2f2656-c771-4d96-9fbe-3c64049af301"
      },
      "source": [
        "# 각 문장을 띄어쓰기 단위로 분할\n",
        "words = []\n",
        "for sentence in sentences:\n",
        "    words.extend(sentence.split())\n",
        "words"
      ],
      "execution_count": 41,
      "outputs": [
        {
          "output_type": "execute_result",
          "data": {
            "text/plain": [
              "['나는', '오늘', '기분이', '좋아', '나는', '오늘', '우울해']"
            ]
          },
          "metadata": {
            "tags": []
          },
          "execution_count": 41
        }
      ]
    },
    {
      "cell_type": "code",
      "metadata": {
        "colab": {
          "base_uri": "https://localhost:8080/"
        },
        "id": "fG66UxYRZhbf",
        "outputId": "6d71c4b1-845b-42ea-844b-0ff69f6b2b94"
      },
      "source": [
        "# 중복 단어 제거\n",
        "words = list(dict.fromkeys(words))\n",
        "words"
      ],
      "execution_count": 42,
      "outputs": [
        {
          "output_type": "execute_result",
          "data": {
            "text/plain": [
              "['나는', '오늘', '기분이', '좋아', '우울해']"
            ]
          },
          "metadata": {
            "tags": []
          },
          "execution_count": 42
        }
      ]
    },
    {
      "cell_type": "code",
      "metadata": {
        "colab": {
          "base_uri": "https://localhost:8080/"
        },
        "id": "c4z8up8GZhbf",
        "outputId": "548b4d85-f87b-40ed-c395-3812686c29cc"
      },
      "source": [
        "# 각 단어별 고유한 번호 부여\n",
        "word_to_id = {'[PAD]': 0, '[UNK]': 1}\n",
        "for word in words:\n",
        "    word_to_id[word] = len(word_to_id)\n",
        "word_to_id"
      ],
      "execution_count": 43,
      "outputs": [
        {
          "output_type": "execute_result",
          "data": {
            "text/plain": [
              "{'[PAD]': 0, '[UNK]': 1, '기분이': 4, '나는': 2, '오늘': 3, '우울해': 6, '좋아': 5}"
            ]
          },
          "metadata": {
            "tags": []
          },
          "execution_count": 43
        }
      ]
    },
    {
      "cell_type": "code",
      "metadata": {
        "colab": {
          "base_uri": "https://localhost:8080/"
        },
        "id": "uOCStzoAZhbf",
        "outputId": "4e94f366-9a65-4582-dc84-267a770207d7"
      },
      "source": [
        "# 각 숫자별 단어 부여\n",
        "id_to_word = {_id:word for word, _id in word_to_id.items()}\n",
        "id_to_word"
      ],
      "execution_count": 44,
      "outputs": [
        {
          "output_type": "execute_result",
          "data": {
            "text/plain": [
              "{0: '[PAD]', 1: '[UNK]', 2: '나는', 3: '오늘', 4: '기분이', 5: '좋아', 6: '우울해'}"
            ]
          },
          "metadata": {
            "tags": []
          },
          "execution_count": 44
        }
      ]
    },
    {
      "cell_type": "markdown",
      "metadata": {
        "id": "GIGGW1zCZhbf"
      },
      "source": [
        "## 모델 학습용 데이터 생성"
      ]
    },
    {
      "cell_type": "code",
      "metadata": {
        "colab": {
          "base_uri": "https://localhost:8080/"
        },
        "id": "vqOJgFInZhbf",
        "outputId": "faede0a6-43e0-4221-a51c-60027219e84a"
      },
      "source": [
        "# 학습용 입력 데이터 생성\n",
        "train_inputs = []\n",
        "for sentence in sentences:\n",
        "    train_inputs.append([word_to_id[word] for word in sentence.split()])\n",
        "train_inputs"
      ],
      "execution_count": 45,
      "outputs": [
        {
          "output_type": "execute_result",
          "data": {
            "text/plain": [
              "[[2, 3, 4, 5], [2, 3, 6]]"
            ]
          },
          "metadata": {
            "tags": []
          },
          "execution_count": 45
        }
      ]
    },
    {
      "cell_type": "code",
      "metadata": {
        "colab": {
          "base_uri": "https://localhost:8080/"
        },
        "id": "3tnBuxc7Zhbg",
        "outputId": "299fc2b8-a23b-4cf2-c571-c50695a1ce90"
      },
      "source": [
        "# train label은 labels를 그래도 사용\n",
        "train_labels = labels\n",
        "train_labels"
      ],
      "execution_count": 46,
      "outputs": [
        {
          "output_type": "execute_result",
          "data": {
            "text/plain": [
              "[1, 0]"
            ]
          },
          "metadata": {
            "tags": []
          },
          "execution_count": 46
        }
      ]
    },
    {
      "cell_type": "code",
      "metadata": {
        "colab": {
          "base_uri": "https://localhost:8080/"
        },
        "id": "dDgDN_bNZhbg",
        "outputId": "61c954ba-9479-4d04-88c2-78b37ccb9983"
      },
      "source": [
        "# 문장의 길이를 모두 동일하게 변경 (최대길이 4)\n",
        "for row in train_inputs:\n",
        "    row += [0] * (4 - len(row))\n",
        "train_inputs"
      ],
      "execution_count": 47,
      "outputs": [
        {
          "output_type": "execute_result",
          "data": {
            "text/plain": [
              "[[2, 3, 4, 5], [2, 3, 6, 0]]"
            ]
          },
          "metadata": {
            "tags": []
          },
          "execution_count": 47
        }
      ]
    },
    {
      "cell_type": "code",
      "metadata": {
        "colab": {
          "base_uri": "https://localhost:8080/"
        },
        "id": "NK056QQoZhbg",
        "outputId": "1b9fac24-9954-43f5-cd08-34ac60d889f1"
      },
      "source": [
        "# train inputs을 numpy array로 변환\n",
        "train_inputs = np.array(train_inputs)\n",
        "train_inputs"
      ],
      "execution_count": 48,
      "outputs": [
        {
          "output_type": "execute_result",
          "data": {
            "text/plain": [
              "array([[2, 3, 4, 5],\n",
              "       [2, 3, 6, 0]])"
            ]
          },
          "metadata": {
            "tags": []
          },
          "execution_count": 48
        }
      ]
    },
    {
      "cell_type": "code",
      "metadata": {
        "colab": {
          "base_uri": "https://localhost:8080/"
        },
        "id": "Sfjb3EZAZhbh",
        "outputId": "683ec194-3172-4b15-e36b-689180e7286e"
      },
      "source": [
        "# 학습용 정답을 numpy array로 변환\n",
        "train_labels = np.array(train_labels)\n",
        "train_labels"
      ],
      "execution_count": 49,
      "outputs": [
        {
          "output_type": "execute_result",
          "data": {
            "text/plain": [
              "array([1, 0])"
            ]
          },
          "metadata": {
            "tags": []
          },
          "execution_count": 49
        }
      ]
    },
    {
      "cell_type": "markdown",
      "metadata": {
        "id": "85GzrE0HZhbh"
      },
      "source": [
        "## 모델링"
      ]
    },
    {
      "cell_type": "code",
      "metadata": {
        "colab": {
          "base_uri": "https://localhost:8080/"
        },
        "id": "ho--z_ahZhbh",
        "outputId": "8b6c4f43-17e6-4529-8273-83749f5755ae"
      },
      "source": [
        "# 입력 단어를 vector로 변환\n",
        "embedding = tf.keras.layers.Embedding(len(word_to_id), 8)\n",
        "hidden = embedding(train_inputs)\n",
        "hidden"
      ],
      "execution_count": 50,
      "outputs": [
        {
          "output_type": "execute_result",
          "data": {
            "text/plain": [
              "<tf.Tensor: shape=(2, 4, 8), dtype=float32, numpy=\n",
              "array([[[ 1.5674029e-02, -1.4546562e-02, -2.9664231e-02, -4.8982501e-02,\n",
              "          2.9063430e-02,  2.5506463e-02,  3.0854177e-02,  2.5702011e-02],\n",
              "        [ 2.2696618e-02, -3.7127864e-02,  3.9556351e-02, -2.1502972e-03,\n",
              "          4.6954598e-02,  1.8829372e-02,  9.1517940e-03,  1.6145419e-02],\n",
              "        [-1.6030442e-02,  4.8268009e-02, -1.9326830e-02, -7.8968182e-03,\n",
              "          3.7856150e-02, -4.9129453e-02, -4.0698767e-02,  2.4801638e-02],\n",
              "        [ 3.0140702e-02,  4.4053052e-02, -3.7226565e-03, -1.9647980e-02,\n",
              "          1.5119400e-02, -1.3719089e-03,  2.6027177e-02, -4.1463505e-02]],\n",
              "\n",
              "       [[ 1.5674029e-02, -1.4546562e-02, -2.9664231e-02, -4.8982501e-02,\n",
              "          2.9063430e-02,  2.5506463e-02,  3.0854177e-02,  2.5702011e-02],\n",
              "        [ 2.2696618e-02, -3.7127864e-02,  3.9556351e-02, -2.1502972e-03,\n",
              "          4.6954598e-02,  1.8829372e-02,  9.1517940e-03,  1.6145419e-02],\n",
              "        [ 4.4957843e-02,  1.0306992e-02, -9.7204819e-03, -2.4986828e-02,\n",
              "         -2.3791719e-02, -8.5473061e-04,  3.6717620e-02, -4.7707807e-02],\n",
              "        [-4.9373984e-02, -9.7025186e-05,  8.9270473e-03, -2.5433278e-02,\n",
              "         -3.0919397e-02, -3.7235092e-02, -2.3188436e-02, -6.7915767e-04]]],\n",
              "      dtype=float32)>"
            ]
          },
          "metadata": {
            "tags": []
          },
          "execution_count": 50
        }
      ]
    },
    {
      "cell_type": "code",
      "metadata": {
        "colab": {
          "base_uri": "https://localhost:8080/"
        },
        "id": "iAHwFqpiaKLj",
        "outputId": "36caeba8-0e3f-44dc-bdd5-b2ff79605f78"
      },
      "source": [
        "# 각 단어 벡터의 최대값 기준으로 벡터를 더해서 차원을 줄여줌 (문장 vector 생성)\n",
        "pool = tf.keras.layers.GlobalMaxPool1D()\n",
        "hidden_pool = pool(hidden)\n",
        "hidden_pool"
      ],
      "execution_count": 51,
      "outputs": [
        {
          "output_type": "execute_result",
          "data": {
            "text/plain": [
              "<tf.Tensor: shape=(2, 8), dtype=float32, numpy=\n",
              "array([[ 0.0301407 ,  0.04826801,  0.03955635, -0.0021503 ,  0.0469546 ,\n",
              "         0.02550646,  0.03085418,  0.02570201],\n",
              "       [ 0.04495784,  0.01030699,  0.03955635, -0.0021503 ,  0.0469546 ,\n",
              "         0.02550646,  0.03671762,  0.02570201]], dtype=float32)>"
            ]
          },
          "metadata": {
            "tags": []
          },
          "execution_count": 51
        }
      ]
    },
    {
      "cell_type": "code",
      "metadata": {
        "colab": {
          "base_uri": "https://localhost:8080/"
        },
        "id": "P_H1viaeZhbh",
        "outputId": "e8d9d829-0311-466c-bff3-eebe1edf5e8b"
      },
      "source": [
        "# 문장 vector를 이용해서 긍정(1), 부정(0) 확률값 예측\n",
        "linear = tf.keras.layers.Dense(2, activation=tf.nn.softmax)\n",
        "outputs = linear(hidden_pool)\n",
        "outputs"
      ],
      "execution_count": 52,
      "outputs": [
        {
          "output_type": "execute_result",
          "data": {
            "text/plain": [
              "<tf.Tensor: shape=(2, 2), dtype=float32, numpy=\n",
              "array([[0.49062818, 0.5093718 ],\n",
              "       [0.49263957, 0.50736034]], dtype=float32)>"
            ]
          },
          "metadata": {
            "tags": []
          },
          "execution_count": 52
        }
      ]
    },
    {
      "cell_type": "code",
      "metadata": {
        "id": "7QPDAjdMZhbh"
      },
      "source": [
        "def build_model(n_vocab, d_model, n_seq, n_out):\n",
        "    \"\"\"\n",
        "    동작만 하는 간단한 모델\n",
        "    :param n_vocab: vocabulary 단어 수\n",
        "    :param d_model: 단어를 의미하는 벡터의 차원 수\n",
        "    :param n_seq: 문장길이 (단어 수)\n",
        "    :param n_out: 예측할 class 개수\n",
        "    \"\"\"\n",
        "    inputs = tf.keras.layers.Input((n_seq,))  # (bs, n_seq)\n",
        "    # 입력 단어를 vector로 변환\n",
        "    embedding = tf.keras.layers.Embedding(n_vocab, d_model)\n",
        "    hidden = embedding(inputs)  # (bs, n_seq, d_model)\n",
        "    #######################################\n",
        "    # 여기에 CNN 및 RNN 모델을 추가해 보세요.\n",
        "\n",
        "    # CNN\n",
        "    conv_1 = tf.keras.layers.Conv1D(filters=128, kernel_size =3, padding='causal')\n",
        "    hidden = conv_1(hidden)\n",
        "\n",
        "    # RNN\n",
        "    # rnn_1 = tf.keras.layers.Bidirectional(tf.keras.layers.SimpleRNN(units=128, return_sequences=True))\n",
        "    # hidden = rnn_1(hidden\n",
        "    #######################################\n",
        "    # 각 단어 벡터의 최대값 기준으로 벡터를 더해서 차원을 줄여줌 (문장 vector 생성)\n",
        "    pool = tf.keras.layers.GlobalMaxPool1D()\n",
        "    hidden_pool = pool(hidden)  # (bs, d_model)\n",
        "    # 문장 vector를 이용해서 긍정(1), 부정(0) 확률값 예측\n",
        "    linear = tf.keras.layers.Dense(2, activation=tf.nn.softmax)\n",
        "    outputs = linear(hidden_pool)  # (bs, n_out)\n",
        "    # 학습할 모델 선언\n",
        "    model = tf.keras.Model(inputs=inputs, outputs=outputs)\n",
        "    return model"
      ],
      "execution_count": 53,
      "outputs": []
    },
    {
      "cell_type": "code",
      "metadata": {
        "colab": {
          "base_uri": "https://localhost:8080/",
          "height": 533
        },
        "id": "FlT9uYrxZhbi",
        "outputId": "d9cee2f6-e7bc-42f6-8c02-0d426f1c1e46"
      },
      "source": [
        "# 모델 생성\n",
        "model = build_model(len(word_to_id), 8, 4, 2)\n",
        "# 모델 내용 그래프 출력\n",
        "tf.keras.utils.plot_model(model, 'model.png', show_shapes=True)"
      ],
      "execution_count": 54,
      "outputs": [
        {
          "output_type": "execute_result",
          "data": {
            "image/png": "[encoded data removed]",
            "text/plain": [
              "<IPython.core.display.Image object>"
            ]
          },
          "metadata": {
            "tags": []
          },
          "execution_count": 54
        }
      ]
    },
    {
      "cell_type": "markdown",
      "metadata": {
        "id": "rrhMcv0FZhbi"
      },
      "source": [
        "## 학습"
      ]
    },
    {
      "cell_type": "code",
      "metadata": {
        "id": "oh87DPXoZhbi"
      },
      "source": [
        "# 모델 loss, optimizer, metric 정의\n",
        "model.compile(loss='sparse_categorical_crossentropy', optimizer='adam', metrics=['accuracy'])"
      ],
      "execution_count": 55,
      "outputs": []
    },
    {
      "cell_type": "code",
      "metadata": {
        "colab": {
          "base_uri": "https://localhost:8080/"
        },
        "id": "K5mlWw7lZhbi",
        "outputId": "e421f275-61e9-436f-cadc-05f868be5e84"
      },
      "source": [
        "# 모델 학습\n",
        "history = model.fit(train_inputs, train_labels, epochs=20, batch_size=16)"
      ],
      "execution_count": 56,
      "outputs": [
        {
          "output_type": "stream",
          "text": [
            "Epoch 1/20\n",
            "1/1 [==============================] - 0s 424ms/step - loss: 0.6932 - accuracy: 0.5000\n",
            "Epoch 2/20\n",
            "1/1 [==============================] - 0s 5ms/step - loss: 0.6906 - accuracy: 0.5000\n",
            "Epoch 3/20\n",
            "1/1 [==============================] - 0s 6ms/step - loss: 0.6880 - accuracy: 1.0000\n",
            "Epoch 4/20\n",
            "1/1 [==============================] - 0s 3ms/step - loss: 0.6855 - accuracy: 1.0000\n",
            "Epoch 5/20\n",
            "1/1 [==============================] - 0s 4ms/step - loss: 0.6831 - accuracy: 1.0000\n",
            "Epoch 6/20\n",
            "1/1 [==============================] - 0s 4ms/step - loss: 0.6806 - accuracy: 1.0000\n",
            "Epoch 7/20\n",
            "1/1 [==============================] - 0s 4ms/step - loss: 0.6781 - accuracy: 1.0000\n",
            "Epoch 8/20\n",
            "1/1 [==============================] - 0s 4ms/step - loss: 0.6758 - accuracy: 1.0000\n",
            "Epoch 9/20\n",
            "1/1 [==============================] - 0s 4ms/step - loss: 0.6733 - accuracy: 1.0000\n",
            "Epoch 10/20\n",
            "1/1 [==============================] - 0s 4ms/step - loss: 0.6708 - accuracy: 1.0000\n",
            "Epoch 11/20\n",
            "1/1 [==============================] - 0s 4ms/step - loss: 0.6683 - accuracy: 1.0000\n",
            "Epoch 12/20\n",
            "1/1 [==============================] - 0s 4ms/step - loss: 0.6657 - accuracy: 1.0000\n",
            "Epoch 13/20\n",
            "1/1 [==============================] - 0s 4ms/step - loss: 0.6630 - accuracy: 1.0000\n",
            "Epoch 14/20\n",
            "1/1 [==============================] - 0s 4ms/step - loss: 0.6602 - accuracy: 1.0000\n",
            "Epoch 15/20\n",
            "1/1 [==============================] - 0s 4ms/step - loss: 0.6571 - accuracy: 1.0000\n",
            "Epoch 16/20\n",
            "1/1 [==============================] - 0s 4ms/step - loss: 0.6539 - accuracy: 1.0000\n",
            "Epoch 17/20\n",
            "1/1 [==============================] - 0s 6ms/step - loss: 0.6507 - accuracy: 1.0000\n",
            "Epoch 18/20\n",
            "1/1 [==============================] - 0s 4ms/step - loss: 0.6472 - accuracy: 1.0000\n",
            "Epoch 19/20\n",
            "1/1 [==============================] - 0s 4ms/step - loss: 0.6436 - accuracy: 1.0000\n",
            "Epoch 20/20\n",
            "1/1 [==============================] - 0s 3ms/step - loss: 0.6398 - accuracy: 1.0000\n"
          ],
          "name": "stdout"
        }
      ]
    },
    {
      "cell_type": "code",
      "metadata": {
        "colab": {
          "base_uri": "https://localhost:8080/",
          "height": 279
        },
        "id": "Xedcn0HqZhbi",
        "outputId": "1a48a302-a162-4670-c208-4f0b27d98900"
      },
      "source": [
        "plt.figure(figsize=(12, 4))\n",
        "\n",
        "plt.subplot(1, 2, 1)\n",
        "plt.plot(history.history['loss'], 'b-', label='loss')\n",
        "plt.xlabel('Epoch')\n",
        "plt.legend()\n",
        "\n",
        "plt.subplot(1, 2, 2)\n",
        "plt.plot(history.history['accuracy'], 'g-', label='accuracy')\n",
        "plt.xlabel('Epoch')\n",
        "plt.legend()\n",
        "\n",
        "plt.show()"
      ],
      "execution_count": 57,
      "outputs": [
        {
          "output_type": "display_data",
          "data": {
            "image/png": "[encoded data removed]",
            "text/plain": [
              "<Figure size 864x288 with 2 Axes>"
            ]
          },
          "metadata": {
            "tags": [],
            "needs_background": "light"
          }
        }
      ]
    },
    {
      "cell_type": "markdown",
      "metadata": {
        "id": "ib6gdZI5Zhbi"
      },
      "source": [
        "## 평가"
      ]
    },
    {
      "cell_type": "code",
      "metadata": {
        "colab": {
          "base_uri": "https://localhost:8080/"
        },
        "id": "IEayBpfbZhbj",
        "outputId": "6e6fd18d-7235-4710-e379-b247b33cd85e"
      },
      "source": [
        "# 모델 평가\n",
        "model.evaluate(train_inputs, train_labels)"
      ],
      "execution_count": 58,
      "outputs": [
        {
          "output_type": "stream",
          "text": [
            "1/1 [==============================] - 0s 95ms/step - loss: 0.6359 - accuracy: 1.0000\n"
          ],
          "name": "stdout"
        },
        {
          "output_type": "execute_result",
          "data": {
            "text/plain": [
              "[0.6359084248542786, 1.0]"
            ]
          },
          "metadata": {
            "tags": []
          },
          "execution_count": 58
        }
      ]
    },
    {
      "cell_type": "markdown",
      "metadata": {
        "id": "Vlt4WXgWZhbj"
      },
      "source": [
        "## 예측"
      ]
    },
    {
      "cell_type": "code",
      "metadata": {
        "id": "tvS1GqDhZhbj"
      },
      "source": [
        "# 추론할 입력\n",
        "string = '나는 기분이 우울해'"
      ],
      "execution_count": 59,
      "outputs": []
    },
    {
      "cell_type": "code",
      "metadata": {
        "colab": {
          "base_uri": "https://localhost:8080/"
        },
        "id": "0EM08Z8vZhbj",
        "outputId": "1cea3fe4-745b-4e8c-85e3-b72400f75820"
      },
      "source": [
        "# 입력을 숫자로 변경\n",
        "infer_input = [word_to_id[word] for word in string.split()]\n",
        "infer_input"
      ],
      "execution_count": 60,
      "outputs": [
        {
          "output_type": "execute_result",
          "data": {
            "text/plain": [
              "[2, 4, 6]"
            ]
          },
          "metadata": {
            "tags": []
          },
          "execution_count": 60
        }
      ]
    },
    {
      "cell_type": "code",
      "metadata": {
        "colab": {
          "base_uri": "https://localhost:8080/"
        },
        "id": "V18cJiq6Zhbj",
        "outputId": "1c7d7e80-c598-46b6-f0de-ade6552abbd7"
      },
      "source": [
        "# 문장의 길이를 모두 동일하게 변경 (최대길이 4)\n",
        "infer_input += [0] * (4 - len(infer_input))\n",
        "infer_input"
      ],
      "execution_count": 61,
      "outputs": [
        {
          "output_type": "execute_result",
          "data": {
            "text/plain": [
              "[2, 4, 6, 0]"
            ]
          },
          "metadata": {
            "tags": []
          },
          "execution_count": 61
        }
      ]
    },
    {
      "cell_type": "code",
      "metadata": {
        "colab": {
          "base_uri": "https://localhost:8080/"
        },
        "id": "NonjgnZ1Zhbj",
        "outputId": "41fa3f01-ad22-4e53-d409-1ad5dbee15ce"
      },
      "source": [
        "# numpy array 변환 (batch size 1 추가)\n",
        "infer_inputs = np.array([infer_input])\n",
        "infer_inputs"
      ],
      "execution_count": 62,
      "outputs": [
        {
          "output_type": "execute_result",
          "data": {
            "text/plain": [
              "array([[2, 4, 6, 0]])"
            ]
          },
          "metadata": {
            "tags": []
          },
          "execution_count": 62
        }
      ]
    },
    {
      "cell_type": "code",
      "metadata": {
        "colab": {
          "base_uri": "https://localhost:8080/"
        },
        "id": "bF_ANe3WZhbj",
        "outputId": "c2ce3300-434a-4c99-ba5e-b61e6e5905a2"
      },
      "source": [
        "# 긍정/부정 추론\n",
        "y_preds = model.predict(infer_inputs)\n",
        "y_preds"
      ],
      "execution_count": 63,
      "outputs": [
        {
          "output_type": "execute_result",
          "data": {
            "text/plain": [
              "array([[0.51466846, 0.48533154]], dtype=float32)"
            ]
          },
          "metadata": {
            "tags": []
          },
          "execution_count": 63
        }
      ]
    },
    {
      "cell_type": "code",
      "metadata": {
        "colab": {
          "base_uri": "https://localhost:8080/"
        },
        "id": "KDPL_ZzSZhbk",
        "outputId": "201cd34d-480b-4abf-836e-ac2e939bd5d0"
      },
      "source": [
        "# 확률의 max 값을 추론 값으로 결정\n",
        "y_pred_class = np.argmax(y_preds, axis=1)\n",
        "y_pred_class"
      ],
      "execution_count": 64,
      "outputs": [
        {
          "output_type": "execute_result",
          "data": {
            "text/plain": [
              "array([0])"
            ]
          },
          "metadata": {
            "tags": []
          },
          "execution_count": 64
        }
      ]
    },
    {
      "cell_type": "code",
      "metadata": {
        "colab": {
          "base_uri": "https://localhost:8080/"
        },
        "id": "8TBB3S9lZhbk",
        "outputId": "c76d60c5-5330-41d9-cedd-2f60fb4bbdd8"
      },
      "source": [
        "# 각 예측 값에 대한 label string\n",
        "for val in y_pred_class:\n",
        "    print(val, ':', id_to_label[val])"
      ],
      "execution_count": 65,
      "outputs": [
        {
          "output_type": "stream",
          "text": [
            "0 : 부정\n"
          ],
          "name": "stdout"
        }
      ]
    },
    {
      "cell_type": "code",
      "metadata": {
        "id": "pXW76LK5boFD"
      },
      "source": [
        ""
      ],
      "execution_count": null,
      "outputs": []
    }
  ]
}