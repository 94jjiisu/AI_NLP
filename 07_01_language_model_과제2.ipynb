{
  "nbformat": 4,
  "nbformat_minor": 0,
  "metadata": {
    "colab": {
      "name": "07-01-language-model-과제2.ipynb",
      "provenance": [],
      "collapsed_sections": [
        "6dfJPT-2XMTB",
        "JHkHg6XAXoyK",
        "XwriCkq_R1Lc",
        "3myBX8hNEH1u",
        "jv0OPyaKSpjw",
        "L2vJmIBt3-ci",
        "_dBAGBHE3-ck",
        "MFWK8EvH3-cp",
        "g2rxLFrL3-cq",
        "rfTrHA3v3-cr"
      ]
    },
    "kernelspec": {
      "name": "python3",
      "display_name": "Python 3"
    },
    "accelerator": "GPU",
    "widgets": {
      "application/vnd.jupyter.widget-state+json": {
        "ad73a2fa8b234f819468efdeaff2d624": {
          "model_module": "@jupyter-widgets/controls",
          "model_name": "HBoxModel",
          "state": {
            "_view_name": "HBoxView",
            "_dom_classes": [],
            "_model_name": "HBoxModel",
            "_view_module": "@jupyter-widgets/controls",
            "_model_module_version": "1.5.0",
            "_view_count": null,
            "_view_module_version": "1.5.0",
            "box_style": "",
            "layout": "IPY_MODEL_389300638c4d4414bfc8fbeba4a48887",
            "_model_module": "@jupyter-widgets/controls",
            "children": [
              "IPY_MODEL_246055b535524dde88f0de68295c56ed",
              "IPY_MODEL_43f77d3baf9d459aa66b2f0324e69b83"
            ]
          }
        },
        "389300638c4d4414bfc8fbeba4a48887": {
          "model_module": "@jupyter-widgets/base",
          "model_name": "LayoutModel",
          "state": {
            "_view_name": "LayoutView",
            "grid_template_rows": null,
            "right": null,
            "justify_content": null,
            "_view_module": "@jupyter-widgets/base",
            "overflow": null,
            "_model_module_version": "1.2.0",
            "_view_count": null,
            "flex_flow": null,
            "width": null,
            "min_width": null,
            "border": null,
            "align_items": null,
            "bottom": null,
            "_model_module": "@jupyter-widgets/base",
            "top": null,
            "grid_column": null,
            "overflow_y": null,
            "overflow_x": null,
            "grid_auto_flow": null,
            "grid_area": null,
            "grid_template_columns": null,
            "flex": null,
            "_model_name": "LayoutModel",
            "justify_items": null,
            "grid_row": null,
            "max_height": null,
            "align_content": null,
            "visibility": null,
            "align_self": null,
            "height": null,
            "min_height": null,
            "padding": null,
            "grid_auto_rows": null,
            "grid_gap": null,
            "max_width": null,
            "order": null,
            "_view_module_version": "1.2.0",
            "grid_template_areas": null,
            "object_position": null,
            "object_fit": null,
            "grid_auto_columns": null,
            "margin": null,
            "display": null,
            "left": null
          }
        },
        "246055b535524dde88f0de68295c56ed": {
          "model_module": "@jupyter-widgets/controls",
          "model_name": "FloatProgressModel",
          "state": {
            "_view_name": "ProgressView",
            "style": "IPY_MODEL_7c3d6c91546849aa84a718b880645595",
            "_dom_classes": [],
            "description": "",
            "_model_name": "FloatProgressModel",
            "bar_style": "success",
            "max": 1,
            "_view_module": "@jupyter-widgets/controls",
            "_model_module_version": "1.5.0",
            "value": 1,
            "_view_count": null,
            "_view_module_version": "1.5.0",
            "orientation": "horizontal",
            "min": 0,
            "description_tooltip": null,
            "_model_module": "@jupyter-widgets/controls",
            "layout": "IPY_MODEL_8ce5daaefe4b44d99819417b06b2544f"
          }
        },
        "43f77d3baf9d459aa66b2f0324e69b83": {
          "model_module": "@jupyter-widgets/controls",
          "model_name": "HTMLModel",
          "state": {
            "_view_name": "HTMLView",
            "style": "IPY_MODEL_fb46321a434340449a064f59971f9088",
            "_dom_classes": [],
            "description": "",
            "_model_name": "HTMLModel",
            "placeholder": "​",
            "_view_module": "@jupyter-widgets/controls",
            "_model_module_version": "1.5.0",
            "value": " 4140647/? [1:36:41&lt;00:00, 713.77it/s]",
            "_view_count": null,
            "_view_module_version": "1.5.0",
            "description_tooltip": null,
            "_model_module": "@jupyter-widgets/controls",
            "layout": "IPY_MODEL_fff785456392445cbc489749ee2a816e"
          }
        },
        "7c3d6c91546849aa84a718b880645595": {
          "model_module": "@jupyter-widgets/controls",
          "model_name": "ProgressStyleModel",
          "state": {
            "_view_name": "StyleView",
            "_model_name": "ProgressStyleModel",
            "description_width": "initial",
            "_view_module": "@jupyter-widgets/base",
            "_model_module_version": "1.5.0",
            "_view_count": null,
            "_view_module_version": "1.2.0",
            "bar_color": null,
            "_model_module": "@jupyter-widgets/controls"
          }
        },
        "8ce5daaefe4b44d99819417b06b2544f": {
          "model_module": "@jupyter-widgets/base",
          "model_name": "LayoutModel",
          "state": {
            "_view_name": "LayoutView",
            "grid_template_rows": null,
            "right": null,
            "justify_content": null,
            "_view_module": "@jupyter-widgets/base",
            "overflow": null,
            "_model_module_version": "1.2.0",
            "_view_count": null,
            "flex_flow": null,
            "width": null,
            "min_width": null,
            "border": null,
            "align_items": null,
            "bottom": null,
            "_model_module": "@jupyter-widgets/base",
            "top": null,
            "grid_column": null,
            "overflow_y": null,
            "overflow_x": null,
            "grid_auto_flow": null,
            "grid_area": null,
            "grid_template_columns": null,
            "flex": null,
            "_model_name": "LayoutModel",
            "justify_items": null,
            "grid_row": null,
            "max_height": null,
            "align_content": null,
            "visibility": null,
            "align_self": null,
            "height": null,
            "min_height": null,
            "padding": null,
            "grid_auto_rows": null,
            "grid_gap": null,
            "max_width": null,
            "order": null,
            "_view_module_version": "1.2.0",
            "grid_template_areas": null,
            "object_position": null,
            "object_fit": null,
            "grid_auto_columns": null,
            "margin": null,
            "display": null,
            "left": null
          }
        },
        "fb46321a434340449a064f59971f9088": {
          "model_module": "@jupyter-widgets/controls",
          "model_name": "DescriptionStyleModel",
          "state": {
            "_view_name": "StyleView",
            "_model_name": "DescriptionStyleModel",
            "description_width": "",
            "_view_module": "@jupyter-widgets/base",
            "_model_module_version": "1.5.0",
            "_view_count": null,
            "_view_module_version": "1.2.0",
            "_model_module": "@jupyter-widgets/controls"
          }
        },
        "fff785456392445cbc489749ee2a816e": {
          "model_module": "@jupyter-widgets/base",
          "model_name": "LayoutModel",
          "state": {
            "_view_name": "LayoutView",
            "grid_template_rows": null,
            "right": null,
            "justify_content": null,
            "_view_module": "@jupyter-widgets/base",
            "overflow": null,
            "_model_module_version": "1.2.0",
            "_view_count": null,
            "flex_flow": null,
            "width": null,
            "min_width": null,
            "border": null,
            "align_items": null,
            "bottom": null,
            "_model_module": "@jupyter-widgets/base",
            "top": null,
            "grid_column": null,
            "overflow_y": null,
            "overflow_x": null,
            "grid_auto_flow": null,
            "grid_area": null,
            "grid_template_columns": null,
            "flex": null,
            "_model_name": "LayoutModel",
            "justify_items": null,
            "grid_row": null,
            "max_height": null,
            "align_content": null,
            "visibility": null,
            "align_self": null,
            "height": null,
            "min_height": null,
            "padding": null,
            "grid_auto_rows": null,
            "grid_gap": null,
            "max_width": null,
            "order": null,
            "_view_module_version": "1.2.0",
            "grid_template_areas": null,
            "object_position": null,
            "object_fit": null,
            "grid_auto_columns": null,
            "margin": null,
            "display": null,
            "left": null
          }
        },
        "86d752f8a00d4c459aa7dea7fe4f3d5c": {
          "model_module": "@jupyter-widgets/controls",
          "model_name": "HBoxModel",
          "state": {
            "_view_name": "HBoxView",
            "_dom_classes": [],
            "_model_name": "HBoxModel",
            "_view_module": "@jupyter-widgets/controls",
            "_model_module_version": "1.5.0",
            "_view_count": null,
            "_view_module_version": "1.5.0",
            "box_style": "",
            "layout": "IPY_MODEL_f9420a0743f14493a7d4f7b0380e04af",
            "_model_module": "@jupyter-widgets/controls",
            "children": [
              "IPY_MODEL_7c292d2882c0470f913b74ae2fe81adf",
              "IPY_MODEL_488f1fb3b6e14b6a8610b3215a7df534"
            ]
          }
        },
        "f9420a0743f14493a7d4f7b0380e04af": {
          "model_module": "@jupyter-widgets/base",
          "model_name": "LayoutModel",
          "state": {
            "_view_name": "LayoutView",
            "grid_template_rows": null,
            "right": null,
            "justify_content": null,
            "_view_module": "@jupyter-widgets/base",
            "overflow": null,
            "_model_module_version": "1.2.0",
            "_view_count": null,
            "flex_flow": null,
            "width": null,
            "min_width": null,
            "border": null,
            "align_items": null,
            "bottom": null,
            "_model_module": "@jupyter-widgets/base",
            "top": null,
            "grid_column": null,
            "overflow_y": null,
            "overflow_x": null,
            "grid_auto_flow": null,
            "grid_area": null,
            "grid_template_columns": null,
            "flex": null,
            "_model_name": "LayoutModel",
            "justify_items": null,
            "grid_row": null,
            "max_height": null,
            "align_content": null,
            "visibility": null,
            "align_self": null,
            "height": null,
            "min_height": null,
            "padding": null,
            "grid_auto_rows": null,
            "grid_gap": null,
            "max_width": null,
            "order": null,
            "_view_module_version": "1.2.0",
            "grid_template_areas": null,
            "object_position": null,
            "object_fit": null,
            "grid_auto_columns": null,
            "margin": null,
            "display": null,
            "left": null
          }
        },
        "7c292d2882c0470f913b74ae2fe81adf": {
          "model_module": "@jupyter-widgets/controls",
          "model_name": "FloatProgressModel",
          "state": {
            "_view_name": "ProgressView",
            "style": "IPY_MODEL_433a3dc4c9b44d06bff3c18fb9a58d87",
            "_dom_classes": [],
            "description": "100%",
            "_model_name": "FloatProgressModel",
            "bar_style": "danger",
            "max": 100000,
            "_view_module": "@jupyter-widgets/controls",
            "_model_module_version": "1.5.0",
            "value": 99541,
            "_view_count": null,
            "_view_module_version": "1.5.0",
            "orientation": "horizontal",
            "min": 0,
            "description_tooltip": null,
            "_model_module": "@jupyter-widgets/controls",
            "layout": "IPY_MODEL_aab454436c094a679cbb10318d579820"
          }
        },
        "488f1fb3b6e14b6a8610b3215a7df534": {
          "model_module": "@jupyter-widgets/controls",
          "model_name": "HTMLModel",
          "state": {
            "_view_name": "HTMLView",
            "style": "IPY_MODEL_f894b03e4bd94bf9a0643e04d55c7d2b",
            "_dom_classes": [],
            "description": "",
            "_model_name": "HTMLModel",
            "placeholder": "​",
            "_view_module": "@jupyter-widgets/controls",
            "_model_module_version": "1.5.0",
            "value": " 99541/100000 [00:40&lt;00:00, 4148.42it/s]",
            "_view_count": null,
            "_view_module_version": "1.5.0",
            "description_tooltip": null,
            "_model_module": "@jupyter-widgets/controls",
            "layout": "IPY_MODEL_1913d647b3924540a15af1c7350cbd1a"
          }
        },
        "433a3dc4c9b44d06bff3c18fb9a58d87": {
          "model_module": "@jupyter-widgets/controls",
          "model_name": "ProgressStyleModel",
          "state": {
            "_view_name": "StyleView",
            "_model_name": "ProgressStyleModel",
            "description_width": "initial",
            "_view_module": "@jupyter-widgets/base",
            "_model_module_version": "1.5.0",
            "_view_count": null,
            "_view_module_version": "1.2.0",
            "bar_color": null,
            "_model_module": "@jupyter-widgets/controls"
          }
        },
        "aab454436c094a679cbb10318d579820": {
          "model_module": "@jupyter-widgets/base",
          "model_name": "LayoutModel",
          "state": {
            "_view_name": "LayoutView",
            "grid_template_rows": null,
            "right": null,
            "justify_content": null,
            "_view_module": "@jupyter-widgets/base",
            "overflow": null,
            "_model_module_version": "1.2.0",
            "_view_count": null,
            "flex_flow": null,
            "width": null,
            "min_width": null,
            "border": null,
            "align_items": null,
            "bottom": null,
            "_model_module": "@jupyter-widgets/base",
            "top": null,
            "grid_column": null,
            "overflow_y": null,
            "overflow_x": null,
            "grid_auto_flow": null,
            "grid_area": null,
            "grid_template_columns": null,
            "flex": null,
            "_model_name": "LayoutModel",
            "justify_items": null,
            "grid_row": null,
            "max_height": null,
            "align_content": null,
            "visibility": null,
            "align_self": null,
            "height": null,
            "min_height": null,
            "padding": null,
            "grid_auto_rows": null,
            "grid_gap": null,
            "max_width": null,
            "order": null,
            "_view_module_version": "1.2.0",
            "grid_template_areas": null,
            "object_position": null,
            "object_fit": null,
            "grid_auto_columns": null,
            "margin": null,
            "display": null,
            "left": null
          }
        },
        "f894b03e4bd94bf9a0643e04d55c7d2b": {
          "model_module": "@jupyter-widgets/controls",
          "model_name": "DescriptionStyleModel",
          "state": {
            "_view_name": "StyleView",
            "_model_name": "DescriptionStyleModel",
            "description_width": "",
            "_view_module": "@jupyter-widgets/base",
            "_model_module_version": "1.5.0",
            "_view_count": null,
            "_view_module_version": "1.2.0",
            "_model_module": "@jupyter-widgets/controls"
          }
        },
        "1913d647b3924540a15af1c7350cbd1a": {
          "model_module": "@jupyter-widgets/base",
          "model_name": "LayoutModel",
          "state": {
            "_view_name": "LayoutView",
            "grid_template_rows": null,
            "right": null,
            "justify_content": null,
            "_view_module": "@jupyter-widgets/base",
            "overflow": null,
            "_model_module_version": "1.2.0",
            "_view_count": null,
            "flex_flow": null,
            "width": null,
            "min_width": null,
            "border": null,
            "align_items": null,
            "bottom": null,
            "_model_module": "@jupyter-widgets/base",
            "top": null,
            "grid_column": null,
            "overflow_y": null,
            "overflow_x": null,
            "grid_auto_flow": null,
            "grid_area": null,
            "grid_template_columns": null,
            "flex": null,
            "_model_name": "LayoutModel",
            "justify_items": null,
            "grid_row": null,
            "max_height": null,
            "align_content": null,
            "visibility": null,
            "align_self": null,
            "height": null,
            "min_height": null,
            "padding": null,
            "grid_auto_rows": null,
            "grid_gap": null,
            "max_width": null,
            "order": null,
            "_view_module_version": "1.2.0",
            "grid_template_areas": null,
            "object_position": null,
            "object_fit": null,
            "grid_auto_columns": null,
            "margin": null,
            "display": null,
            "left": null
          }
        }
      }
    }
  },
  "cells": [
    {
      "cell_type": "markdown",
      "metadata": {
        "id": "6dfJPT-2XMTB"
      },
      "source": [
        "# Install"
      ]
    },
    {
      "cell_type": "code",
      "metadata": {
        "id": "a193aGJWVaqb",
        "colab": {
          "base_uri": "https://localhost:8080/"
        },
        "outputId": "e7a0be98-ac46-46e4-fd5b-22b3e742e843"
      },
      "source": [
        "!pip install sentencepiece"
      ],
      "execution_count": 1,
      "outputs": [
        {
          "output_type": "stream",
          "text": [
            "Requirement already satisfied: sentencepiece in /usr/local/lib/python3.6/dist-packages (0.1.95)\n"
          ],
          "name": "stdout"
        }
      ]
    },
    {
      "cell_type": "markdown",
      "metadata": {
        "id": "JHkHg6XAXoyK"
      },
      "source": [
        "# Evn"
      ]
    },
    {
      "cell_type": "code",
      "metadata": {
        "id": "WkYXFwcBXJDG"
      },
      "source": [
        "import os\n",
        "import random\n",
        "import shutil\n",
        "import json\n",
        "import zipfile\n",
        "import math\n",
        "import copy\n",
        "import collections\n",
        "import re\n",
        "\n",
        "import matplotlib.pyplot as plt\n",
        "import pandas as pd\n",
        "import numpy as np\n",
        "import sentencepiece as spm\n",
        "import tensorflow as tf\n",
        "import tensorflow.keras.backend as K\n",
        "\n",
        "from tqdm.notebook import tqdm"
      ],
      "execution_count": 2,
      "outputs": []
    },
    {
      "cell_type": "code",
      "metadata": {
        "id": "nvjyruUlXtlR"
      },
      "source": [
        "# random seed initialize\n",
        "random_seed = 1234\n",
        "random.seed(random_seed)\n",
        "np.random.seed(random_seed)\n",
        "tf.random.set_seed(random_seed)"
      ],
      "execution_count": 3,
      "outputs": []
    },
    {
      "cell_type": "code",
      "metadata": {
        "id": "BC3fXkhdYcYt",
        "colab": {
          "base_uri": "https://localhost:8080/"
        },
        "outputId": "de2da68b-0b83-492d-8c63-d1addfad4f34"
      },
      "source": [
        "!nvidia-smi"
      ],
      "execution_count": 4,
      "outputs": [
        {
          "output_type": "stream",
          "text": [
            "Wed Feb  3 22:03:38 2021       \n",
            "+-----------------------------------------------------------------------------+\n",
            "| NVIDIA-SMI 460.39       Driver Version: 418.67       CUDA Version: 10.1     |\n",
            "|-------------------------------+----------------------+----------------------+\n",
            "| GPU  Name        Persistence-M| Bus-Id        Disp.A | Volatile Uncorr. ECC |\n",
            "| Fan  Temp  Perf  Pwr:Usage/Cap|         Memory-Usage | GPU-Util  Compute M. |\n",
            "|                               |                      |               MIG M. |\n",
            "|===============================+======================+======================|\n",
            "|   0  Tesla T4            Off  | 00000000:00:04.0 Off |                    0 |\n",
            "| N/A   34C    P8     9W /  70W |      0MiB / 15079MiB |      0%      Default |\n",
            "|                               |                      |                 ERR! |\n",
            "+-------------------------------+----------------------+----------------------+\n",
            "                                                                               \n",
            "+-----------------------------------------------------------------------------+\n",
            "| Processes:                                                                  |\n",
            "|  GPU   GI   CI        PID   Type   Process name                  GPU Memory |\n",
            "|        ID   ID                                                   Usage      |\n",
            "|=============================================================================|\n",
            "|  No running processes found                                                 |\n",
            "+-----------------------------------------------------------------------------+\n"
          ],
          "name": "stdout"
        }
      ]
    },
    {
      "cell_type": "code",
      "metadata": {
        "id": "xVRdxYReYeQj",
        "colab": {
          "base_uri": "https://localhost:8080/"
        },
        "outputId": "f078f93a-76a6-4f0a-a1f1-3fe644194265"
      },
      "source": [
        "# google drive mount\n",
        "from google.colab import drive\n",
        "drive.mount('/content/drive')"
      ],
      "execution_count": 5,
      "outputs": [
        {
          "output_type": "stream",
          "text": [
            "Drive already mounted at /content/drive; to attempt to forcibly remount, call drive.mount(\"/content/drive\", force_remount=True).\n"
          ],
          "name": "stdout"
        }
      ]
    },
    {
      "cell_type": "code",
      "metadata": {
        "id": "byCIiLJBbFHh",
        "colab": {
          "base_uri": "https://localhost:8080/"
        },
        "outputId": "24898d5d-688c-4937-e4d1-47c75a4050f7"
      },
      "source": [
        "# data dir\n",
        "data_dir = '/content/drive/MyDrive/Data/nlp'\n",
        "os.listdir(data_dir)"
      ],
      "execution_count": 6,
      "outputs": [
        {
          "output_type": "execute_result",
          "data": {
            "text/plain": [
              "['ko_32000.model', 'ko_32000.vocab', 'kowiki', 'nsmc', 'quora', 'songys']"
            ]
          },
          "metadata": {
            "tags": []
          },
          "execution_count": 6
        }
      ]
    },
    {
      "cell_type": "code",
      "metadata": {
        "id": "_Ru56YS3-SME",
        "colab": {
          "base_uri": "https://localhost:8080/"
        },
        "outputId": "e25714d4-4f68-440e-bec9-62d59f6936e7"
      },
      "source": [
        "# korean wiki dir\n",
        "kowiki_dir = os.path.join(data_dir, 'kowiki')\n",
        "if not os.path.exists(kowiki_dir):\n",
        "    os.makedirs(kowiki_dir)\n",
        "os.listdir(kowiki_dir)"
      ],
      "execution_count": 7,
      "outputs": [
        {
          "output_type": "execute_result",
          "data": {
            "text/plain": [
              "['kowiki.txt.zip', 'my_corpus.txt', 'kowiki_lm.json', 'lm.csv', 'lm.hdf5']"
            ]
          },
          "metadata": {
            "tags": []
          },
          "execution_count": 7
        }
      ]
    },
    {
      "cell_type": "markdown",
      "metadata": {
        "id": "XwriCkq_R1Lc"
      },
      "source": [
        "# Vocabulary & config"
      ]
    },
    {
      "cell_type": "code",
      "metadata": {
        "id": "2H0BLydCb7lg",
        "colab": {
          "base_uri": "https://localhost:8080/"
        },
        "outputId": "503d5ec0-58fa-4e25-801f-0f3abd89807e"
      },
      "source": [
        "# vocab loading\n",
        "vocab = spm.SentencePieceProcessor()\n",
        "vocab.load(os.path.join(data_dir, 'ko_32000.model'))"
      ],
      "execution_count": 8,
      "outputs": [
        {
          "output_type": "execute_result",
          "data": {
            "text/plain": [
              "True"
            ]
          },
          "metadata": {
            "tags": []
          },
          "execution_count": 8
        }
      ]
    },
    {
      "cell_type": "code",
      "metadata": {
        "id": "0ETZ19flTRmt"
      },
      "source": [
        "n_vocab = len(vocab)  # number of vocabulary\n",
        "n_seq = 256  # number of sequence\n",
        "d_model = 256  # dimension of model"
      ],
      "execution_count": 9,
      "outputs": []
    },
    {
      "cell_type": "markdown",
      "metadata": {
        "id": "3myBX8hNEH1u"
      },
      "source": [
        "# 모델링"
      ]
    },
    {
      "cell_type": "code",
      "metadata": {
        "id": "SobekkcjEX_P"
      },
      "source": [
        "def build_model(n_vocab, d_model, n_seq):\n",
        "    \"\"\"\n",
        "    문장 유사도 비교 모델\n",
        "    :param n_vocab: vocabulary 단어 수\n",
        "    :param d_model: 단어를 의미하는 벡터의 차원 수\n",
        "    :param n_seq: 문장 길이 (단어 수)\n",
        "    \"\"\"\n",
        "    inputs = tf.keras.layers.Input((n_seq,))  # (bs, n_seq)\n",
        "    # 입력 단어를 vector로 변환\n",
        "    embedding = tf.keras.layers.Embedding(n_vocab, d_model)\n",
        "    hidden = embedding(inputs)  # (bs, n_seq, d_model)\n",
        "    # LSTM\n",
        "    lstm = tf.keras.layers.LSTM(units=d_model * 2, return_sequences=True)\n",
        "    hidden = lstm(hidden)  # (bs, n_seq, d_model * 2)\n",
        "    # 다음단어 확률 분포\n",
        "    dense = tf.keras.layers.Dense(n_vocab, activation=tf.nn.softmax)\n",
        "    outputs = dense(hidden)\n",
        "    # 학습할 모델 선언\n",
        "    model = tf.keras.Model(inputs=inputs, outputs=outputs)\n",
        "    return model"
      ],
      "execution_count": 10,
      "outputs": []
    },
    {
      "cell_type": "markdown",
      "metadata": {
        "id": "jv0OPyaKSpjw"
      },
      "source": [
        "# Preprocessing\n"
      ]
    },
    {
      "cell_type": "code",
      "metadata": {
        "id": "E13I0Xr_kMX-",
        "colab": {
          "base_uri": "https://localhost:8080/"
        },
        "outputId": "c7848b87-cd48-4fbf-df61-4192f6bc628a"
      },
      "source": [
        "# 파일 내용 확인\n",
        "with zipfile.ZipFile(os.path.join(kowiki_dir, 'kowiki.txt.zip')) as z:\n",
        "    with z.open('kowiki.txt') as f:\n",
        "        for i, line in enumerate(f):\n",
        "            line = line.decode('utf-8').strip()\n",
        "            print(line)\n",
        "            if i >= 100:\n",
        "                break"
      ],
      "execution_count": 11,
      "outputs": [
        {
          "output_type": "stream",
          "text": [
            "지미 카터\n",
            "제임스 얼 \"지미\" 카터 주니어(, 1924년 10월 1일 ~ )는 민주당 출신 미국 39대 대통령 (1977년 ~ 1981년)이다.\n",
            "지미 카터는 조지아주 섬터 카운티 플레인스 마을에서 태어났다. 조지아 공과대학교를 졸업하였다. 그 후 해군에 들어가 전함·원자력·잠수함의 승무원으로 일하였다. 1953년 미국 해군 대위로 예편하였고 이후 땅콩·면화 등을 가꿔 많은 돈을 벌었다. 그의 별명이 \"땅콩 농부\" (Peanut Farmer)로 알려졌다.\n",
            "1962년 조지아 주 상원 의원 선거에서 낙선하나 그 선거가 부정선거 였음을 입증하게 되어 당선되고, 1966년 조지아 주 지사 선거에 낙선하지만 1970년 조지아 주 지사를 역임했다. 대통령이 되기 전 조지아주 상원의원을 두번 연임했으며, 1971년부터 1975년까지 조지아 지사로 근무했다. 조지아 주지사로 지내면서, 미국에 사는 흑인 등용법을 내세웠다.\n",
            "1976년 미합중국 (미국) 제39대 대통령 선거에 민주당 후보로 출마하여 도덕주의 정책으로 내세워서, 많은 지지를 받고 제럴드 포드 (당시 미국 대통령) 를 누르고 당선되었다.\n",
            "카터 대통령은 에너지 개발을 촉구했으나 공화당의 반대로 무산되었다.\n",
            "카터는 이집트와 이스라엘을 조정하여, 캠프 데이비드에서 안와르 사다트 대통령과 메나헴 베긴 수상과 함께 중동 평화를 위한 캠프데이비드 협정을 체결했다.\n",
            "그러나 이것은 공화당과 미국의 유대인 단체의 반발을 일으켰다. 1979년 백악관에서 양국 간의 평화조약으로 이끌어졌다. 또한 소련과 제2차 전략 무기 제한 협상에 조인했다.\n",
            "카터는 1970년대 후반 당시 대한민국 등 인권 후진국의 국민들의 인권을 지키기 위해 노력했으며, 취임 이후 계속해서 도덕정치를 내세웠다.\n",
            "그러나 주 이란 미국 대사관 인질 사건에서 인질 구출 실패를 이유로 1980년 대통령 선거에서 공화당의 로널드 레이건 후보에게 져 결국 재선에 실패했다. 또한 임기 말기에 터진 소련의 아프가니스탄 침공 사건으로 인해 1980년 하계 올림픽에 반공국가들의 보이콧을 내세웠다.\n",
            "지미 카터는 대한민국과의 관계에서도 중요한 영향을 미쳤던 대통령 중 하나다. 인권 문제와 주한미군 철수 문제로 한때 한미 관계가 불편하기도 했다. 1978년 대한민국에 대한 북한의 위협에 대비해 한미연합사를 창설하면서, 1982년까지 3단계에 걸쳐 주한미군을 철수하기로 했다. 그러나 주한미군사령부와 정보기관·의회의 반대에 부딪혀 주한미군은 완전철수 대신 6,000명을 감축하는 데 그쳤다. 또한 박정희 정권의 인권 문제 등과의 논란으로 불협화음을 냈으나, 1979년 6월 하순, 대한민국을 방문하여 관계가 다소 회복되었다.\n",
            "1979년 ~ 1980년 대한민국의 정치적 격변기 당시의 대통령이었던 그는 이에 대해 애매한 태도를 보였고, 이는 후에 대한민국 내에서 고조되는 반미 운동의 한 원인이 됐다. 10월 26일, 박정희 대통령이 김재규 중앙정보부장에 의해 살해된 것에 대해 그는 이 사건으로 큰 충격을 받았으며, 사이러스 밴스 국무장관을 조문사절로 파견했다. 12·12 군사 반란과 5.17 쿠데타에 대해 초기에는 강하게 비난했으나, 미국 정부가 신군부를 설득하는데, 한계가 있었고 결국 묵인하는 듯한 태도를 보이게 됐다.\n",
            "퇴임 이후 민간 자원을 적극 활용한 비영리 기구인 카터 재단을 설립한 뒤 민주주의 실현을 위해 제 3세계의 선거 감시 활동 및 기니 벌레에 의한 드라쿤쿠르스 질병 방재를 위해 힘썼다. 미국의 빈곤층 지원 활동, 사랑의 집짓기 운동, 국제 분쟁 중재 등의 활동도 했다.\n",
            "카터는 카터 행정부 이후 미국이 북핵 위기, 코소보 전쟁, 이라크 전쟁과 같이 미국이 군사적 행동을 최후로 선택하는 전통적 사고를 버리고 군사적 행동을 선행하는 행위에 대해 깊은 유감을 표시 하며 미국의 군사적 활동에 강한 반대 입장을 보이고 있다.\n",
            "특히 국제 분쟁 조정을 위해 북한의 김일성, 아이티의 세드라스 장군, 팔레인스타인의 하마스, 보스니아의 세르비아계 정권 같이 미국 정부에 대해 협상을 거부하면서 사태의 위기를 초래한 인물 및 단체를 직접 만나 분쟁의 원인을 근본적으로 해결하기 위해 힘썼다. 이 과정에서 미국 행정부와 갈등을 보이기도 했지만, 전직 대통령의 권한과 재야 유명 인사들의 활약으로 해결해 나갔다.\n",
            "1978년에 채결된 캠프데이비드 협정의 이행이 지지부진 하자 중동 분쟁 분제를 해결하기 위해 1993년 퇴임 후 직접 이스라엘과 팔레인스타인의 오슬로 협정을 이끌어 내는 데도 성공했다.\n",
            "1993년 1차 북핵 위기 당시 북한에 대한 미국의 군사적 행동이 임박했으나, 미국 전직 대통령으로는 처음으로 북한을 방문하고 미국과 북 양국의 중재에 큰 기여를 해 위기를 해결했다는 평가를 받았다. 또한 이 때 김영삼 대통령과 김일성 주석의 만남을 주선했다. 하지만 그로부터 수주일 후 김일성이 갑자기 사망하여 김일성과 김영삼의 정상회담은 이루어지지 못했다.\n",
            "미국의 관타나모 수용소 문제, 세계의 인권문제에서도 관심이 깊어 유엔에 유엔인권고등판무관의 제도를 시행하도록 노력하여 독재자들의 인권 유린에 대해 제약을 하고, 국제형사재판소를 만드는 데 기여하여 독재자들 같은 인권유린범죄자를 재판소로 회부하여 국제적인 처벌을 받게 하는 등 인권 신장에 크나 큰 기여를 했다.\n",
            "2011년 4월 26일부터 29일까지 북한을 3일간 방문했다.\n",
            "경제문제를 해결하지 못하고 주 이란 미국 대사관 인질 사건에 발목이 잡혀 실패한 대통령으로 평가를 받지만 이란 사태는 미국 내 이란 재산을 풀어주겠다는 조건을 내세워서 사실상 카터가 해결한 것이었고, 사랑의 집짓기 운동 등으로 퇴임 후에 훨씬 더 존경받는 미국 대통령 중에 특이한 인물로 남았다.\n",
            "그는 2002년 말 인권과 중재 역할에 대한 공로를 인정받아 노벨 평화상을 받게 되었다.\n",
            "\n",
            "\n",
            "\n",
            "수학\n",
            "수학(數學, )은 양, 구조, 공간, 변화등을 다룬다고 설명 할 수 있으나 일반적으로 받아들여지는 정의는 없다 수학은 공리, 명제, 증명 등으로 구성된 추상적 대상을 연구하는 학문이다. 수학자는 인간이 살아가는 실제 세상과 대비해 보았을 때 전혀 다른 독립적이며 추상적이고 엄격한 구조를 만들고 연구한다.\n",
            "그러나 이런 추상적인 사실들이 가끔은 실제를 설명하는데 필요한 경우도 있다. 고대로부터 문명이 생기는데 필요한 건축, 천문학, 토지 측량, 기계 공학, 상업 등에 수학적 개념들이 응용되어왔다.\n",
            "수학에서는 예술에서 그렇듯 실용적 고려를 하지 않으며, 거의 모두 실용성을 가지지 않지만, 극히 일부 실용적인 부분도 있다. 응용 수학에서는 이렇게 수학을 물리학, 화학, 생물학, 공학, 경제학, 사회학 등 다른 학문에 응용하는데 관심이 있다.\n",
            "또한 수학은 음악이나 미술 등 예술과도 관련이 있다. 피타고라스는 두 정수의 비율이 듣기 좋은 소리가 난다는 점을 가지고 피타고라스 음계를 만들었다. 중세시대에도 음악과 수학을 밀접하게 연관시켰으며 성 빅토르의 후고는 “음악은 조화다”라고 했고, 성 트론드의 루돌프는 “음악은 조화의 토대(ratio)다”라고 쓴 바 있다. 조화가 반드시 소리로 표현될 필요는 없고 소리의 음악은 음악의 형식 중 하나에 불과했다. 소리에 대해 다루었던 중세의 저술가들이 있는가 하면, 조화와 비례의 추상적 이론만을 다루고 소리에는 거의 관심을 보이지 않았던 저술가들도 있었다. 청각적인 면과 추상적인 면이라는 음악의 이런 이중적 측면은 고대의 음악이론보다는 중세의 음악이론에서 큰 특징이 되었다. 또한 현대 음악을 군(群,group)같은 수학적 대상을 이용해 분석하기도 한다. 원근법은 사영 기하학에 해당한다. 미술 사조 중 하나인 입체파도 기하학의 영향을 받았다.\n",
            "오늘날 수학은 자연과학, 공학뿐만 아니라, 경제학 등의 사회과학에서도 중요한 도구로 사용된다. 예를들어, 정도의 차이는 있으나, 미적분학과 선형대수학은 자연과학과 공학, 경제학을 하는데에 필수적 과목으로 여겨지며, 확률론은 계량경제학에 응용된다. 통계학은 사회과학이론에 근거를 마련하는데 필수적이다. 16세기에 갈릴레오 갈릴레이가 \"자연이라는 책은 수학이라는 언어로 기록되어 있다.\"는 주장과 함께 물리학에 수학적 방법을 도입하였고, 17세기에 아이작 뉴턴이 고전 역학의 기본 물리학 법칙들을 수학적으로 기술하고 정립하여 물리학 이론에서 수학적 모델링은 필수적 요소가 되었다. 또한 이 시기는 과학적 방법이 정립되는 시기이기도 한데, 많은 과학적 현상들이 수학적 관계가 있음이 드러나면서 과학적 방법에도 수학은 중요한 역할을 하고 있다. 노벨 물리학상 수상자 유진 위그너는 그의 에세이 \"The unreasonable effectiveness of mathematics in natural sciences\"에서 인간 세상과 동떨어져있고 현실과 아무 관련이 없다고 여겨지던 수학 중 극히 일부는 뜻밖에도 자연과학과 연관성이 드러나고 과학이론에 효과적인 토대를 마련해 주는데에 대한 놀라움을 표현하였다. 예를 들어, 비유클리드기하와 3차원 이상의 임의의 차원에서 기하학을 탐구했던 미분 기하학은 당시에는 현실과 연관성을 가지지 않았으나 먼 훗날 일반상대성이론이 4차원 기하학을 필요로 함에 따라, 물리적 세상과 연관이 있음이 밝혀졌다. 또한 게이지이론, 양자장론 등에도 미분 기하학은 필수적이다.\n",
            "mathematics라는 단어는 '아는 모든 것'라는 뜻의 고대 그리스어 mathematikos에서 유래되었다. 줄여서 math라고 표현을하기도 한다.\n",
            "수학은 기원전 600년 경에 살았던 탈레스로부터 시작됐다. 하지만 탈레스가 태어나기 전에도 수학을 연구한 사람이 있을 수도 있기 때문에 인류의 역사와 더불어 시작되었다고 할 수 있다. 교역•분배•과세 등의 인류의 사회 생활에 필요한 모든 계산을 수학이 담당해 왔고, 농경 생활에 필수적인 천문 관측과 달력의 제정, 토지의 측량 또한 수학이 직접적으로 관여한 분야이다. 고대 수학을 크게 발전시킨 나라로는 이집트, 인도, 그리스, 중국 등이 있다. 그 중에서도 그리스는 처음으로 방정식에서 변수를 문자로 쓴 나라이다.\n",
            "한국의 수학은 약 1,500년 전부터 기록으로 보이기 시작한다. 신라 시대에 수학을 가르쳤으며, 탈레스가 최초로 발견한 일식과 월식을 예측할 정도로 발달했다. 조선 시대에 훈민정음을 창제한 세종 대왕은 집현전 학자들에게 수학 연구를 명하는 등, 조선의 수학 수준을 향상시키기 위해서 많은 노력을 기울였다. 하지만 임진왜란으로 많은 서적들이 불타고, 천문학 분야에서 큰 손실을 입었다. 조선 후기의 한국의 수학은 실학자들을 중심으로 다시 발전하였고, 새로운 결과도 성취되었다.\n",
            "수학의 각 분야들은 상업에 필요한 계산을 하기 위해, 숫자들의 관계를 이해하기 위해, 토지를 측량하기 위해, 그리고 천문학적 사건들을 예견하기 위해 발전되어왔다. 이 네 가지 목적은 대략적으로 수학이 다루는 대상인 양, 구조, 공간 및 변화에 대응되며, 이들을 다루는 수학의 분야를 각각 산술, 대수학, 기하학, 해석학이라 한다. 또한 이 밖에도 근대 이후에 나타난 수학기초론과 이산수학 및 응용수학 등이 있다.\n",
            "산술은 자연수와 정수 및 이에 대한 사칙연산에 대한 연구로서 시작했다. 수론은 이런 주제들을 보다 깊게 다루는 학문으로, 그 결과로는 페르마의 마지막 정리 등이 유명하다. 또한 쌍둥이 소수 추측과 골드바흐 추측 등을 비롯해 오랜 세월 동안 해결되지 않고 남아있는 문제들도 여럿 있다.\n",
            "수의 체계가 보다 발전하면서, 정수의 집합을 유리수의 집합의 부분집합으로 여기게 되었다. 또한 유리수의 집합은 실수의 집합의 부분집합이며, 이는 또다시 복소수 집합의 일부분으로 볼 수 있다. 여기에서 더 나아가면 사원수와 팔원수 등의 개념을 생각할 수도 있다. 이와는 약간 다른 방향으로, 자연수를 무한대까지 세어나간다는 개념을 형식화하여 순서수의 개념을 얻으며, 집합의 크기 비교를 이용하여 무한대를 다루기 위한 또다른 방법으로는 기수의 개념도 있다.\n",
            "수 대신 문자를 써서 문제해결을 쉽게 하는 것과, 마찬가지로 수학적 법칙을 일반적이고 간명하게 나타내는 것을 포함한다. 고전대수학은 대수방정식 및 연립방정식의 해법에서 시작하여 군, 환, 체 등의 추상대수학을 거쳐 현대에 와서는 대수계의 구조를 보는 것을 중심으로 하는 선형대수학으로 전개되었다. 수의 집합이나 함수와 같은 많은 수학적 대상들은 내재적인 구조를 보인다. 이러한 대상들의 구조적 특성들이 군론, 환론, 체론 그리고 그 외의 수많은 대수적 구조들을 연구하면서 다루어지며, 그것들 하나하나가 내재적 구조를 지닌 수학적 대상이다. 이 분야에서 중요한 개념은 벡터, 벡터 공간으로의 일반화, 그리고 선형대수학에서의 지식들이다. 벡터의 연구에는 산술, 대수, 기하라는 수학의 중요한 세개의 분야가 조합되어 있다. 벡터 미적분학은 여기에 해석학의 영역이 추가된다. 텐서 미적분학은 대칭성과 회전축의 영향 아래에서 벡터의 움직임을 연구한다. 눈금없는 자와 컴퍼스와 관련된 많은 고대의 미해결 문제들이 갈루아 이론을 사용하여 비로소 해결되었다.\n",
            "공간에 대한 연구는 기하학에서 시작되었고, 특히 유클리드 기하학에서 비롯되었다. 삼각법은 공간과 수들을 결합하였고, 잘 알려진 피타고라스의 정리를 포함한다. 현대에 와서 공간에 대한 연구는, 이러한 개념들은 더 높은 차원의 기하학을 다루기 위해 비유클리드 기하학(상대성이론에서 핵심적인 역할을 함)과 위상수학으로 일반화되었다. 수론과 공간에 대한 이해는 모두 해석 기하학, 미분기하학, 대수기하학에 중요한 역할을 한다. 리 군도 공간과 구조, 변화를 다루는데 사용된다. 위상수학은 20세기 수학의 다양한 지류속에서 괄목할만한 성장을 한 분야이며, 푸앵카레 추측과 인간에 의해서 증명되지 못하고 오직 컴퓨터로만 증명된 4색정리를 포함한다.\n",
            "변화에 대한 이해와 묘사는 자연과학에 있어서 일반적인 주제이며, 미적분학은 변화를 탐구하는 강력한 도구로서 발전되었다. 함수는 변화하는 양을 묘사함에 있어서 중추적인 개념으로써 떠오르게 된다. 실수와 실변수로 구성된 함수의 엄밀한 탐구가 실해석학이라는 분야로 알려지게 되었고, 복소수에 대한 이와 같은 탐구 분야는 복소해석학이라고 한다. 함수해석학은 함수의 공간(특히 무한차원)의 탐구에 주목한다. 함수해석학의 많은 응용분야 중 하나가 양자역학이다. 많은 문제들이 자연스럽게 양과 그 양의 변화율의 관계로 귀착되고, 이러한 문제들이 미분방정식으로 다루어진다. 자연의 많은 현상들이 동역학계로 기술될 수 있다. 혼돈 이론은 이러한 예측 불가능한 현상을 탐구하는 데 상당한 기여를 한다.\n",
            "수학의 기초를 확실히 세우기 위해, 수리논리학과 집합론이 발전하였고, 이와 더불어 범주론이 최근에도 발전되고 있다. “근본 위기”라는 말은 대략 1900년에서 1930년 사이에 일어난, 수학의 엄밀한 기초에 대한 탐구를 상징적으로 보여주는 말이다. 수학의 엄밀한 기초에 대한 몇 가지 의견 불일치는 오늘날에도 계속되고 있다. 수학의 기초에 대한 위기는 그 당시 수많은 논쟁에 의해 촉발되었으며, 그 논쟁에는 칸토어의 집합론과 브라우어-힐베르트 논쟁이 포함되었다.\n",
            "\n",
            "\n",
            "\n",
            "수학 상수\n",
            "수학에서 상수란 그 값이 변하지 않는 불변량으로, 변수의 반대말이다. 물리 상수와는 달리, 수학 상수는 물리적 측정과는 상관없이 정의된다.\n",
            "수학 상수는 대개 실수체나 복소수체의 원소이다. 우리가 이야기할 수 있는 상수는 (거의 대부분 계산 가능한) 정의가능한 수이다.\n",
            "특정 수학 상수, 예를 들면 골롬-딕맨 상수, 프랑세즈-로빈슨 상수, formula_1, 레비 상수와 같은 상수는 다른 수학상수 또는 함수와 약한 상관관계 또는 강한 상관관계를 갖는다.\n",
            "\n",
            "\n",
            "\n",
            "문학\n",
            "문학(文學, )은 언어를 예술적 표현의 제재로 삼아 새로운 의미를 창출하여, 인간과 사회를 진실되게 묘사하는 예술의 하위분야이다. 간단하게 설명하면, 언어를 통해 인간의 삶을 미적(美的)으로 형상화한 것이라고 볼 수 있다. 문학은 원래 문예(文藝)라고 부르는 것이 옳으며, 문학을 학문의 대상으로서 탐구하는 학문의 명칭 역시 문예학이다. 문예학은 음악사학, 미술사학 등과 함께 예술학의 핵심분야로서 인문학의 하위범주에 포함된다.\n",
            "일반적으로 문학의 정의는 텍스트들의 집합이다. 각각의 국가들은 고유한 문학을 가질 수 있으며, 이는 기업이나 철학 조류, 어떤 특정한 역사적 시대도 마찬가지이다. 흔히 한 국가의 문학을 묶어서 분류한다. 예를 들어 고대 그리스어, 성서, 베오울프, 일리아드, 그리고 미국 헌법 등이 그러한 분류의 범주에 들어간다. 좀 더 일반적으로는 문학은 특정한 주제를 가진 이야기, 시, 희곡의 모음이라 할 수 있다. 이 경우, 이야기, 시, 그리고 희곡은 민족주의적인 색채를 띨 수도 아닐 수도 있다. 문학의 한 부분으로서 특정한 아이템을 구분 짓는 일은 매우 어려운 일이다. 어떤 사람들에게 \"문학\"은 어떠한 상징적인 기록의 형태로도 나타날 수 있는 것이다. (이를테면 이미지나 조각, 또는 문자로도 나타날 수 있다.) 그러나 또다른 사람들에게 있어 문학은 오직 문자로 이루어진 텍스트로 구성된 것만을 포함한다. 좀 더 보수적인 사람들은 그 개념이 꼭 물리적인 형태를 가진 텍스트여야 하고, 대개 그러한 형태는 종이 등의 눈에 보이는 매체에서 디지털 미디어까지 다양할 수 있다.\n",
            "더 나아가 보면, \"문학\"과 몇몇 인기있는 기록형태의 작업들, 소위 \"대중문학\" 사이에는 인식가능한 차이점이 존재한다. 이때 \"문학적인 허구성\"과 \"문학적인 재능\"이 종종 개별적인 작품들을 구별하는 데에 사용된다. 예를 들어, 찰스 디킨즈의 작품들은 대부분의 사람들에게 \"문학적인 것\"으로 받아들여지지만, 제프리 아처의 작품들은 영문학이라는 일반적인 범주 아래 두기에는 다소 가치가 떨어지는 것으로 생각된다. 또한 예를 들어 문법과 어법에 서투르거나, 이야기가 혼란스러워 신뢰성을 주지 않거나, 인물들의 성격에 일관성이 없을 경우에도 문학에서 제외될 수 있다. 로맨스, 범죄소설, 과학소설 등의 장르 소설도 때로 \"문학\"이 아닌 것으로 간주되는 경우도 있다. 이들은 대부분 \"대중문학\"의 범주에 포함된다.\n",
            "문학은 분류하는 방법에 따라 다음과 같이 구분한다.\n",
            "이 외에도 편의에 따라 발생적으로 대별하기도 한다.\n",
            "문학은 처음은 유일한 종류, 즉 노래하고, 말하고, 춤춘다는 것이 분화되지 않은 것이었다. 이 춤추는 것을 중심으로 발달한 것이 연극(演劇)이며, 노래하는 것이 발달하여 시(詩), 말하는 것이 발달하여 산문(散文)의 이야기가 되었다. 시는 정형시·자유시·산문시로, 또한 서사시와 서정시로 나뉜다. 산문은 사건을 중심으로 그려진 이야기, 근대 리얼리즘의 수법 이후 인물의 성격을 묘사하는 것을 중심으로 한 소설이 있다. 이야기나 소설과 같이 특별한 구상에 의하지 않고, 작자의 흥미에 의해서 씌어지는 것이 잡문(雜文) 또는 수필이며, 이것이 날짜에 따라 씌어지는 것이 일기, 여행의 과정에 따라 씌어지는 것이 기행문이다. 일기와 마찬가지로 발표의 의도가 작은 것에 서간(書簡)이 있다. 이 밖에 사건의 경험에 따른 회고록, 사건 등의 특정시(特定時)에 한정되지 않는 자서전, 제삼자에 의해서 씌어지는 전기(傳記)가 있다. 또한 이것들을 포함하는 예술작품의 가치평가를 시도하는 것이 평론(評論)이다.\n",
            "대중문학이란 상업성을 띠며 대중을 겨냥하여 그들의 통속적인 흥미와 욕구를 채워주는 문학을 말한다. 대중문학의 하위장르에는 여러가지가 있다.\n",
            "문학을 창작하는 예술가를 문예가라고 부른다. 문예학을 연구하는 사람을 문예학자라고 부른다. 문학을 창작하는 사람을 따로 저술가라고 한다. 문예학자와 언어학자를 합쳐 어문학자로 칭하기도 한다. 그러나 언어와, 언어를 사용한 예술인 문학은 현격한 차이가 있으므로 주의해야 한다.\n",
            "반영론적 관점에 의한 감상은 작품을 창작된 당시 시대 정황과 연결시켜 감상하는 입장이고, 내재적 관점의 감상은 작품의 형식, 내용에 국한하여 감상하는 것이다. 표현론적 관점의 감상은 작가의 전기적 사실과 작품을 연결시켜 감상하는 것이고, 수용론적 관점의 감상은 독자와 작품을 연결시켜 감상하는 것을 말한다.\n",
            "\n",
            "\n",
            "\n",
            "나라 목록\n",
            "이 문서는 나라 목록이며, 전 세계 206개 나라의 각 현황과 주권 승인 정보를 개요 형태로 나열하고 있다.\n",
            "이 목록은 명료화를 위해 두 부분으로 나뉘어 있다.\n",
            "두 목록은 모두 가나다 순이다.\n",
            "일부 국가의 경우 국가로서의 자격에 논쟁의 여부가 있으며, 이 때문에 이러한 목록을 엮는 것은 매우 어렵고 논란이 생길 수 있는 과정이다. 이 목록을 구성하고 있는 국가를 선정하는 기준에 대한 정보는 \"포함 기준\" 단락을 통해 설명하였다. 나라에 대한 일반적인 정보는 \"국가\" 문서에서 설명하고 있다.\n",
            "이 목록은 주권을 주장하고 점유한 영토를 실제로 관리하고 있으나, 많은 국가와 외교관계를 맺지 못한 나라를 설명하고 있다. 극소형 국가는 이 목록에 포함하지 않는다.\n",
            "이 목록에 실린 국가 기준은 1933년 몬테비데오 협약 1장을 참고로 하였다. 협정에 따르면, 국가는 다음의 조건을 만족해야 한다.\n",
            "특히, 마지막 조건은 국제 공동체의 참여 용인을 내포하고 있기 때문에, 다른 나라의 승인이 매우 중요한 역할을 할 수 있다. 이 목록에 포함된 모든 국가는 보통 이 기준을 만족하는 것으로 보이는 자주적이고 독립적인 국가이다. 하지만 몬테비데오 협약 기준을 만족하는지의 여부는 많은 국가가 논쟁이 되고 있는 실정이다. 또한, 몬테비데오 협약 기준만이 국가 지위의 충분한 자격이든 아니든, 국제법의 견해 차이는 존재할 수 있다. 이 물음에 대한 다른 이론에 대한 고리는 아래에서 볼 수 있다.\n",
            "위 기준에 논거하여 이 목록은 다음 206개 국가를 포함하고 있다.\n",
            "위 목록에 포함되지 않은 다음 국가는 몬테비데오 협약의 모든 조건을 만족하지 못하거나, 자주적이고 독립적임을 주장하지 않는 국가이다.\n",
            "\n",
            "\n",
            "\n",
            "화학\n",
            "화학(化學, )은 물질의 성질, 조성, 구조, 변화 및 그에 수반하는 에너지의 변화를 연구하는 자연과학의 한 분야이다. 물리학도 역시 물질을 다루는 학문이지만, 물리학이 원소와 화합물을 모두 포함한 물체의 운동과 에너지, 열적·전기적·광학적·기계적 속성을 다루고 이러한 현상으로부터 통일된 이론을 구축하려는 것과는 달리 화학에서는 물질 자체를 연구 대상으로 한다. 화학은 이미 존재하는 물질을 이용하여 특정한 목적에 맞는 새로운 물질을 합성하는 길을 제공하며, 이는 농작물의 증산, 질병의 치료 및 예방, 에너지 효율 증대, 환경오염 감소 등 여러 가지 이점을 제공한다.\n",
            "영어 ‘케미스트리(chemistry)’는 연금술을 뜻하는 단어 ‘알케미(alchemy)’에서 비롯하였다. 이는 다시 아랍어 ‘알 키미야(, al-kīmiyāʾ)’에서 왔는데, 이 단어의 어원에 대해서는 여러 가지 설이 있다.\n",
            "‘화학(化學)’이란 단어는 물질의 변화를 다루는 학문이라는 점에 착안한 번역어이다. 이 번역어는 의 《항해술기(航海述奇)》(1866), 의 자연과학 교과서 《격물입문(格物入門)》(1866) 등에서 처음 쓰였다.\n",
            "고대 화학\n",
            "<nowiki>*</nowiki>\"초기 야금 (야금: 금속을 광석으로부터 추출하고 정련하는 기술)\"\n",
            "인간에 의해 발견된 최초의 기록된 금속은 금인 것으로 보이며 구석기 후기(BC 40,000)에 스페인 동굴에서 소량의 천연 금이 발견되었다고 한다.\n",
            "은, 구리, 주석 및 유성 철 또한 고대 문화에서 일부 제한된 양의 금속 가공을 허용하면서 고대문화로 발견 될 수 있었다. 기원전 3000년경 유성 철제로 만든 이집트 무기는 \"천국의 단검\"으로 높이 평가 받았다.\n",
            "아마도 통제 된 방식으로 사용 된 최초의 화학 반응은 불이였다. 그러나 천년 동안 불은 단순히 열과 빛을 생성하면서 한 물질을 다른 물질 (타는 나무 또는 끓는 물)로 변형시킬 수있는 신비한 힘으로만 알려졌다. 불은 초기 사회의 여러 측면에 영향을 미쳤다. 이들은 요리 및 서식지 조명과 같은 일상 생활의 가장 단순한면에서 도기, 벽돌 및 금속을 녹여 도구를 만드는 것과 같은 고급 기술에 이르기까지 다양했다.\n",
            "유리의 발견과 금속의 정화로 이어지는 불로 인해 야금이 부상했다. 야금의 초기 단계에서 금속의 정화 방법이 요구되었고, 금은 BC 2900 년 초기의 고대 이집트의 귀중한 금속이되었다.\n",
            "17 세기와 18 세기 : 초기 화학\n",
            "\"<nowiki>*</nowiki>로버트 보일\"\n",
            "영국계 미국인 화학자 로버트 보일 (Robert Boyle, 1627-1691)은 연금술에 대한 현대의 과학적 방법을 정제하고 화학을 연금술과 분리한 것으로 생각된다. 그의 연구가 연금술 전통에 뿌리를두고 있음에도 불구하고, 보일은 오늘날 현대의 화학자이자 현대화학의 창시자이자 현대 실험 과학 방법의 선구자 중 한 사람으로 불리고 있다. 보일이 원래 발견자가 아님에도 보일은 1662 년에 제시한 보일의 법칙으로 가장 잘 알려져있다. 보일의 법칙은 온도만 폐쇄된 시스템 내에서 일정하게 유지된다면 가스의 절대 압력과 부피가 반비례함을 의미한다. 보일은 또한 화학 분야의 초석으로 간주되는 1661 년의 《의심 많은 화학자》 에 대한 획기적인 저서로 인정받고 있다. 작품에서 보일은 모든 현상이 움직이는 입자의 충돌의 결과라는 가설을 제시한다. 보일 (Boyle)은 화학자들에게 실험을 호소했으며 실험은 지구, 화염, 공기 및 물과 같은 고전적인 4 가지 원소만으로 화학 원소를 제한한다는 것을 부인했다. 그는 또한 화학이 의학이나 연금술에 종속되어 과학의 지위로 부상하는 것을 중단해야 한다고 촉구했다. 중요한 것은 과학 실험에 대한 엄격한 접근 방식이라고 주장했다. 그는 모든 이론이 사실로 간주되기 전에 실험적으로 입증되어야 한다고 믿었다. 이 작품은 원자, 분자 및 화학 반응의 가장 초기의 현대적인 아이디어를 포함하고 있으며 현대 화학의 역사의 시작을 나타낸다. 보일은 또한 화학 물질을 정제하여 재현 가능한 반응을 얻으려고 시도했다. 그는 재료 물질의 물리적 특성과 상호 작용을 설명하고 정량화하기 위해 René Descartes가 제안한 기계 철학의 보컬 지지자였다. 보일은 원자핵론자 였지만 원자보다 더 많은 입자를 선호했다. 그는 속성이 유지되는 물질의 가장 정밀한 부분은 미립자의 수준에 있다고 논평했다. 그는 또한 공기 펌프로 수 많은 조사를 수행했으며, 공기가 펌프로 퍼져 나감에 따라 수은이 떨어지는 것으로 나타났다. 그는 또한 컨테이너에서 공기를 펌핑하면 화염을 없애고 내부에 있는 작은 동물을 죽일 수 있음을 관찰했다.\n",
            "과거 화학에서 더 이상 나뉘지 않는 기초적인 요소가 존재한다고 했는데, 이 기초적인 요소를 원자(atom)라 한다. 원자란 물질을 구성하는 기본적인 입자로 고대 그리스의 데모크리토스에서부터 그 존재가 주장되었는데, 1803년 존 돌턴에 의해서 원자론으로 정리되었다. 20세기 초, 화학자들은 원자를 구성하는 더 작은 입자들, 즉 전자, 양성자, 중성자가 존재한다는 사실을 발견하였다. 전자는 음전하를 띠고 있고, 양성자는 양전하를 띠고 있으며, 중성자는 전하를 띠지 않고 있다. 원자는 양성자와 중성자로 구성되어 있는 원자핵을 가지고 있으며 전자는 이 주변에 오비탈을 이루며 분포되어 있다.\n",
            "원소(element)는 일반적인 화학적, 물리학적 방법으로는 분해되지 않는 물질을 의미한다. 원소는 원자핵에 존재하는 양성자 수로 정의되는 원자 번호로 구별된다. 산소, 황, 주석, 철 등은 원소이다. 19세기 중엽까지 약 80가지의 원소가 발견되었는데, 이들은 주기율에 따라 배열될 수 있다.\n",
            "동위원소는 아이소토프 또는 동위체라고도 한다. 서로 화학적으로는 거의 구별하지 못하지만 그것을 구성하고 있는 원자의 질량이 서로 다른 원소를 동위원소라고 한다. 영어의 isotope는 그리스어인 isos(같은)와 topos(장소)의 합성어인데, 질량은 서로 달라도 원소의 주기율표에서 같은 장소에 배열되는 데서 1901년 영국의 화학자 F. 소디가 isotope라는 명칭을 붙였다. 대부분의 원소는 동위 원소를 가진다. 동위 원소는 원자 번호는 같으나, 중성자수가 다른 원소를 뜻한다. 동위 원소는 화학적인 성질은 동일하나, 원자량의 차이를 이용하여 분리할 수 있다. 자연에서도 발견되는 92개의 원소 중 88개는 동위 원소가 지표면 상에 존재한다. 자연에서 발견되지 않더라도 동위 원소는 핵반응을 이용하여 만들어낼 수 있다. 어떤 동위 원소는 방사능을 가지기도 하는데, 이 경우 동위 원소의 원자핵은 불안정하고 방사선을 방출하며 자연적으로 붕괴된다.\n",
            "동중 원소(isobar)는 원자 질량은 같으나, 양성자수가 다른 원소를 뜻한다. 동중 원소는 화학적, 물리적 성질이 다르며 S, Cl, Ar, K, Ca등이 있다.\n",
            "분자란 원자의 결합체 중 독립 입자로서 작용하는 단위체이다. 일정한 개수의 원자가 특정하게 정렬되어 서로 결합해 분자가 형성된다. 원자가 원소의 최소단위이듯, 분자는 화합물의 최소단위가 된다. 원자가 결합될 때 전자의 재배치가 일어나는데, 이는 화학에서의 중요한 관심사중 하나이다.\n",
            "화학 반응은 원자 혹은 분자가 화학적인 변화를 겪는 일을 말한다. 화학 반응은 원자간의 결합이 끊어지는 일과 다시 이어지는 일을 포함한다. 결합이 끊어질 때는 에너지가 흡수되고, 결합이 이어질 때는 에너지가 방출된다. 화학 반응의 간단한 예로는 수소와 산소가 반응하여 물이 되는 것을 들 수 있다. 반응식은 다음과 같다.\n",
            "반응식에서 알 수 있듯이, 화학 반응에서는 원자가 새로 생성되거나 나타나는 일이 일어나지 않는다. ΔH는 에너지 또는 엔탈피 변화를 뜻한다. 반응은 발열반응일 수도 있고, 흡열반응일 수도 있다. 발열반응은 주위로 열을 방출하는 반응으로 엔탈피 변화가 음수로 나타난다. 반면에 흡열반응은 주위 열을 흡수하는 반응으로 엔탈피 변화가 양수로 나타난다. 위 반응의 경우는 발열반응인데, 이는 계로부터 주위로 열이 이동하였다는 의미이다.\n",
            "화학 결합을 주된 세 가지 부류로 나누어보면 이온 결합, 공유 결합 그리고 금속결합으로 나눌 수 있다. 이온이란 전하를 띤 원자 또는 분자를 뜻한다. 이온 결합은 양전하와 음전하의 전기적인 인력에 의해서 생성되는 화학 결합이다. 예를 들면 염화 나트륨은 양전하를 띤 나트륨 이온(Na)과 음전하를 띤 염화 이온(Cl) 사이의 전기적인 결합으로 이루어진 이온 화합물이다. 이러한 물질을 물에 녹이면 이온은 물 분자에 의해 수화되고 이렇게 해서 만들어진 수용액은 전기전도도를 가진다.\n",
            "공유 결합은 원자 궤도|오비탈이 겹쳐진 결과 두 원자가 전자쌍을 공유하게 되어 생성되는 결합을 의미한다. 공유 결합이 형성되는 결합은 발열반응인데, 이때 방출되는 에너지의 양이 그 결합의 결합 에너지이다. 결합 에너지만큼의 에너지를 그 결합에 가해주면 결합은 끊어질 수 있다.\n",
            "금속 결합은 금속 원자에서 전자들이 떨어져 나와 자유전자를 생성하게 되어 생성되는 결합을 의미한다. 금속의 특성인 연성과 전성이 생성되는 이유이기도 하다.\n",
            "화합물은 구성하고 있는 원자의 종류, 수, 배치에 의해서 그 특성이 결정된다. 자연에서 찾을 수 있거나 인공적으로 합성할 수 있는 화합물의 수는 엄청나고, 이들 중 대부분은 유기 화합물이다. 유기 화합물을 이루는 주된 화학 원소인 탄소는 다른 화학 원소와는 다르게 매우 긴 사슬 형태로 정렬될 수 있으며, 같은 수많은 이성질체를 형성할 수 있다. 예를 들어, 분자식 CHO는 약 천 개의 서로 다른 화합물을 뜻할 수 있다.\n",
            "화학은 취급 대상 및 대상의 취급 방법에 따라서 몇 가지 분과로 구분될 수 있다. 물질을 분석하는 분석화학은 크게 물질의 존재를 취급하는 정성 분석과 물질의 양을 결정하는 정량 분석으로 나눌 수 있다. 탄소를 포함한 유기 화합물을 다루는 유기화학과 유기 화합물을 제외한 무기 화합물을 다루는 무기화학도 있다. 물리학과 화학의 경계에는 물리화학이 있고 생물학과의 경계에는 생화학이 있다. 물리화학에서 특히 분자의 구조와 성질과의 관계를 다루는 부분을 구조화학이라고 부르기도 한다. 제2차 세계 대전 이후에는 방사성 물질을 다루는 방사화학이 발전하였고 화학 공업을 다루는 공업화학도 있다. 이 외에도 화학의 분과는 매우 다양하다.\n"
          ],
          "name": "stdout"
        }
      ]
    },
    {
      "cell_type": "code",
      "metadata": {
        "id": "98u39IsbSoBk",
        "colab": {
          "base_uri": "https://localhost:8080/"
        },
        "outputId": "95c3744d-5758-431b-9063-2ea52039e001"
      },
      "source": [
        "# 파일 내용 확인 (주제단위)\n",
        "with zipfile.ZipFile(os.path.join(kowiki_dir, 'kowiki.txt.zip')) as z:\n",
        "    with z.open('kowiki.txt') as f:\n",
        "        doc = []\n",
        "        for i, line in enumerate(f):\n",
        "            line = line.decode('utf-8').strip()\n",
        "            if len(line) == 0:\n",
        "                if len(doc) > 0:\n",
        "                    break\n",
        "            else:\n",
        "                doc.append(line)\n",
        "doc"
      ],
      "execution_count": 12,
      "outputs": [
        {
          "output_type": "execute_result",
          "data": {
            "text/plain": [
              "['지미 카터',\n",
              " '제임스 얼 \"지미\" 카터 주니어(, 1924년 10월 1일 ~ )는 민주당 출신 미국 39대 대통령 (1977년 ~ 1981년)이다.',\n",
              " '지미 카터는 조지아주 섬터 카운티 플레인스 마을에서 태어났다. 조지아 공과대학교를 졸업하였다. 그 후 해군에 들어가 전함·원자력·잠수함의 승무원으로 일하였다. 1953년 미국 해군 대위로 예편하였고 이후 땅콩·면화 등을 가꿔 많은 돈을 벌었다. 그의 별명이 \"땅콩 농부\" (Peanut Farmer)로 알려졌다.',\n",
              " '1962년 조지아 주 상원 의원 선거에서 낙선하나 그 선거가 부정선거 였음을 입증하게 되어 당선되고, 1966년 조지아 주 지사 선거에 낙선하지만 1970년 조지아 주 지사를 역임했다. 대통령이 되기 전 조지아주 상원의원을 두번 연임했으며, 1971년부터 1975년까지 조지아 지사로 근무했다. 조지아 주지사로 지내면서, 미국에 사는 흑인 등용법을 내세웠다.',\n",
              " '1976년 미합중국 (미국) 제39대 대통령 선거에 민주당 후보로 출마하여 도덕주의 정책으로 내세워서, 많은 지지를 받고 제럴드 포드 (당시 미국 대통령) 를 누르고 당선되었다.',\n",
              " '카터 대통령은 에너지 개발을 촉구했으나 공화당의 반대로 무산되었다.',\n",
              " '카터는 이집트와 이스라엘을 조정하여, 캠프 데이비드에서 안와르 사다트 대통령과 메나헴 베긴 수상과 함께 중동 평화를 위한 캠프데이비드 협정을 체결했다.',\n",
              " '그러나 이것은 공화당과 미국의 유대인 단체의 반발을 일으켰다. 1979년 백악관에서 양국 간의 평화조약으로 이끌어졌다. 또한 소련과 제2차 전략 무기 제한 협상에 조인했다.',\n",
              " '카터는 1970년대 후반 당시 대한민국 등 인권 후진국의 국민들의 인권을 지키기 위해 노력했으며, 취임 이후 계속해서 도덕정치를 내세웠다.',\n",
              " '그러나 주 이란 미국 대사관 인질 사건에서 인질 구출 실패를 이유로 1980년 대통령 선거에서 공화당의 로널드 레이건 후보에게 져 결국 재선에 실패했다. 또한 임기 말기에 터진 소련의 아프가니스탄 침공 사건으로 인해 1980년 하계 올림픽에 반공국가들의 보이콧을 내세웠다.',\n",
              " '지미 카터는 대한민국과의 관계에서도 중요한 영향을 미쳤던 대통령 중 하나다. 인권 문제와 주한미군 철수 문제로 한때 한미 관계가 불편하기도 했다. 1978년 대한민국에 대한 북한의 위협에 대비해 한미연합사를 창설하면서, 1982년까지 3단계에 걸쳐 주한미군을 철수하기로 했다. 그러나 주한미군사령부와 정보기관·의회의 반대에 부딪혀 주한미군은 완전철수 대신 6,000명을 감축하는 데 그쳤다. 또한 박정희 정권의 인권 문제 등과의 논란으로 불협화음을 냈으나, 1979년 6월 하순, 대한민국을 방문하여 관계가 다소 회복되었다.',\n",
              " '1979년 ~ 1980년 대한민국의 정치적 격변기 당시의 대통령이었던 그는 이에 대해 애매한 태도를 보였고, 이는 후에 대한민국 내에서 고조되는 반미 운동의 한 원인이 됐다. 10월 26일, 박정희 대통령이 김재규 중앙정보부장에 의해 살해된 것에 대해 그는 이 사건으로 큰 충격을 받았으며, 사이러스 밴스 국무장관을 조문사절로 파견했다. 12·12 군사 반란과 5.17 쿠데타에 대해 초기에는 강하게 비난했으나, 미국 정부가 신군부를 설득하는데, 한계가 있었고 결국 묵인하는 듯한 태도를 보이게 됐다.',\n",
              " '퇴임 이후 민간 자원을 적극 활용한 비영리 기구인 카터 재단을 설립한 뒤 민주주의 실현을 위해 제 3세계의 선거 감시 활동 및 기니 벌레에 의한 드라쿤쿠르스 질병 방재를 위해 힘썼다. 미국의 빈곤층 지원 활동, 사랑의 집짓기 운동, 국제 분쟁 중재 등의 활동도 했다.',\n",
              " '카터는 카터 행정부 이후 미국이 북핵 위기, 코소보 전쟁, 이라크 전쟁과 같이 미국이 군사적 행동을 최후로 선택하는 전통적 사고를 버리고 군사적 행동을 선행하는 행위에 대해 깊은 유감을 표시 하며 미국의 군사적 활동에 강한 반대 입장을 보이고 있다.',\n",
              " '특히 국제 분쟁 조정을 위해 북한의 김일성, 아이티의 세드라스 장군, 팔레인스타인의 하마스, 보스니아의 세르비아계 정권 같이 미국 정부에 대해 협상을 거부하면서 사태의 위기를 초래한 인물 및 단체를 직접 만나 분쟁의 원인을 근본적으로 해결하기 위해 힘썼다. 이 과정에서 미국 행정부와 갈등을 보이기도 했지만, 전직 대통령의 권한과 재야 유명 인사들의 활약으로 해결해 나갔다.',\n",
              " '1978년에 채결된 캠프데이비드 협정의 이행이 지지부진 하자 중동 분쟁 분제를 해결하기 위해 1993년 퇴임 후 직접 이스라엘과 팔레인스타인의 오슬로 협정을 이끌어 내는 데도 성공했다.',\n",
              " '1993년 1차 북핵 위기 당시 북한에 대한 미국의 군사적 행동이 임박했으나, 미국 전직 대통령으로는 처음으로 북한을 방문하고 미국과 북 양국의 중재에 큰 기여를 해 위기를 해결했다는 평가를 받았다. 또한 이 때 김영삼 대통령과 김일성 주석의 만남을 주선했다. 하지만 그로부터 수주일 후 김일성이 갑자기 사망하여 김일성과 김영삼의 정상회담은 이루어지지 못했다.',\n",
              " '미국의 관타나모 수용소 문제, 세계의 인권문제에서도 관심이 깊어 유엔에 유엔인권고등판무관의 제도를 시행하도록 노력하여 독재자들의 인권 유린에 대해 제약을 하고, 국제형사재판소를 만드는 데 기여하여 독재자들 같은 인권유린범죄자를 재판소로 회부하여 국제적인 처벌을 받게 하는 등 인권 신장에 크나 큰 기여를 했다.',\n",
              " '2011년 4월 26일부터 29일까지 북한을 3일간 방문했다.',\n",
              " '경제문제를 해결하지 못하고 주 이란 미국 대사관 인질 사건에 발목이 잡혀 실패한 대통령으로 평가를 받지만 이란 사태는 미국 내 이란 재산을 풀어주겠다는 조건을 내세워서 사실상 카터가 해결한 것이었고, 사랑의 집짓기 운동 등으로 퇴임 후에 훨씬 더 존경받는 미국 대통령 중에 특이한 인물로 남았다.',\n",
              " '그는 2002년 말 인권과 중재 역할에 대한 공로를 인정받아 노벨 평화상을 받게 되었다.']"
            ]
          },
          "metadata": {
            "tags": []
          },
          "execution_count": 12
        }
      ]
    },
    {
      "cell_type": "code",
      "metadata": {
        "id": "EKoCzDHNSy3r"
      },
      "source": [
        "def create_train_instance(vocab, n_seq, doc):\n",
        "    \"\"\"\n",
        "    create train instance\n",
        "    :param vocab: vocabulary object\n",
        "    :param n_seq: sequece number\n",
        "    :param doc: wiki document\n",
        "    :return: train instance list\n",
        "    \"\"\"\n",
        "    n_max = n_seq - 1\n",
        "    instance_list = []\n",
        "\n",
        "    chunk = []\n",
        "    chunk_len = 0\n",
        "    for i, line in enumerate(doc):\n",
        "        tokens = vocab.encode_as_pieces(line)\n",
        "        chunk.append(tokens)\n",
        "        chunk_len += len(tokens)\n",
        "        if n_max <= chunk_len or i >= len(doc) -1:\n",
        "            # print()\n",
        "            # print(chunk_len, chunk)\n",
        "            instance = []\n",
        "            for tokens in chunk:\n",
        "                instance.extend(tokens)\n",
        "            # print(len(instance), instance)\n",
        "            instance = instance[:n_max]\n",
        "            # print(len(instance), instance)\n",
        "            instance_list.append(instance)\n",
        "            chunk = []\n",
        "            chunk_len = 0\n",
        "\n",
        "    return instance_list"
      ],
      "execution_count": 13,
      "outputs": []
    },
    {
      "cell_type": "code",
      "metadata": {
        "id": "UNNBJKa_Abb7",
        "colab": {
          "base_uri": "https://localhost:8080/"
        },
        "outputId": "67b9d58d-0998-4cf9-eda4-6118b6ab12f8"
      },
      "source": [
        "# instance 동작 확인\n",
        "instance_list = create_train_instance(vocab, n_seq, doc)\n",
        "for instance in instance_list:\n",
        "    print(len(instance), instance)"
      ],
      "execution_count": 14,
      "outputs": [
        {
          "output_type": "stream",
          "text": [
            "255 ['▁지미', '▁카터', '▁제임스', '▁얼', '▁\"', '지', '미', '\"', '▁카터', '▁주니어', '(', ',', '▁1924', '년', '▁10', '월', '▁1', '일', '▁~', '▁)', '는', '▁민주당', '▁출신', '▁미국', '▁39', '대', '▁대통령', '▁', '(1977', '년', '▁~', '▁1981', '년', ')', '이다', '.', '▁지미', '▁카터', '는', '▁조지아주', '▁섬', '터', '▁카운티', '▁플레', '인', '스', '▁마을에서', '▁태어났다', '.', '▁조지아', '▁공과대학교', '를', '▁졸업하였다', '.', '▁그', '▁후', '▁해군', '에', '▁들어가', '▁전함', '·', '원자력', '·', '잠수함', '의', '▁승무원', '으로', '▁일', '하였다', '.', '▁1953', '년', '▁미국', '▁해군', '▁대위', '로', '▁예편', '하였고', '▁이후', '▁땅콩', '·', '면', '화', '▁등을', '▁가', '꿔', '▁많은', '▁돈을', '▁벌', '었다', '.', '▁그의', '▁별명이', '▁\"', '땅', '콩', '▁농부', '\"', '▁(', 'P', 'ean', 'ut', '▁F', 'ar', 'mer', ')', '로', '▁알려졌다', '.', '▁1962', '년', '▁조지아', '▁주', '▁상원', '▁의원', '▁선거에서', '▁낙선', '하나', '▁그', '▁선거', '가', '▁부정', '선거', '▁', '였', '음을', '▁입증', '하게', '▁되어', '▁당선', '되고', ',', '▁1966', '년', '▁조지아', '▁주', '▁지사', '▁선거에', '▁낙선', '하지만', '▁1970', '년', '▁조지아', '▁주', '▁지사', '를', '▁역임했다', '.', '▁대통령이', '▁되기', '▁전', '▁조지아주', '▁상원의원', '을', '▁두', '번', '▁연임', '했으며', ',', '▁1971', '년부터', '▁1975', '년까지', '▁조지아', '▁지사', '로', '▁근무했다', '.', '▁조지아', '▁주지사', '로', '▁지내면서', ',', '▁미국에', '▁사는', '▁흑인', '▁등용', '법을', '▁내세웠다', '.', '▁1976', '년', '▁미합중국', '▁(', '미국', ')', '▁제', '39', '대', '▁대통령', '▁선거에', '▁민주당', '▁후보로', '▁출마하여', '▁도덕', '주의', '▁정책으로', '▁내세워', '서', ',', '▁많은', '▁지지를', '▁받고', '▁제', '럴', '드', '▁포드', '▁(', '당시', '▁미국', '▁대통령', ')', '▁', '를', '▁누르고', '▁당선되었다', '.', '▁카터', '▁대통령은', '▁에너지', '▁개발을', '▁촉구', '했으나', '▁공화당', '의', '▁반대로', '▁무산되었다', '.', '▁카터', '는', '▁이집트', '와', '▁이스라엘', '을', '▁조정', '하여', ',', '▁캠프', '▁데이비드', '에서', '▁안', '와', '르', '▁사다', '트', '▁대통령과', '▁메', '나', '헴', '▁베', '긴', '▁수상', '과', '▁함께', '▁중동']\n",
            "255 ['▁그러나', '▁이것은', '▁공화당', '과', '▁미국의', '▁유대인', '▁단체의', '▁반발', '을', '▁일으켰다', '.', '▁1979', '년', '▁백악관', '에서', '▁양국', '▁간의', '▁평화', '조약', '으로', '▁이끌어', '졌다', '.', '▁또한', '▁소련과', '▁제', '2', '차', '▁전략', '▁무기', '▁제한', '▁협상', '에', '▁조인', '했다', '.', '▁카터', '는', '▁1970', '년대', '▁후반', '▁당시', '▁대한민국', '▁등', '▁인권', '▁후진', '국의', '▁국민들의', '▁인권', '을', '▁지키기', '▁위해', '▁노력', '했으며', ',', '▁취임', '▁이후', '▁계속해서', '▁도덕', '정치', '를', '▁내세웠다', '.', '▁그러나', '▁주', '▁이란', '▁미국', '▁대사관', '▁인질', '▁사건', '에서', '▁인질', '▁구출', '▁실패', '를', '▁이유로', '▁1980', '년', '▁대통령', '▁선거에서', '▁공화당', '의', '▁로널드', '▁레이건', '▁후보', '에게', '▁', '져', '▁결국', '▁재선', '에', '▁실패했다', '.', '▁또한', '▁임기', '▁말기에', '▁터', '진', '▁소련의', '▁아프가니스탄', '▁침공', '▁사건으로', '▁인해', '▁1980', '년', '▁하계', '▁올림픽에', '▁반공', '국가', '들의', '▁보이콧', '을', '▁내세웠다', '.', '▁지미', '▁카터', '는', '▁대한민국과', '의', '▁관계', '에서도', '▁중요한', '▁영향을', '▁미', '쳤던', '▁대통령', '▁중', '▁하나다', '.', '▁인권', '▁문제와', '▁주한미군', '▁철수', '▁문제로', '▁한때', '▁한미', '▁관계가', '▁불편', '하기도', '▁했다', '.', '▁1978', '년', '▁대한민국에', '▁대한', '▁북한의', '▁위협', '에', '▁대비해', '▁한미', '연합', '사를', '▁창설', '하면서', ',', '▁1982', '년까지', '▁3', '단계', '에', '▁걸쳐', '▁주한미군', '을', '▁철수', '하기로', '▁했다', '.', '▁그러나', '▁주한미군', '사령부', '와', '▁정보', '기관', '·', '의', '회의', '▁반대', '에', '▁부딪혀', '▁주한미군', '은', '▁완전', '철', '수', '▁대신', '▁6,000', '명을', '▁감축', '하는', '▁데', '▁그쳤다', '.', '▁또한', '▁박정희', '▁정권', '의', '▁인권', '▁문제', '▁등과', '의', '▁논란', '으로', '▁불', '협', '화', '음을', '▁', '냈으나', ',', '▁1979', '년', '▁6', '월', '▁하순', ',', '▁대한민국', '을', '▁방문하여', '▁관계가', '▁다소', '▁회복', '되었다', '.', '▁1979', '년', '▁~', '▁1980', '년', '▁대한민국의', '▁정치적', '▁격', '변', '기', '▁당시의', '▁대통령', '이었던', '▁그는', '▁이에', '▁대해', '▁애', '매', '한', '▁태도를', '▁보였고', ',', '▁이는', '▁후에', '▁대한민국', '▁내에서', '▁고조', '되는', '▁반', '미', '▁운동의', '▁한']\n",
            "255 ['▁퇴임', '▁이후', '▁민간', '▁자원을', '▁적극', '▁활용한', '▁비영리', '▁기구', '인', '▁카터', '▁재단', '을', '▁설립한', '▁뒤', '▁민주주의', '▁실현', '을', '▁위해', '▁제', '▁3', '세계', '의', '▁선거', '▁감시', '▁활동', '▁및', '▁기니', '▁', '벌레', '에', '▁의한', '▁드라', '쿤', '쿠르', '스', '▁질병', '▁방', '재를', '▁위해', '▁힘썼다', '.', '▁미국의', '▁빈곤', '층', '▁지원', '▁활동', ',', '▁사랑의', '▁집', '짓', '기', '▁운동', ',', '▁국제', '▁분쟁', '▁중재', '▁등의', '▁활동', '도', '▁했다', '.', '▁카터', '는', '▁카터', '▁행정부', '▁이후', '▁미국이', '▁북', '핵', '▁위기', ',', '▁코소보', '▁전쟁', ',', '▁이라크', '▁전쟁과', '▁같이', '▁미국이', '▁군사적', '▁행동을', '▁최후', '로', '▁선택', '하는', '▁전통적', '▁사고를', '▁버리고', '▁군사적', '▁행동을', '▁선행', '하는', '▁행위에', '▁대해', '▁깊은', '▁유감', '을', '▁표시', '▁하며', '▁미국의', '▁군사적', '▁활동에', '▁강한', '▁반대', '▁입장을', '▁보이고', '▁있다', '.', '▁특히', '▁국제', '▁분쟁', '▁조정', '을', '▁위해', '▁북한의', '▁김일성', ',', '▁아이티', '의', '▁세', '드라', '스', '▁장군', ',', '▁팔레', '인', '스타', '인', '의', '▁하마', '스', ',', '▁보스니아', '의', '▁세르비아', '계', '▁정권', '▁같이', '▁미국', '▁정부에', '▁대해', '▁협상을', '▁거부', '하면서', '▁사태', '의', '▁위기를', '▁초래', '한', '▁인물', '▁및', '▁단체', '를', '▁직접', '▁만나', '▁분쟁', '의', '▁원인을', '▁근본적으로', '▁해결하기', '▁위해', '▁힘썼다', '.', '▁이', '▁과정에서', '▁미국', '▁행정부', '와', '▁갈등을', '▁보이기도', '▁했지만', ',', '▁전직', '▁대통령의', '▁권한', '과', '▁재', '야', '▁유명', '▁인사들', '의', '▁활약으로', '▁해결', '해', '▁나갔다', '.', '▁1978', '년에', '▁채', '결', '된', '▁캠프', '데이', '비', '드', '▁협정', '의', '▁이행', '이', '▁지지', '부', '진', '▁하자', '▁중동', '▁분쟁', '▁분', '제를', '▁해결하기', '▁위해', '▁1993', '년', '▁퇴임', '▁후', '▁직접', '▁이스라엘', '과', '▁팔레', '인', '스타', '인', '의', '▁오슬로', '▁협정을', '▁이끌어', '▁내는', '▁데', '도', '▁성공했다', '.', '▁1993', '년', '▁1', '차', '▁북', '핵', '▁위기', '▁당시', '▁북한', '에', '▁대한', '▁미국의', '▁군사적', '▁행동이', '▁임', '박', '했으나', ',', '▁미국', '▁전직', '▁대통령으로', '는', '▁처음으로', '▁북한', '을', '▁방문', '하고']\n",
            "163 ['▁미국의', '▁관', '타나', '모', '▁수용소', '▁문제', ',', '▁세계의', '▁인권', '문제', '에서도', '▁관심이', '▁깊어', '▁유엔', '에', '▁유엔', '인권', '고등', '판', '무관', '의', '▁제도를', '▁시행', '하도록', '▁노력', '하여', '▁독재자', '들의', '▁인권', '▁유', '린', '에', '▁대해', '▁제약', '을', '▁하고', ',', '▁국제', '형사', '재판소', '를', '▁만드는', '▁데', '▁기여', '하여', '▁독재자', '들', '▁같은', '▁인권', '유', '린', '범죄', '자를', '▁', '재판소', '로', '▁회', '부', '하여', '▁국제적인', '▁처벌을', '▁받게', '▁하는', '▁등', '▁인권', '▁신장', '에', '▁크', '나', '▁큰', '▁기여를', '▁했다', '.', '▁2011', '년', '▁4', '월', '▁26', '일부터', '▁29', '일까지', '▁북한', '을', '▁3', '일간', '▁방문했다', '.', '▁경제', '문제를', '▁해결', '하지', '▁못하고', '▁주', '▁이란', '▁미국', '▁대사관', '▁인질', '▁사건에', '▁발목', '이', '▁잡혀', '▁실패한', '▁대통령으로', '▁평가를', '▁받지', '만', '▁이란', '▁사태', '는', '▁미국', '▁내', '▁이란', '▁재산을', '▁풀어주', '겠다는', '▁조건을', '▁내세워', '서', '▁사실상', '▁카터', '가', '▁해결', '한', '▁것이', '었고', ',', '▁사랑의', '▁집', '짓', '기', '▁운동', '▁등으로', '▁퇴임', '▁후에', '▁훨씬', '▁더', '▁존경', '받는', '▁미국', '▁대통령', '▁중에', '▁특이한', '▁인물로', '▁남았다', '.', '▁그는', '▁2002', '년', '▁말', '▁인권', '과', '▁중재', '▁역할에', '▁대한', '▁공로', '를', '▁인정받아', '▁노벨', '▁평화', '상을', '▁받게', '▁되었다', '.']\n"
          ],
          "name": "stdout"
        }
      ]
    },
    {
      "cell_type": "code",
      "metadata": {
        "id": "L7ZWtd8NqE0Z"
      },
      "source": [
        "# instance를 json 형태로 저장하는 함수\n",
        "def save_instance(vocab, n_seq, doc, o_f):\n",
        "    instance_list = create_train_instance(vocab, n_seq, doc)\n",
        "    for instance in instance_list:\n",
        "        o_f.write(json.dumps({'token': instance}, ensure_ascii=False))\n",
        "        o_f.write('\\n')"
      ],
      "execution_count": 15,
      "outputs": []
    },
    {
      "cell_type": "code",
      "metadata": {
        "id": "lAZD9iR6_oO_",
        "colab": {
          "base_uri": "https://localhost:8080/",
          "height": 67,
          "referenced_widgets": [
            "ad73a2fa8b234f819468efdeaff2d624",
            "389300638c4d4414bfc8fbeba4a48887",
            "246055b535524dde88f0de68295c56ed",
            "43f77d3baf9d459aa66b2f0324e69b83",
            "7c3d6c91546849aa84a718b880645595",
            "8ce5daaefe4b44d99819417b06b2544f",
            "fb46321a434340449a064f59971f9088",
            "fff785456392445cbc489749ee2a816e"
          ]
        },
        "outputId": "2f5ffd65-44ea-4aa9-f7ca-2c4040d35a3a"
      },
      "source": [
        "# 전체 문서에 대한 instance 생성\n",
        "with open(os.path.join(kowiki_dir, 'kowiki_lm.json'), 'w') as o_f:\n",
        "    with zipfile.ZipFile(os.path.join(kowiki_dir, 'kowiki.txt.zip')) as z:\n",
        "        with z.open('kowiki.txt') as f:\n",
        "            doc = []\n",
        "            for i, line in enumerate(tqdm(f)):\n",
        "                line = line.decode('utf-8').strip()\n",
        "                if len(line) == 0:\n",
        "                    if len(doc) > 0:\n",
        "                        save_instance(vocab, n_seq, doc, o_f)\n",
        "                        doc = []\n",
        "                else:\n",
        "                    doc.append(line)\n",
        "            if len(doc) > 0:\n",
        "                save_instance(vocab, n_seq, doc, o_f)"
      ],
      "execution_count": 16,
      "outputs": [
        {
          "output_type": "display_data",
          "data": {
            "application/vnd.jupyter.widget-view+json": {
              "model_id": "ad73a2fa8b234f819468efdeaff2d624",
              "version_minor": 0,
              "version_major": 2
            },
            "text/plain": [
              "HBox(children=(FloatProgress(value=1.0, bar_style='info', max=1.0), HTML(value='')))"
            ]
          },
          "metadata": {
            "tags": []
          }
        },
        {
          "output_type": "stream",
          "text": [
            "\n"
          ],
          "name": "stdout"
        }
      ]
    },
    {
      "cell_type": "code",
      "metadata": {
        "id": "i3joZ7O1r93K",
        "colab": {
          "base_uri": "https://localhost:8080/"
        },
        "outputId": "ad900b1b-b7f2-4448-fb98-64256918b229"
      },
      "source": [
        "# 파일 라인수 확인\n",
        "n_line = 0\n",
        "with open(os.path.join(kowiki_dir, 'kowiki_lm.json')) as f:\n",
        "    for line in f:\n",
        "        n_line += 1\n",
        "        if n_line <= 10:\n",
        "            print(line)\n",
        "n_line"
      ],
      "execution_count": 17,
      "outputs": [
        {
          "output_type": "stream",
          "text": [
            "{\"token\": [\"▁지미\", \"▁카터\", \"▁제임스\", \"▁얼\", \"▁\\\"\", \"지\", \"미\", \"\\\"\", \"▁카터\", \"▁주니어\", \"(\", \",\", \"▁1924\", \"년\", \"▁10\", \"월\", \"▁1\", \"일\", \"▁~\", \"▁)\", \"는\", \"▁민주당\", \"▁출신\", \"▁미국\", \"▁39\", \"대\", \"▁대통령\", \"▁\", \"(1977\", \"년\", \"▁~\", \"▁1981\", \"년\", \")\", \"이다\", \".\", \"▁지미\", \"▁카터\", \"는\", \"▁조지아주\", \"▁섬\", \"터\", \"▁카운티\", \"▁플레\", \"인\", \"스\", \"▁마을에서\", \"▁태어났다\", \".\", \"▁조지아\", \"▁공과대학교\", \"를\", \"▁졸업하였다\", \".\", \"▁그\", \"▁후\", \"▁해군\", \"에\", \"▁들어가\", \"▁전함\", \"·\", \"원자력\", \"·\", \"잠수함\", \"의\", \"▁승무원\", \"으로\", \"▁일\", \"하였다\", \".\", \"▁1953\", \"년\", \"▁미국\", \"▁해군\", \"▁대위\", \"로\", \"▁예편\", \"하였고\", \"▁이후\", \"▁땅콩\", \"·\", \"면\", \"화\", \"▁등을\", \"▁가\", \"꿔\", \"▁많은\", \"▁돈을\", \"▁벌\", \"었다\", \".\", \"▁그의\", \"▁별명이\", \"▁\\\"\", \"땅\", \"콩\", \"▁농부\", \"\\\"\", \"▁(\", \"P\", \"ean\", \"ut\", \"▁F\", \"ar\", \"mer\", \")\", \"로\", \"▁알려졌다\", \".\", \"▁1962\", \"년\", \"▁조지아\", \"▁주\", \"▁상원\", \"▁의원\", \"▁선거에서\", \"▁낙선\", \"하나\", \"▁그\", \"▁선거\", \"가\", \"▁부정\", \"선거\", \"▁\", \"였\", \"음을\", \"▁입증\", \"하게\", \"▁되어\", \"▁당선\", \"되고\", \",\", \"▁1966\", \"년\", \"▁조지아\", \"▁주\", \"▁지사\", \"▁선거에\", \"▁낙선\", \"하지만\", \"▁1970\", \"년\", \"▁조지아\", \"▁주\", \"▁지사\", \"를\", \"▁역임했다\", \".\", \"▁대통령이\", \"▁되기\", \"▁전\", \"▁조지아주\", \"▁상원의원\", \"을\", \"▁두\", \"번\", \"▁연임\", \"했으며\", \",\", \"▁1971\", \"년부터\", \"▁1975\", \"년까지\", \"▁조지아\", \"▁지사\", \"로\", \"▁근무했다\", \".\", \"▁조지아\", \"▁주지사\", \"로\", \"▁지내면서\", \",\", \"▁미국에\", \"▁사는\", \"▁흑인\", \"▁등용\", \"법을\", \"▁내세웠다\", \".\", \"▁1976\", \"년\", \"▁미합중국\", \"▁(\", \"미국\", \")\", \"▁제\", \"39\", \"대\", \"▁대통령\", \"▁선거에\", \"▁민주당\", \"▁후보로\", \"▁출마하여\", \"▁도덕\", \"주의\", \"▁정책으로\", \"▁내세워\", \"서\", \",\", \"▁많은\", \"▁지지를\", \"▁받고\", \"▁제\", \"럴\", \"드\", \"▁포드\", \"▁(\", \"당시\", \"▁미국\", \"▁대통령\", \")\", \"▁\", \"를\", \"▁누르고\", \"▁당선되었다\", \".\", \"▁카터\", \"▁대통령은\", \"▁에너지\", \"▁개발을\", \"▁촉구\", \"했으나\", \"▁공화당\", \"의\", \"▁반대로\", \"▁무산되었다\", \".\", \"▁카터\", \"는\", \"▁이집트\", \"와\", \"▁이스라엘\", \"을\", \"▁조정\", \"하여\", \",\", \"▁캠프\", \"▁데이비드\", \"에서\", \"▁안\", \"와\", \"르\", \"▁사다\", \"트\", \"▁대통령과\", \"▁메\", \"나\", \"헴\", \"▁베\", \"긴\", \"▁수상\", \"과\", \"▁함께\", \"▁중동\"]}\n",
            "\n",
            "{\"token\": [\"▁그러나\", \"▁이것은\", \"▁공화당\", \"과\", \"▁미국의\", \"▁유대인\", \"▁단체의\", \"▁반발\", \"을\", \"▁일으켰다\", \".\", \"▁1979\", \"년\", \"▁백악관\", \"에서\", \"▁양국\", \"▁간의\", \"▁평화\", \"조약\", \"으로\", \"▁이끌어\", \"졌다\", \".\", \"▁또한\", \"▁소련과\", \"▁제\", \"2\", \"차\", \"▁전략\", \"▁무기\", \"▁제한\", \"▁협상\", \"에\", \"▁조인\", \"했다\", \".\", \"▁카터\", \"는\", \"▁1970\", \"년대\", \"▁후반\", \"▁당시\", \"▁대한민국\", \"▁등\", \"▁인권\", \"▁후진\", \"국의\", \"▁국민들의\", \"▁인권\", \"을\", \"▁지키기\", \"▁위해\", \"▁노력\", \"했으며\", \",\", \"▁취임\", \"▁이후\", \"▁계속해서\", \"▁도덕\", \"정치\", \"를\", \"▁내세웠다\", \".\", \"▁그러나\", \"▁주\", \"▁이란\", \"▁미국\", \"▁대사관\", \"▁인질\", \"▁사건\", \"에서\", \"▁인질\", \"▁구출\", \"▁실패\", \"를\", \"▁이유로\", \"▁1980\", \"년\", \"▁대통령\", \"▁선거에서\", \"▁공화당\", \"의\", \"▁로널드\", \"▁레이건\", \"▁후보\", \"에게\", \"▁\", \"져\", \"▁결국\", \"▁재선\", \"에\", \"▁실패했다\", \".\", \"▁또한\", \"▁임기\", \"▁말기에\", \"▁터\", \"진\", \"▁소련의\", \"▁아프가니스탄\", \"▁침공\", \"▁사건으로\", \"▁인해\", \"▁1980\", \"년\", \"▁하계\", \"▁올림픽에\", \"▁반공\", \"국가\", \"들의\", \"▁보이콧\", \"을\", \"▁내세웠다\", \".\", \"▁지미\", \"▁카터\", \"는\", \"▁대한민국과\", \"의\", \"▁관계\", \"에서도\", \"▁중요한\", \"▁영향을\", \"▁미\", \"쳤던\", \"▁대통령\", \"▁중\", \"▁하나다\", \".\", \"▁인권\", \"▁문제와\", \"▁주한미군\", \"▁철수\", \"▁문제로\", \"▁한때\", \"▁한미\", \"▁관계가\", \"▁불편\", \"하기도\", \"▁했다\", \".\", \"▁1978\", \"년\", \"▁대한민국에\", \"▁대한\", \"▁북한의\", \"▁위협\", \"에\", \"▁대비해\", \"▁한미\", \"연합\", \"사를\", \"▁창설\", \"하면서\", \",\", \"▁1982\", \"년까지\", \"▁3\", \"단계\", \"에\", \"▁걸쳐\", \"▁주한미군\", \"을\", \"▁철수\", \"하기로\", \"▁했다\", \".\", \"▁그러나\", \"▁주한미군\", \"사령부\", \"와\", \"▁정보\", \"기관\", \"·\", \"의\", \"회의\", \"▁반대\", \"에\", \"▁부딪혀\", \"▁주한미군\", \"은\", \"▁완전\", \"철\", \"수\", \"▁대신\", \"▁6,000\", \"명을\", \"▁감축\", \"하는\", \"▁데\", \"▁그쳤다\", \".\", \"▁또한\", \"▁박정희\", \"▁정권\", \"의\", \"▁인권\", \"▁문제\", \"▁등과\", \"의\", \"▁논란\", \"으로\", \"▁불\", \"협\", \"화\", \"음을\", \"▁\", \"냈으나\", \",\", \"▁1979\", \"년\", \"▁6\", \"월\", \"▁하순\", \",\", \"▁대한민국\", \"을\", \"▁방문하여\", \"▁관계가\", \"▁다소\", \"▁회복\", \"되었다\", \".\", \"▁1979\", \"년\", \"▁~\", \"▁1980\", \"년\", \"▁대한민국의\", \"▁정치적\", \"▁격\", \"변\", \"기\", \"▁당시의\", \"▁대통령\", \"이었던\", \"▁그는\", \"▁이에\", \"▁대해\", \"▁애\", \"매\", \"한\", \"▁태도를\", \"▁보였고\", \",\", \"▁이는\", \"▁후에\", \"▁대한민국\", \"▁내에서\", \"▁고조\", \"되는\", \"▁반\", \"미\", \"▁운동의\", \"▁한\"]}\n",
            "\n",
            "{\"token\": [\"▁퇴임\", \"▁이후\", \"▁민간\", \"▁자원을\", \"▁적극\", \"▁활용한\", \"▁비영리\", \"▁기구\", \"인\", \"▁카터\", \"▁재단\", \"을\", \"▁설립한\", \"▁뒤\", \"▁민주주의\", \"▁실현\", \"을\", \"▁위해\", \"▁제\", \"▁3\", \"세계\", \"의\", \"▁선거\", \"▁감시\", \"▁활동\", \"▁및\", \"▁기니\", \"▁\", \"벌레\", \"에\", \"▁의한\", \"▁드라\", \"쿤\", \"쿠르\", \"스\", \"▁질병\", \"▁방\", \"재를\", \"▁위해\", \"▁힘썼다\", \".\", \"▁미국의\", \"▁빈곤\", \"층\", \"▁지원\", \"▁활동\", \",\", \"▁사랑의\", \"▁집\", \"짓\", \"기\", \"▁운동\", \",\", \"▁국제\", \"▁분쟁\", \"▁중재\", \"▁등의\", \"▁활동\", \"도\", \"▁했다\", \".\", \"▁카터\", \"는\", \"▁카터\", \"▁행정부\", \"▁이후\", \"▁미국이\", \"▁북\", \"핵\", \"▁위기\", \",\", \"▁코소보\", \"▁전쟁\", \",\", \"▁이라크\", \"▁전쟁과\", \"▁같이\", \"▁미국이\", \"▁군사적\", \"▁행동을\", \"▁최후\", \"로\", \"▁선택\", \"하는\", \"▁전통적\", \"▁사고를\", \"▁버리고\", \"▁군사적\", \"▁행동을\", \"▁선행\", \"하는\", \"▁행위에\", \"▁대해\", \"▁깊은\", \"▁유감\", \"을\", \"▁표시\", \"▁하며\", \"▁미국의\", \"▁군사적\", \"▁활동에\", \"▁강한\", \"▁반대\", \"▁입장을\", \"▁보이고\", \"▁있다\", \".\", \"▁특히\", \"▁국제\", \"▁분쟁\", \"▁조정\", \"을\", \"▁위해\", \"▁북한의\", \"▁김일성\", \",\", \"▁아이티\", \"의\", \"▁세\", \"드라\", \"스\", \"▁장군\", \",\", \"▁팔레\", \"인\", \"스타\", \"인\", \"의\", \"▁하마\", \"스\", \",\", \"▁보스니아\", \"의\", \"▁세르비아\", \"계\", \"▁정권\", \"▁같이\", \"▁미국\", \"▁정부에\", \"▁대해\", \"▁협상을\", \"▁거부\", \"하면서\", \"▁사태\", \"의\", \"▁위기를\", \"▁초래\", \"한\", \"▁인물\", \"▁및\", \"▁단체\", \"를\", \"▁직접\", \"▁만나\", \"▁분쟁\", \"의\", \"▁원인을\", \"▁근본적으로\", \"▁해결하기\", \"▁위해\", \"▁힘썼다\", \".\", \"▁이\", \"▁과정에서\", \"▁미국\", \"▁행정부\", \"와\", \"▁갈등을\", \"▁보이기도\", \"▁했지만\", \",\", \"▁전직\", \"▁대통령의\", \"▁권한\", \"과\", \"▁재\", \"야\", \"▁유명\", \"▁인사들\", \"의\", \"▁활약으로\", \"▁해결\", \"해\", \"▁나갔다\", \".\", \"▁1978\", \"년에\", \"▁채\", \"결\", \"된\", \"▁캠프\", \"데이\", \"비\", \"드\", \"▁협정\", \"의\", \"▁이행\", \"이\", \"▁지지\", \"부\", \"진\", \"▁하자\", \"▁중동\", \"▁분쟁\", \"▁분\", \"제를\", \"▁해결하기\", \"▁위해\", \"▁1993\", \"년\", \"▁퇴임\", \"▁후\", \"▁직접\", \"▁이스라엘\", \"과\", \"▁팔레\", \"인\", \"스타\", \"인\", \"의\", \"▁오슬로\", \"▁협정을\", \"▁이끌어\", \"▁내는\", \"▁데\", \"도\", \"▁성공했다\", \".\", \"▁1993\", \"년\", \"▁1\", \"차\", \"▁북\", \"핵\", \"▁위기\", \"▁당시\", \"▁북한\", \"에\", \"▁대한\", \"▁미국의\", \"▁군사적\", \"▁행동이\", \"▁임\", \"박\", \"했으나\", \",\", \"▁미국\", \"▁전직\", \"▁대통령으로\", \"는\", \"▁처음으로\", \"▁북한\", \"을\", \"▁방문\", \"하고\"]}\n",
            "\n",
            "{\"token\": [\"▁미국의\", \"▁관\", \"타나\", \"모\", \"▁수용소\", \"▁문제\", \",\", \"▁세계의\", \"▁인권\", \"문제\", \"에서도\", \"▁관심이\", \"▁깊어\", \"▁유엔\", \"에\", \"▁유엔\", \"인권\", \"고등\", \"판\", \"무관\", \"의\", \"▁제도를\", \"▁시행\", \"하도록\", \"▁노력\", \"하여\", \"▁독재자\", \"들의\", \"▁인권\", \"▁유\", \"린\", \"에\", \"▁대해\", \"▁제약\", \"을\", \"▁하고\", \",\", \"▁국제\", \"형사\", \"재판소\", \"를\", \"▁만드는\", \"▁데\", \"▁기여\", \"하여\", \"▁독재자\", \"들\", \"▁같은\", \"▁인권\", \"유\", \"린\", \"범죄\", \"자를\", \"▁\", \"재판소\", \"로\", \"▁회\", \"부\", \"하여\", \"▁국제적인\", \"▁처벌을\", \"▁받게\", \"▁하는\", \"▁등\", \"▁인권\", \"▁신장\", \"에\", \"▁크\", \"나\", \"▁큰\", \"▁기여를\", \"▁했다\", \".\", \"▁2011\", \"년\", \"▁4\", \"월\", \"▁26\", \"일부터\", \"▁29\", \"일까지\", \"▁북한\", \"을\", \"▁3\", \"일간\", \"▁방문했다\", \".\", \"▁경제\", \"문제를\", \"▁해결\", \"하지\", \"▁못하고\", \"▁주\", \"▁이란\", \"▁미국\", \"▁대사관\", \"▁인질\", \"▁사건에\", \"▁발목\", \"이\", \"▁잡혀\", \"▁실패한\", \"▁대통령으로\", \"▁평가를\", \"▁받지\", \"만\", \"▁이란\", \"▁사태\", \"는\", \"▁미국\", \"▁내\", \"▁이란\", \"▁재산을\", \"▁풀어주\", \"겠다는\", \"▁조건을\", \"▁내세워\", \"서\", \"▁사실상\", \"▁카터\", \"가\", \"▁해결\", \"한\", \"▁것이\", \"었고\", \",\", \"▁사랑의\", \"▁집\", \"짓\", \"기\", \"▁운동\", \"▁등으로\", \"▁퇴임\", \"▁후에\", \"▁훨씬\", \"▁더\", \"▁존경\", \"받는\", \"▁미국\", \"▁대통령\", \"▁중에\", \"▁특이한\", \"▁인물로\", \"▁남았다\", \".\", \"▁그는\", \"▁2002\", \"년\", \"▁말\", \"▁인권\", \"과\", \"▁중재\", \"▁역할에\", \"▁대한\", \"▁공로\", \"를\", \"▁인정받아\", \"▁노벨\", \"▁평화\", \"상을\", \"▁받게\", \"▁되었다\", \".\"]}\n",
            "\n",
            "{\"token\": [\"▁수학\", \"▁수학\", \"(\", \"數\", \"學\", \",\", \"▁)\", \"은\", \"▁양\", \",\", \"▁구조\", \",\", \"▁공간\", \",\", \"▁변화\", \"등을\", \"▁다룬다\", \"고\", \"▁설명\", \"▁할\", \"▁수\", \"▁있으나\", \"▁일반적으로\", \"▁받아들여\", \"지는\", \"▁정의는\", \"▁없다\", \"▁수학\", \"은\", \"▁공리\", \",\", \"▁명제\", \",\", \"▁증명\", \"▁등으로\", \"▁구성된\", \"▁추상적\", \"▁대상을\", \"▁연구하는\", \"▁학문\", \"이다\", \".\", \"▁수학자\", \"는\", \"▁인간이\", \"▁살아가는\", \"▁실제\", \"▁세상\", \"과\", \"▁대비해\", \"▁보았을\", \"▁때\", \"▁전혀\", \"▁다른\", \"▁독립\", \"적이며\", \"▁추상적\", \"이고\", \"▁엄격한\", \"▁구조를\", \"▁만들고\", \"▁연구\", \"한다\", \".\", \"▁그러나\", \"▁이런\", \"▁추상적\", \"인\", \"▁사실\", \"들이\", \"▁가끔\", \"은\", \"▁실제\", \"를\", \"▁설명\", \"하는데\", \"▁필요한\", \"▁경우도\", \"▁있다\", \".\", \"▁고대\", \"로부터\", \"▁문명\", \"이\", \"▁생기는\", \"데\", \"▁필요한\", \"▁건축\", \",\", \"▁천문학\", \",\", \"▁토지\", \"▁측량\", \",\", \"▁기계\", \"▁공학\", \",\", \"▁상업\", \"▁등에\", \"▁수학적\", \"▁개념\", \"들이\", \"▁응용\", \"되어\", \"왔다\", \".\", \"▁수학\", \"에서는\", \"▁예술\", \"에서\", \"▁그\", \"렇\", \"듯\", \"▁실용\", \"적\", \"▁고려\", \"를\", \"▁하지\", \"▁않으며\", \",\", \"▁거의\", \"▁모두\", \"▁실용\", \"성을\", \"▁가지지\", \"▁않지만\", \",\", \"▁극히\", \"▁일부\", \"▁실용적인\", \"▁부분\", \"도\", \"▁있다\", \".\", \"▁응용\", \"▁수학\", \"에서는\", \"▁이렇게\", \"▁수학\", \"을\", \"▁물리학\", \",\", \"▁화학\", \",\", \"▁생물학\", \",\", \"▁공학\", \",\", \"▁경제학\", \",\", \"▁사회학\", \"▁등\", \"▁다른\", \"▁학문\", \"에\", \"▁응용\", \"하는데\", \"▁관심이\", \"▁있다\", \".\", \"▁또한\", \"▁수학\", \"은\", \"▁음악\", \"이나\", \"▁미술\", \"▁등\", \"▁예술\", \"과\", \"도\", \"▁관련이\", \"▁있다\", \".\", \"▁피타고라스\", \"는\", \"▁두\", \"▁정수\", \"의\", \"▁비율이\", \"▁듣기\", \"▁좋은\", \"▁소리가\", \"▁난다\", \"는\", \"▁점을\", \"▁가지고\", \"▁피타고라스\", \"▁음\", \"계를\", \"▁만들었다\", \".\", \"▁중세\", \"시대에\", \"도\", \"▁음악과\", \"▁수학\", \"을\", \"▁밀접\", \"하게\", \"▁연관\", \"시켰으며\", \"▁성\", \"▁빅토르\", \"의\", \"▁후\", \"고\", \"는\", \"▁“\", \"음악\", \"은\", \"▁조화\", \"다\", \"”\", \"라고\", \"▁했고\", \",\", \"▁성\", \"▁\", \"트론\", \"드의\", \"▁루돌프\", \"는\", \"▁“\", \"음악\", \"은\", \"▁조화\", \"의\", \"▁토대\", \"(\", \"rat\", \"io\", \")\", \"다\", \"”\", \"라고\", \"▁쓴\", \"▁바\", \"▁있다\", \".\", \"▁조화\", \"가\", \"▁반드시\", \"▁소리\", \"로\", \"▁표현\", \"될\", \"▁필요\", \"는\", \"▁없고\", \"▁소리\", \"의\", \"▁음악은\", \"▁음악의\", \"▁형식\", \"▁중\"]}\n",
            "\n",
            "{\"token\": [\"▁오늘날\", \"▁수학\", \"은\", \"▁자연과학\", \",\", \"▁공학\", \"뿐만\", \"▁아니라\", \",\", \"▁경제학\", \"▁등의\", \"▁사회과학\", \"에서도\", \"▁중요한\", \"▁도구로\", \"▁사용된다\", \".\", \"▁예를\", \"들어\", \",\", \"▁정도의\", \"▁차이는\", \"▁있으나\", \",\", \"▁미\", \"적\", \"분\", \"학과\", \"▁선형\", \"대\", \"수학\", \"은\", \"▁자연과학\", \"과\", \"▁공학\", \",\", \"▁경제학\", \"을\", \"▁하는데\", \"에\", \"▁필수적\", \"▁과목\", \"으로\", \"▁여겨지며\", \",\", \"▁확률\", \"론은\", \"▁계량\", \"경제학\", \"에\", \"▁응용\", \"된다\", \".\", \"▁통계학\", \"은\", \"▁사회과학\", \"이론\", \"에\", \"▁근거\", \"를\", \"▁마련\", \"하는데\", \"▁필수적\", \"이다\", \".\", \"▁16\", \"세기에\", \"▁갈릴레오\", \"▁갈릴레이\", \"가\", \"▁\\\"\", \"자연\", \"이라는\", \"▁책은\", \"▁수학\", \"이라는\", \"▁언어로\", \"▁기록되어\", \"▁있다\", \".\", \"\\\"\", \"는\", \"▁주장\", \"과\", \"▁함께\", \"▁물리학\", \"에\", \"▁수학적\", \"▁방법을\", \"▁도입\", \"하였고\", \",\", \"▁17\", \"세기에\", \"▁아이작\", \"▁뉴턴\", \"이\", \"▁고전\", \"▁역학\", \"의\", \"▁기본\", \"▁물리학\", \"▁법칙\", \"들을\", \"▁수학적\", \"으로\", \"▁기술\", \"하고\", \"▁정립\", \"하여\", \"▁물리학\", \"▁이론에서\", \"▁수학적\", \"▁모델링\", \"은\", \"▁필수적\", \"▁요소가\", \"▁되었다\", \".\", \"▁또한\", \"▁이\", \"▁시기는\", \"▁과학적\", \"▁방법이\", \"▁정립\", \"되는\", \"▁시기\", \"이기도\", \"▁한\", \"데\", \",\", \"▁많은\", \"▁과학적\", \"▁현상\", \"들이\", \"▁수학적\", \"▁관계가\", \"▁있음\", \"이\", \"▁드러나\", \"면서\", \"▁과학적\", \"▁방법에\", \"도\", \"▁수학\", \"은\", \"▁중요한\", \"▁역할을\", \"▁하고\", \"▁있다\", \".\", \"▁노벨\", \"▁물리학\", \"상\", \"▁수상자\", \"▁유진\", \"▁위그\", \"너는\", \"▁그의\", \"▁에세이\", \"▁\\\"\", \"The\", \"▁\", \"un\", \"rea\", \"son\", \"able\", \"▁\", \"ef\", \"fe\", \"ctive\", \"ness\", \"▁of\", \"▁ma\", \"the\", \"matic\", \"s\", \"▁in\", \"▁n\", \"at\", \"ural\", \"▁s\", \"ci\", \"ence\", \"s\", \"\\\"\", \"에서\", \"▁인간\", \"▁세상\", \"과\", \"▁동\", \"떨\", \"어져\", \"있고\", \"▁현실\", \"과\", \"▁아무\", \"▁관련이\", \"▁없다고\", \"▁여겨\", \"지던\", \"▁수학\", \"▁중\", \"▁극히\", \"▁일부는\", \"▁뜻\", \"밖에\", \"도\", \"▁자연과학\", \"과\", \"▁연관성\", \"이\", \"▁드러나\", \"고\", \"▁과학\", \"이론\", \"에\", \"▁효과적인\", \"▁토대\", \"를\", \"▁마련\", \"해\", \"▁주\", \"는데\", \"에\", \"▁대한\", \"▁놀라\", \"움\", \"을\", \"▁표현하였다\", \".\", \"▁예를\", \"▁들어\", \",\", \"▁비유\", \"클리\", \"드\", \"기\", \"하\", \"와\", \"▁3\", \"차원\", \"▁이상의\", \"▁임의의\", \"▁차원에서\", \"▁기하학\", \"을\", \"▁탐구\", \"했던\", \"▁미분\", \"▁기하학\", \"은\", \"▁당시에는\", \"▁현실\", \"과\"]}\n",
            "\n",
            "{\"token\": [\"▁ma\", \"the\", \"matic\", \"s\", \"라는\", \"▁단어는\", \"▁'\", \"아는\", \"▁모든\", \"▁것\", \"'\", \"라는\", \"▁뜻의\", \"▁고대\", \"▁그리스어\", \"▁ma\", \"the\", \"mat\", \"ik\", \"os\", \"에서\", \"▁유래되었다\", \".\", \"▁줄여서\", \"▁ma\", \"th\", \"라고\", \"▁표현을\", \"하기도\", \"▁한다\", \".\", \"▁수학\", \"은\", \"▁기원전\", \"▁600\", \"년\", \"▁경\", \"에\", \"▁살았던\", \"▁탈\", \"레스\", \"로부터\", \"▁시작됐다\", \".\", \"▁하지만\", \"▁탈\", \"레스\", \"가\", \"▁태어나\", \"기\", \"▁전에\", \"도\", \"▁수학\", \"을\", \"▁연구\", \"한\", \"▁사람이\", \"▁있을\", \"▁수도\", \"▁있기\", \"▁때문에\", \"▁인류의\", \"▁역사와\", \"▁더불어\", \"▁시작되었다\", \"고\", \"▁할\", \"▁수\", \"▁있다\", \".\", \"▁교역\", \"•\", \"분\", \"배\", \"•\", \"과\", \"세\", \"▁등의\", \"▁인류의\", \"▁사회\", \"▁생활에\", \"▁필요한\", \"▁모든\", \"▁계산\", \"을\", \"▁수학\", \"이\", \"▁담당\", \"해\", \"▁\", \"왔고\", \",\", \"▁농경\", \"▁생활에\", \"▁필수적인\", \"▁천문\", \"▁관측\", \"과\", \"▁달력\", \"의\", \"▁제정\", \",\", \"▁토지\", \"의\", \"▁측량\", \"▁또한\", \"▁수학\", \"이\", \"▁직접적으로\", \"▁관여\", \"한\", \"▁분야\", \"이다\", \".\", \"▁고대\", \"▁수학\", \"을\", \"▁크게\", \"▁발전시킨\", \"▁나라\", \"로\", \"는\", \"▁이집트\", \",\", \"▁인도\", \",\", \"▁그리스\", \",\", \"▁중국\", \"▁등이\", \"▁있다\", \".\", \"▁그\", \"▁중에서도\", \"▁그리스\", \"는\", \"▁처음으로\", \"▁방정식\", \"에서\", \"▁변수\", \"를\", \"▁문자로\", \"▁쓴\", \"▁나라\", \"이다\", \".\", \"▁한국의\", \"▁수학\", \"은\", \"▁약\", \"▁1,500\", \"년\", \"▁전부터\", \"▁기록으로\", \"▁보이기\", \"▁시작한다\", \".\", \"▁신라\", \"▁시대에\", \"▁수학\", \"을\", \"▁가르\", \"쳤으며\", \",\", \"▁탈\", \"레스\", \"가\", \"▁최초로\", \"▁발견한\", \"▁일식\", \"과\", \"▁\", \"월\", \"식을\", \"▁예측\", \"할\", \"▁정도로\", \"▁발달\", \"했다\", \".\", \"▁조선\", \"▁시대에\", \"▁훈\", \"민\", \"정\", \"음을\", \"▁창\", \"제\", \"한\", \"▁세종\", \"▁대왕\", \"은\", \"▁집현전\", \"▁학자들\", \"에게\", \"▁수학\", \"▁연구를\", \"▁명\", \"하는\", \"▁등\", \",\", \"▁조선의\", \"▁수학\", \"▁수준을\", \"▁향상\", \"시키기\", \"▁위해서\", \"▁많은\", \"▁노력을\", \"▁기울였다\", \".\", \"▁하지만\", \"▁임진왜란\", \"으로\", \"▁많은\", \"▁서적\", \"들이\", \"▁불타\", \"고\", \",\", \"▁천문학\", \"▁분야에서\", \"▁큰\", \"▁손실을\", \"▁입었다\", \".\", \"▁조선\", \"▁후기의\", \"▁한국의\", \"▁수학\", \"은\", \"▁실\", \"학자들\", \"을\", \"▁중심으로\", \"▁다시\", \"▁발전\", \"하였고\", \",\", \"▁새로운\", \"▁결과\", \"도\", \"▁성취\", \"되었다\", \".\", \"▁수학\", \"의\", \"▁각\", \"▁분야\", \"들은\", \"▁상업\", \"에\", \"▁필요한\", \"▁계산\", \"을\"]}\n",
            "\n",
            "{\"token\": [\"▁산술\", \"은\", \"▁자연수\", \"와\", \"▁정수\", \"▁및\", \"▁이에\", \"▁대한\", \"▁사\", \"칙\", \"연\", \"산에\", \"▁대한\", \"▁연구\", \"로서\", \"▁시작했다\", \".\", \"▁수\", \"론은\", \"▁이런\", \"▁주제\", \"들을\", \"▁보다\", \"▁깊게\", \"▁다루는\", \"▁학문\", \"으로\", \",\", \"▁그\", \"▁결과로\", \"는\", \"▁페르\", \"마\", \"의\", \"▁마지막\", \"▁정리\", \"▁등이\", \"▁유명하다\", \".\", \"▁또한\", \"▁쌍둥이\", \"▁소수\", \"▁추측\", \"과\", \"▁골드\", \"바흐\", \"▁추측\", \"▁등을\", \"▁비롯해\", \"▁오랜\", \"▁세월\", \"▁동안\", \"▁해결\", \"되지\", \"▁않고\", \"▁남아있는\", \"▁문제들\", \"도\", \"▁여럿\", \"▁있다\", \".\", \"▁수\", \"의\", \"▁체계\", \"가\", \"▁보다\", \"▁발전\", \"하면서\", \",\", \"▁정수\", \"의\", \"▁집합\", \"을\", \"▁유리\", \"수의\", \"▁집합\", \"의\", \"▁부분\", \"집합\", \"으로\", \"▁여기\", \"게\", \"▁되었다\", \".\", \"▁또한\", \"▁유리\", \"수의\", \"▁집합\", \"은\", \"▁실수\", \"의\", \"▁집합\", \"의\", \"▁부분\", \"집합\", \"이며\", \",\", \"▁이는\", \"▁또다시\", \"▁복소수\", \"▁집합\", \"의\", \"▁일부분\", \"으로\", \"▁볼\", \"▁수\", \"▁있다\", \".\", \"▁여기에서\", \"▁더\", \"▁나아가\", \"면\", \"▁사원\", \"수와\", \"▁팔\", \"원수\", \"▁등의\", \"▁개념을\", \"▁생각할\", \"▁수도\", \"▁있다\", \".\", \"▁이와\", \"는\", \"▁약간\", \"▁다른\", \"▁방향으로\", \",\", \"▁자연수\", \"를\", \"▁무한\", \"대\", \"까지\", \"▁세\", \"어\", \"나간다\", \"는\", \"▁개념을\", \"▁형식\", \"화\", \"하여\", \"▁순서\", \"수의\", \"▁개념을\", \"▁얻으며\", \",\", \"▁집합\", \"의\", \"▁크기\", \"▁비교\", \"를\", \"▁이용하여\", \"▁무한\", \"대를\", \"▁다루기\", \"▁위한\", \"▁또다른\", \"▁방법으로\", \"는\", \"▁기수\", \"의\", \"▁개념\", \"도\", \"▁있다\", \".\", \"▁수\", \"▁대신\", \"▁문자를\", \"▁써서\", \"▁문제\", \"해\", \"결\", \"을\", \"▁쉽게\", \"▁하는\", \"▁것과\", \",\", \"▁마찬가지로\", \"▁수학적\", \"▁법칙을\", \"▁일반\", \"적이고\", \"▁간\", \"명\", \"하게\", \"▁나타내는\", \"▁것을\", \"▁포함한다\", \".\", \"▁고전\", \"대\", \"수학\", \"은\", \"▁대수\", \"방정식\", \"▁및\", \"▁연립\", \"방정식\", \"의\", \"▁해\", \"법\", \"에서\", \"▁시작하여\", \"▁군\", \",\", \"▁환\", \",\", \"▁체\", \"▁등의\", \"▁추상\", \"대\", \"수학\", \"을\", \"▁거쳐\", \"▁현대에\", \"▁와서\", \"는\", \"▁대수\", \"계의\", \"▁구조를\", \"▁보는\", \"▁것을\", \"▁중심으로\", \"▁하는\", \"▁선형\", \"대\", \"수학\", \"으로\", \"▁전개\", \"되었다\", \".\", \"▁수\", \"의\", \"▁집합\", \"이나\", \"▁함수\", \"와\", \"▁같은\", \"▁많은\", \"▁수학적\", \"▁대상\", \"들은\", \"▁내재\", \"적인\", \"▁구조를\", \"▁보인다\", \".\", \"▁이러한\", \"▁대상\", \"들의\", \"▁구조적\", \"▁특성\", \"들이\", \"▁군\", \"론\"]}\n",
            "\n",
            "{\"token\": [\"▁공간에\", \"▁대한\", \"▁연구는\", \"▁기하학\", \"에서\", \"▁시작되었고\", \",\", \"▁특히\", \"▁유클리드\", \"▁기하학\", \"에서\", \"▁비롯되었다\", \".\", \"▁삼각\", \"법은\", \"▁공간\", \"과\", \"▁수\", \"들을\", \"▁결합\", \"하였고\", \",\", \"▁잘\", \"▁알려진\", \"▁피타고라스\", \"의\", \"▁정리\", \"를\", \"▁포함한다\", \".\", \"▁현대에\", \"▁와서\", \"▁공간에\", \"▁대한\", \"▁연구는\", \",\", \"▁이러한\", \"▁개념\", \"들은\", \"▁더\", \"▁높은\", \"▁차원\", \"의\", \"▁기하학\", \"을\", \"▁다루기\", \"▁위해\", \"▁비유\", \"클리\", \"드\", \"▁기하학\", \"(\", \"상대\", \"성이\", \"론에서\", \"▁핵심적인\", \"▁역할을\", \"▁함\", \")\", \"과\", \"▁위상수학\", \"으로\", \"▁일반화\", \"되었다\", \".\", \"▁수\", \"론과\", \"▁공간에\", \"▁대한\", \"▁이해\", \"는\", \"▁모두\", \"▁해석\", \"▁기하학\", \",\", \"▁미분\", \"기하학\", \",\", \"▁대수\", \"기하학\", \"에\", \"▁중요한\", \"▁역할을\", \"▁한다\", \".\", \"▁리\", \"▁군도\", \"▁공간\", \"과\", \"▁구조\", \",\", \"▁변화를\", \"▁다루는\", \"데\", \"▁사용된다\", \".\", \"▁위상수학\", \"은\", \"▁20\", \"세기\", \"▁수학\", \"의\", \"▁다양한\", \"▁지류\", \"속에서\", \"▁\", \"괄\", \"목\", \"할만한\", \"▁성장을\", \"▁한\", \"▁분야\", \"이며\", \",\", \"▁푸\", \"앵\", \"카\", \"레\", \"▁추측\", \"과\", \"▁인간\", \"에\", \"▁의해서\", \"▁증명\", \"되지\", \"▁못하고\", \"▁오직\", \"▁컴퓨터\", \"로\", \"만\", \"▁증명\", \"된\", \"▁4\", \"색\", \"정리\", \"를\", \"▁포함한다\", \".\", \"▁변화에\", \"▁대한\", \"▁이해\", \"와\", \"▁묘사\", \"는\", \"▁자연과학\", \"에\", \"▁있어서\", \"▁일반적인\", \"▁주제\", \"이며\", \",\", \"▁미\", \"적\", \"분\", \"학은\", \"▁변화를\", \"▁탐구\", \"하는\", \"▁강력한\", \"▁도구\", \"로서\", \"▁발전\", \"되었다\", \".\", \"▁함수는\", \"▁변화하는\", \"▁양\", \"을\", \"▁묘사\", \"함에\", \"▁있어서\", \"▁중추\", \"적인\", \"▁개념\", \"으로써\", \"▁떠오르\", \"게\", \"▁된다\", \".\", \"▁실수\", \"와\", \"▁실\", \"변수\", \"로\", \"▁구성된\", \"▁함수의\", \"▁엄\", \"밀\", \"한\", \"▁탐구\", \"가\", \"▁실\", \"해석학\", \"이라는\", \"▁분야로\", \"▁알려지게\", \"▁되었고\", \",\", \"▁복소수\", \"에\", \"▁대한\", \"▁이와\", \"▁같은\", \"▁탐구\", \"▁분야\", \"는\", \"▁복소\", \"해석학\", \"이라고\", \"▁한다\", \".\", \"▁함수\", \"해석학\", \"은\", \"▁함수의\", \"▁공간\", \"(\", \"특히\", \"▁무한\", \"차원\", \")\", \"의\", \"▁탐구\", \"에\", \"▁주목\", \"한다\", \".\", \"▁함수\", \"해석학\", \"의\", \"▁많은\", \"▁응용\", \"분야\", \"▁중\", \"▁하나가\", \"▁양자역학\", \"이다\", \".\", \"▁많은\", \"▁문제들\", \"이\", \"▁자연스럽게\", \"▁양\", \"과\", \"▁그\", \"▁양의\", \"▁변화\", \"율\", \"의\", \"▁관계로\", \"▁귀\", \"착\", \"되고\", \",\", \"▁이러한\"]}\n",
            "\n",
            "{\"token\": [\"▁수학\", \"의\", \"▁기초를\", \"▁확실히\", \"▁세우기\", \"▁위해\", \",\", \"▁수리\", \"논리\", \"학과\", \"▁집합론\", \"이\", \"▁발전\", \"하였고\", \",\", \"▁이와\", \"▁더불어\", \"▁범주\", \"론이\", \"▁최근에\", \"도\", \"▁발전\", \"되고\", \"▁있다\", \".\", \"▁“\", \"근\", \"본\", \"▁위기\", \"”\", \"라는\", \"▁말은\", \"▁대략\", \"▁1900\", \"년\", \"에서\", \"▁1930\", \"년\", \"▁사이에\", \"▁일어난\", \",\", \"▁수학\", \"의\", \"▁엄\", \"밀\", \"한\", \"▁기초\", \"에\", \"▁대한\", \"▁탐구\", \"를\", \"▁상징적\", \"으로\", \"▁보여주는\", \"▁말이다\", \".\", \"▁수학\", \"의\", \"▁엄\", \"밀\", \"한\", \"▁기초\", \"에\", \"▁대한\", \"▁몇\", \"▁가지\", \"▁의견\", \"▁불일치\", \"는\", \"▁오늘날에도\", \"▁계속되고\", \"▁있다\", \".\", \"▁수학\", \"의\", \"▁기초\", \"에\", \"▁대한\", \"▁위기\", \"는\", \"▁그\", \"▁당시\", \"▁수많은\", \"▁논쟁\", \"에\", \"▁의해\", \"▁촉발\", \"되었으며\", \",\", \"▁그\", \"▁논쟁\", \"에는\", \"▁칸\", \"토\", \"어의\", \"▁집합론\", \"과\", \"▁\", \"브라우\", \"어\", \"-\", \"힐\", \"베르트\", \"▁논쟁이\", \"▁포함되었다\", \".\"]}\n",
            "\n"
          ],
          "name": "stdout"
        },
        {
          "output_type": "execute_result",
          "data": {
            "text/plain": [
              "778381"
            ]
          },
          "metadata": {
            "tags": []
          },
          "execution_count": 17
        }
      ]
    },
    {
      "cell_type": "markdown",
      "metadata": {
        "id": "L2vJmIBt3-ci"
      },
      "source": [
        "# All Data Project"
      ]
    },
    {
      "cell_type": "markdown",
      "metadata": {
        "id": "_dBAGBHE3-ck"
      },
      "source": [
        "## Data\n"
      ]
    },
    {
      "cell_type": "code",
      "metadata": {
        "id": "X7Jbbcdm3-ck"
      },
      "source": [
        "def load_data(vocab, n_seq):\n",
        "    \"\"\"\n",
        "    Language Model 학습 데이터 생성\n",
        "    :param vocab: vocabulary object\n",
        "    :param n_seq: number of sequence\n",
        "    :return inputs_1: input data 1\n",
        "    :return inputs_2: input data 2\n",
        "    :return labels: label data\n",
        "    \"\"\"\n",
        "    # line 수 조회\n",
        "    n_line = 0\n",
        "    with open(os.path.join(kowiki_dir, 'kowiki_lm.json')) as f:\n",
        "        for line in f:\n",
        "            n_line += 1\n",
        "    # 최대 100,000개 데이터\n",
        "    n_data = min(n_line, 100000)\n",
        "    # 빈 데이터 생성\n",
        "    inputs = np.zeros((n_data, n_seq)).astype(np.int32)\n",
        "    labels = np.zeros((n_data, n_seq)).astype(np.int32)\n",
        "\n",
        "    with open(os.path.join(kowiki_dir, 'kowiki_lm.json')) as f:\n",
        "        for i, line in enumerate(tqdm(f, total=n_data)):\n",
        "            if i >= n_data:\n",
        "                break\n",
        "            data = json.loads(line)\n",
        "            token_id = [vocab.piece_to_id(p) for p in data['token']]\n",
        "            # input id\n",
        "            input_id = [vocab.bos_id()] + token_id\n",
        "            input_id += [0] * (n_seq - len(input_id))\n",
        "            # label id\n",
        "            label_id = token_id + [vocab.eos_id()]\n",
        "            label_id += [0] * (n_seq - len(label_id))\n",
        "            # 값 저장\n",
        "            inputs[i] = input_id\n",
        "            labels[i] = label_id\n",
        "\n",
        "    return inputs, labels"
      ],
      "execution_count": 18,
      "outputs": []
    },
    {
      "cell_type": "code",
      "metadata": {
        "id": "w3P_qk633-cl",
        "colab": {
          "base_uri": "https://localhost:8080/",
          "height": 301,
          "referenced_widgets": [
            "86d752f8a00d4c459aa7dea7fe4f3d5c",
            "f9420a0743f14493a7d4f7b0380e04af",
            "7c292d2882c0470f913b74ae2fe81adf",
            "488f1fb3b6e14b6a8610b3215a7df534",
            "433a3dc4c9b44d06bff3c18fb9a58d87",
            "aab454436c094a679cbb10318d579820",
            "f894b03e4bd94bf9a0643e04d55c7d2b",
            "1913d647b3924540a15af1c7350cbd1a"
          ]
        },
        "outputId": "24f2d256-9ed9-4741-fa6d-229f9a5645be"
      },
      "source": [
        "# train data 생성\n",
        "train_inputs, train_labels = load_data(vocab, n_seq)\n",
        "train_inputs, train_labels"
      ],
      "execution_count": 19,
      "outputs": [
        {
          "output_type": "display_data",
          "data": {
            "application/vnd.jupyter.widget-view+json": {
              "model_id": "86d752f8a00d4c459aa7dea7fe4f3d5c",
              "version_minor": 0,
              "version_major": 2
            },
            "text/plain": [
              "HBox(children=(FloatProgress(value=0.0, max=100000.0), HTML(value='')))"
            ]
          },
          "metadata": {
            "tags": []
          }
        },
        {
          "output_type": "execute_result",
          "data": {
            "text/plain": [
              "(array([[    2, 14473, 14639, ...,    24,   112,  6087],\n",
              "        [    2,   138,   931, ...,   167,  8945,    59],\n",
              "        [    2, 12780,    82, ...,    16,  2194,    43],\n",
              "        ...,\n",
              "        [    2,  7635,    47, ...,  8202,    16,   857],\n",
              "        [    2, 22576,   156, ..., 17847,     1,  1030],\n",
              "        [    2,   325, 14342, ...,    89,    23,   628]], dtype=int32),\n",
              " array([[14473, 14639,  2033, ...,   112,  6087,     3],\n",
              "        [  138,   931,  6428, ...,  8945,    59,     3],\n",
              "        [12780,    82,  3392, ...,  2194,    43,     3],\n",
              "        ...,\n",
              "        [ 7635,    47, 10990, ...,    16,   857,     3],\n",
              "        [22576,   156,  9254, ...,     1,  1030,     3],\n",
              "        [  325, 14342,  9766, ...,    23,   628,     3]], dtype=int32))"
            ]
          },
          "metadata": {
            "tags": []
          },
          "execution_count": 19
        }
      ]
    },
    {
      "cell_type": "markdown",
      "metadata": {
        "id": "MFWK8EvH3-cp"
      },
      "source": [
        "## Loss & Acc"
      ]
    },
    {
      "cell_type": "code",
      "metadata": {
        "id": "3cpcM1MW3-cp"
      },
      "source": [
        "def lm_loss(y_true, y_pred):\n",
        "    \"\"\"\n",
        "    pad 부분을 제외하고 loss를 계산하는 함수\n",
        "    :param y_true: 정답\n",
        "    :param y_pred: 예측 값\n",
        "    :retrun loss: pad 부분이 제외된 loss 값\n",
        "    \"\"\"\n",
        "    loss = tf.keras.losses.SparseCategoricalCrossentropy(reduction=tf.keras.losses.Reduction.NONE)(y_true, y_pred)\n",
        "    mask = tf.not_equal(y_true, 0)\n",
        "    mask = tf.cast(mask, tf.float32)\n",
        "    loss *= mask\n",
        "    return loss"
      ],
      "execution_count": 20,
      "outputs": []
    },
    {
      "cell_type": "code",
      "metadata": {
        "id": "Xt7wUUf53-cp"
      },
      "source": [
        "def lm_acc(y_true, y_pred):\n",
        "    \"\"\"\n",
        "    pad 부분을 제외하고 accuracy를 계산하는 함수\n",
        "    :param y_true: 정답\n",
        "    :param y_pred: 예측 값\n",
        "    :retrun loss: pad 부분이 제외된 accuracy 값\n",
        "    \"\"\"\n",
        "    y_true = tf.cast(y_true, tf.float32)\n",
        "    y_pred_class = tf.cast(tf.argmax(y_pred, axis=-1), tf.float32)\n",
        "    matches = tf.cast(tf.equal(y_true, y_pred_class), tf.float32)\n",
        "    mask = tf.not_equal(y_true, 0)\n",
        "    mask = tf.cast(mask, tf.float32)\n",
        "    matches *= mask\n",
        "    accuracy = tf.reduce_sum(matches) / tf.maximum(tf.reduce_sum(mask), 1)\n",
        "    return accuracy"
      ],
      "execution_count": 21,
      "outputs": []
    },
    {
      "cell_type": "code",
      "metadata": {
        "id": "gwX7MNFp-6q7"
      },
      "source": [
        "model = build_model(len(vocab), d_model, n_seq)"
      ],
      "execution_count": 23,
      "outputs": []
    },
    {
      "cell_type": "markdown",
      "metadata": {
        "id": "g2rxLFrL3-cq"
      },
      "source": [
        "## 학습"
      ]
    },
    {
      "cell_type": "code",
      "metadata": {
        "id": "E45XLFFC3-cq"
      },
      "source": [
        "# 모델 loss, optimizer, metric 정의\n",
        "model.compile(loss=lm_loss, optimizer='adam', metrics=[lm_acc])"
      ],
      "execution_count": 24,
      "outputs": []
    },
    {
      "cell_type": "code",
      "metadata": {
        "id": "Js_YBU2l3-cq"
      },
      "source": [
        "# early stopping\n",
        "early_stopping = tf.keras.callbacks.EarlyStopping(monitor='lm_acc', patience=50)\n",
        "# save weights callback\n",
        "save_weights = tf.keras.callbacks.ModelCheckpoint(os.path.join(kowiki_dir, 'lm.hdf5'),\n",
        "                                                  monitor='lm_acc',\n",
        "                                                  verbose=1,\n",
        "                                                  save_best_only=True,\n",
        "                                                  mode=\"max\",\n",
        "                                                  save_freq=\"epoch\",\n",
        "                                                  save_weights_only=True)\n",
        "# csv logger\n",
        "csv_logger = tf.keras.callbacks.CSVLogger(os.path.join(kowiki_dir, 'lm.csv'))"
      ],
      "execution_count": 25,
      "outputs": []
    },
    {
      "cell_type": "code",
      "metadata": {
        "id": "mQqvywUG3-cq",
        "colab": {
          "base_uri": "https://localhost:8080/"
        },
        "outputId": "a1fcaab4-3512-4b7f-aece-4d7a0d33f55e"
      },
      "source": [
        "# 모델 학습\n",
        "history = model.fit(train_inputs,\n",
        "                    train_labels,\n",
        "                    epochs=2,\n",
        "                    batch_size=64,\n",
        "                    callbacks=[early_stopping, save_weights, csv_logger])"
      ],
      "execution_count": 26,
      "outputs": [
        {
          "output_type": "stream",
          "text": [
            "Epoch 1/2\n",
            "1563/1563 [==============================] - 1323s 841ms/step - loss: 6.0910 - lm_acc: 0.0725\n",
            "\n",
            "Epoch 00001: lm_acc improved from -inf to 0.10209, saving model to /content/drive/MyDrive/Data/nlp/kowiki/lm.hdf5\n",
            "Epoch 2/2\n",
            "1563/1563 [==============================] - 1342s 859ms/step - loss: 4.8426 - lm_acc: 0.1454\n",
            "\n",
            "Epoch 00002: lm_acc improved from 0.10209 to 0.15230, saving model to /content/drive/MyDrive/Data/nlp/kowiki/lm.hdf5\n"
          ],
          "name": "stdout"
        }
      ]
    },
    {
      "cell_type": "code",
      "metadata": {
        "id": "EttHWg_w3-cr",
        "colab": {
          "base_uri": "https://localhost:8080/",
          "height": 279
        },
        "outputId": "4eae3e3e-e005-4788-8383-17a3596c0107"
      },
      "source": [
        "plt.figure(figsize=(12, 4))\n",
        "\n",
        "plt.subplot(1, 2, 1)\n",
        "plt.plot(history.history['loss'], 'b-', label='loss')\n",
        "plt.xlabel('Epoch')\n",
        "plt.legend()\n",
        "\n",
        "plt.subplot(1, 2, 2)\n",
        "plt.plot(history.history['lm_acc'], 'g-', label='acc')\n",
        "plt.xlabel('Epoch')\n",
        "plt.legend()\n",
        "\n",
        "plt.show()"
      ],
      "execution_count": 27,
      "outputs": [
        {
          "output_type": "display_data",
          "data": {
            "image/png": "[encoded data removed]",
            "text/plain": [
              "<Figure size 864x288 with 2 Axes>"
            ]
          },
          "metadata": {
            "tags": [],
            "needs_background": "light"
          }
        }
      ]
    },
    {
      "cell_type": "markdown",
      "metadata": {
        "id": "rfTrHA3v3-cr"
      },
      "source": [
        "## Inference"
      ]
    },
    {
      "cell_type": "code",
      "metadata": {
        "id": "DSh7XdUg3-cr"
      },
      "source": [
        "# 모델 생성\n",
        "model = build_model(len(vocab), d_model, n_seq)\n",
        "# train weight로 초기화\n",
        "model.load_weights(os.path.join(kowiki_dir, 'lm.hdf5'))"
      ],
      "execution_count": 28,
      "outputs": []
    },
    {
      "cell_type": "code",
      "metadata": {
        "id": "nDtLZD4K3-cr"
      },
      "source": [
        "def do_next(vocab, model, n_seq, string):\n",
        "    \"\"\"\n",
        "    다음단어 예측\n",
        "    :param vocab: vocab\n",
        "    :param model: model\n",
        "    :param n_seq: number of seqence\n",
        "    :param string: inpust string\n",
        "    \"\"\"\n",
        "    n_max = n_seq - 1\n",
        "    \n",
        "    tokens = vocab.encode_as_pieces(string)\n",
        "    start_idx = len(tokens)\n",
        "    token_id = [vocab.piece_to_id(p) for p in tokens][:n_max]\n",
        "    token_id = [vocab.bos_id()] + token_id\n",
        "    token_id += [0] * (n_seq - len(token_id))\n",
        "    assert len(token_id) == n_seq\n",
        "\n",
        "    result = model.predict(np.array([token_id]))\n",
        "    prob = result[0][start_idx]\n",
        "    max_args = np.argsort(prob)[-10:]\n",
        "    max_args = list(max_args)\n",
        "    max_args.reverse()\n",
        "\n",
        "    next_prob = []\n",
        "    for i in max_args:\n",
        "        w = vocab.id_to_piece(int(i))\n",
        "        p = prob[i]\n",
        "        next_prob.append((w, p))\n",
        "    return next_prob"
      ],
      "execution_count": 29,
      "outputs": []
    },
    {
      "cell_type": "code",
      "metadata": {
        "id": "-_QF5gIm3-cr",
        "colab": {
          "base_uri": "https://localhost:8080/"
        },
        "outputId": "bb9b7246-3e8c-4bb0-a3e7-4d541ade4068"
      },
      "source": [
        "while True:\n",
        "    string = input('시작 문장 > ')\n",
        "    string = string.strip()\n",
        "    if len(string) == 0:\n",
        "        break\n",
        "    next_prob = do_next(vocab, model, n_seq, string)\n",
        "    for w, p in next_prob:\n",
        "        print(f'{w}: {p}')\n",
        "    print()"
      ],
      "execution_count": 30,
      "outputs": [
        {
          "output_type": "stream",
          "text": [
            "시작 문장 > 대한민국\n",
            "▁헌법: 0.05478911101818085\n",
            "▁제: 0.032357607036828995\n",
            "▁정부는: 0.024823246523737907\n",
            "은: 0.015107408165931702\n",
            "▁정부: 0.014642467722296715\n",
            "▁국군: 0.01396095845848322\n",
            "▁국방부: 0.011860060505568981\n",
            "▁최초의: 0.011012192815542221\n",
            "▁국회: 0.009622103534638882\n",
            "▁육군: 0.009149265475571156\n",
            "\n",
            "시작 문장 > 다람쥐\n",
            "(: 0.04938340559601784\n",
            "의: 0.04681369289755821\n",
            "는: 0.037571314722299576\n",
            "▁(: 0.02648170292377472\n",
            "가: 0.025886284187436104\n",
            "▁: 0.024559764191508293\n",
            "인: 0.02018258161842823\n",
            ",: 0.018994467332959175\n",
            "어: 0.01481832005083561\n",
            "도: 0.014617370441555977\n",
            "\n",
            "시작 문장 > 지포스\n",
            "의: 0.04999122768640518\n",
            "는: 0.04031429812312126\n",
            "(: 0.021429557353258133\n",
            "▁(: 0.013030151836574078\n",
            "가: 0.011248546652495861\n",
            "▁: 0.009893360547721386\n",
            "시: 0.009422429837286472\n",
            "▁2: 0.00825416762381792\n",
            "도: 0.007664835080504417\n",
            "스: 0.007534665986895561\n",
            "\n",
            "시작 문장 > 인공지능\n",
            "은: 0.08521765470504761\n",
            "의: 0.053971435874700546\n",
            "과: 0.049888502806425095\n",
            "을: 0.040160831063985825\n",
            "(: 0.02652202732861042\n",
            "이: 0.023366721346974373\n",
            "에서: 0.019473670050501823\n",
            "에: 0.017363060265779495\n",
            "▁(: 0.014412387274205685\n",
            "으로: 0.005924307741224766\n",
            "\n",
            "시작 문장 > 국방부\n",
            "는: 0.33566465973854065\n",
            "의: 0.08894762396812439\n",
            "(: 0.026069801300764084\n",
            "와: 0.01832062192261219\n",
            "▁장관: 0.016182560473680496\n",
            "가: 0.015106062404811382\n",
            "에: 0.014834835194051266\n",
            "에서: 0.01120790559798479\n",
            "를: 0.010708492249250412\n",
            "도: 0.00926839467138052\n",
            "\n",
            "시작 문장 > 대한민국\n",
            "▁헌법: 0.05478911101818085\n",
            "▁제: 0.032357607036828995\n",
            "▁정부는: 0.024823246523737907\n",
            "은: 0.015107408165931702\n",
            "▁정부: 0.014642467722296715\n",
            "▁국군: 0.01396095845848322\n",
            "▁국방부: 0.011860060505568981\n",
            "▁최초의: 0.011012192815542221\n",
            "▁국회: 0.009622103534638882\n",
            "▁육군: 0.009149265475571156\n",
            "\n",
            "시작 문장 > 컴퓨터\n",
            "는: 0.058532774448394775\n",
            "의: 0.052204430103302\n",
            "를: 0.021751515567302704\n",
            "와: 0.018114423379302025\n",
            "에: 0.017853351309895515\n",
            "가: 0.015138935297727585\n",
            "에서: 0.014205718412995338\n",
            "▁(: 0.013949873857200146\n",
            "▁: 0.011847348883748055\n",
            "(: 0.009209582582116127\n",
            "\n",
            "시작 문장 > 주식\n",
            "의: 0.07568066567182541\n",
            "은: 0.06866475194692612\n",
            "을: 0.05701146647334099\n",
            "이: 0.03273078054189682\n",
            "과: 0.029393959790468216\n",
            "에: 0.01948842778801918\n",
            "으로: 0.01787487417459488\n",
            "(: 0.01573525182902813\n",
            "에서: 0.009622377343475819\n",
            "▁(: 0.009418727830052376\n",
            "\n",
            "시작 문장 > \n"
          ],
          "name": "stdout"
        }
      ]
    },
    {
      "cell_type": "code",
      "metadata": {
        "id": "PJ2JSeaK3-cr"
      },
      "source": [
        "def do_generate(vocab, model, n_seq, string):\n",
        "    \"\"\"\n",
        "    문장생성\n",
        "    :param vocab: vocab\n",
        "    :param model: model\n",
        "    :param n_seq: number of seqence\n",
        "    :param string: inpust string\n",
        "    \"\"\"\n",
        "    n_max = n_seq - 1\n",
        "    tokens = vocab.encode_as_pieces(string)\n",
        "    start_idx = len(tokens)\n",
        "    token_id = [vocab.piece_to_id(p) for p in tokens][:n_max]\n",
        "    token_id = [vocab.bos_id()] + token_id\n",
        "    token_id += [0] * (n_seq - len(token_id))\n",
        "    assert len(token_id) == n_seq\n",
        "\n",
        "    for _ in range(start_idx, n_seq - 1):\n",
        "        outputs = model.predict(np.array([token_id]))\n",
        "        prob = outputs[0][start_idx]\n",
        "        word_id = int(np.random.choice(len(vocab), 1, p=prob)[0])\n",
        "        # word_id = np.argmax(prob)\n",
        "        if word_id == vocab.eos_id():\n",
        "            break\n",
        "        token_id[start_idx + 1] = word_id\n",
        "        start_idx += 1\n",
        "    predict_id = token_id[1:start_idx + 1]\n",
        "    predict_str = vocab.decode_ids(predict_id)\n",
        "    return predict_str"
      ],
      "execution_count": 31,
      "outputs": []
    },
    {
      "cell_type": "code",
      "metadata": {
        "id": "ts-fnAO73-cs",
        "colab": {
          "base_uri": "https://localhost:8080/"
        },
        "outputId": "f9b578f5-1e7e-4564-b597-2563bd309804"
      },
      "source": [
        "while True:\n",
        "    string = input('시작 문장 > ')\n",
        "    string = string.strip()\n",
        "    if len(string) == 0:\n",
        "        break\n",
        "    predict_str = do_generate(vocab, model, n_seq, string)\n",
        "    print(predict_str)"
      ],
      "execution_count": 32,
      "outputs": [
        {
          "output_type": "stream",
          "text": [
            "시작 문장 > 대한민국\n",
            "대한민국 30세기 경 지진치는 대한민국 경기도 파주시 신입생공주가 1969년에 졸업하였다. 1996년, 닌텐도 포드 1세가 되었다. 동유럽으로부터 처음으로 이룬 국제학회 운동이 예상되자, 완전우는 주로 지구로부터 박관을 통해 영가었으며, 프랑스의 《알치 TV》에서 출발,66 마일(18101이하), 18; 원래 세계 최초의 한 명의 거물이다. 롱사기로는 자신의 근거지로 발견되었다. 아돌리아프가 시카고 II의 협주곡 메이텔다, 성우이라고 불릴 정도로 문서와 별들의 전통적으로팽기를 피하기 위해 율곡에도 노래를 대딛고 왔는데 이것이 결혼한천년에 주로 신체적 형식으로 찾아볼 수 있었다. ‘성우》(지)은 일본어부는 코만(硬프)와, 삼중기록을 이루는 것을 의미한다. 이 악기는 그리스도교 요리(선 안에 들어가는 도덕자이다)인 '구조속의 민요 닮은 블랙홀'와 언어의 여러해살이풀이다. 카빗은 IPDre with 이름이다. 이들은 뒤이어 론더의 표기되는 회의이다. 그아 프로세스는 슈롤이 수면 칼로르베틱 아이돌게이넷 인에 비해 다양한 학문에 도움이 되는 의학 물질과 관계를 좀 더 원시적인 정보를 띈 기본 번역이다. 그러나 그 이론에 대해서는 소행성판의 슈퍼 기타 지브레 상점을\n",
            "시작 문장 > 컴퓨터\n",
            "컴퓨터의 배우들(PKry, Sogehuend, 몇몇 종이)이란 용어는 로버트 츠아르스 북쪽에 비슷한 방식의 속도로 인하여 효율된 제품인 집단의 디스크지와 현악 아메리카의 땅의 별들이 있으며, 자체 형태이다. 지붕은 과학과 표지 물의 적극적 가능하다. 홍콩 교외어의 판매 체제에서 있다. 인터넷은 AkgNF를 쓴다.\n",
            "시작 문장 > 인공지능\n",
            "인공지능이 조선 사감리에 덮여려맞게 되었으며, 서재필의 장례식에 대한 고인 진안국민학교의 덕프렌형 학생들 《플루탱 필이 무엇인가》에 수필이 되었다. 민선 12회, 전공 평판(4mi)으로 보도되어, 900년대 249년까지 다양한 파란색 외(水東) 안푸집과 관리하고 있는데 4대 시절(保午郎榜)의 기사행동이었다. 숨어 있는 동안 바둑 나는 일에 공통분을 사용한 것으로 추정된다. 정확리의 공로로 자망이 높았다. 가상의 음악 소설 상위성 5부작에서는 이 공적으로 의도적으로 영입하고 우울을 권위를 피외받기 시작했다. 이를 통해 이를 싫어한 각종 음악학자라는 밥 모양의깔을 사용하며 서울은 단군어귀와 음악이며 예비역으로 편의 받아 이 곳에서 선하는 오로지를 돋보로 인식하는 것을 유도하기 위해 대중들에게 된 영광이 실려 있는 작업아이 계층을 창간하여 <(1996’의 탄소조합회사와 두가 정리한 것이다. 모친의 관심은 16일, 총 3개의도 시청자들 사이에서 아니면 장행조치후에 4선 후반이라는 면에서 그것이 멈추지 않고 특이하게 되었다. 안티에 대한 칠이나 에 연속한 당원들에게도형 확장운동의 바탕을 일삼았다. 《도도》(\"유드엄곡\n",
            "시작 문장 > \n"
          ],
          "name": "stdout"
        }
      ]
    },
    {
      "cell_type": "code",
      "metadata": {
        "id": "42LXV8BN_NMJ"
      },
      "source": [
        ""
      ],
      "execution_count": 32,
      "outputs": []
    }
  ]
}